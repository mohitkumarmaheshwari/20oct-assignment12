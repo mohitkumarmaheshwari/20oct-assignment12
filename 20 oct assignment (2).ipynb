{
 "cells": [
  {
   "cell_type": "code",
   "execution_count": 6,
   "id": "b205918f-1b19-4f98-ae66-d87be16720be",
   "metadata": {},
   "outputs": [],
   "source": [
    "#constructor"
   ]
  },
  {
   "cell_type": "markdown",
   "id": "88ff30c5-49e0-433e-ba7a-492b5f638d5a",
   "metadata": {},
   "source": [
    "q1"
   ]
  },
  {
   "cell_type": "code",
   "execution_count": 7,
   "id": "03bc7b4d-f7b0-474a-bffc-22d97283eba5",
   "metadata": {},
   "outputs": [],
   "source": [
    "#In Python, a constructor is a special method that gets called when an object is instantiated from a class. It is used to initialize the object's attributes. The constructor method is named __init__() and is defined within a class. When you create an instance of a class (i.e., an object), the __init__() method of that class is automatically called."
   ]
  },
  {
   "cell_type": "code",
   "execution_count": 8,
   "id": "c7f735bd-8bac-4b01-b6b0-8ebbe91a5702",
   "metadata": {},
   "outputs": [
    {
     "name": "stdout",
     "output_type": "stream",
     "text": [
      "Toyota\n",
      "Corolla\n"
     ]
    }
   ],
   "source": [
    "class Car:\n",
    "    def __init__(self, make, model):\n",
    "        self.make = make\n",
    "        self.model = model\n",
    "\n",
    "# Creating an instance of the Car class and calling the constructor\n",
    "my_car = Car(\"Toyota\", \"Corolla\")\n",
    "\n",
    "print(my_car.make)  # Output: Toyota\n",
    "print(my_car.model)  # Output: Corolla\n"
   ]
  },
  {
   "cell_type": "code",
   "execution_count": 9,
   "id": "118502da-ef49-4073-b28d-550dbd7fc5d2",
   "metadata": {},
   "outputs": [],
   "source": [
    "#Purpose of Constructors:\n",
    "\n",
    "#Initializing Object Attributes: Constructors are used to initialize the attributes of an object. This ensures that the object is in a valid state right after it is created.\n",
    "\n",
    "#Setting Default Values: Constructors can provide default values for object attributes. If certain attributes should have specific values when an object is created, these values can be set in the constructor.\n",
    "\n",
    "#Performing Setup Operations: Constructors can be used to perform setup operations or calculations required for the object to function correctly. For example, connecting to a database, opening a file, or initializing other objects."
   ]
  },
  {
   "cell_type": "code",
   "execution_count": 10,
   "id": "8280d51c-8cca-4f81-b44a-4d7f67df1727",
   "metadata": {},
   "outputs": [],
   "source": [
    "#Usage:\n",
    "\n",
    "#When you create an object of a class, Python automatically calls the constructor method if it's defined in that class. You don't need to explicitly call the constructor; it is invoked as soon as you create an object of the class using the class name followed by parentheses, which may contain the necessary parameters for the constructor."
   ]
  },
  {
   "cell_type": "code",
   "execution_count": 11,
   "id": "8cd7efc3-1258-4bfb-befd-e6ad86036ef9",
   "metadata": {},
   "outputs": [],
   "source": [
    "my_car = Car(\"Toyota\", \"Corolla\")\n"
   ]
  },
  {
   "cell_type": "code",
   "execution_count": 12,
   "id": "dccdda9d-c66a-485a-a730-a2f94881cc2f",
   "metadata": {},
   "outputs": [],
   "source": [
    "#In this line of code, the __init__() method of the Car class is automatically called with the arguments \"Toyota\" and \"Corolla\", initializing the make and model attributes of the my_car object.\n"
   ]
  },
  {
   "cell_type": "markdown",
   "id": "d3dd2741-c5ec-49a4-87e5-f3e7226669fe",
   "metadata": {},
   "source": [
    "q.2"
   ]
  },
  {
   "cell_type": "code",
   "execution_count": 13,
   "id": "82fe8d82-cd6a-4339-b89a-b435c5ddc14e",
   "metadata": {},
   "outputs": [],
   "source": [
    "#In Python, constructors are special methods within a class that are used to initialize object attributes. Constructors can be categorized into two main types: parameterless constructors and parameterized constructors. The key difference between them lies in whether or not they accept parameters during object creation."
   ]
  },
  {
   "cell_type": "code",
   "execution_count": 14,
   "id": "e0f8ce64-a933-417c-9c13-637f1dd56817",
   "metadata": {},
   "outputs": [],
   "source": [
    "#Parameterless Constructor (No-argument Constructor):\n",
    "\n",
    "#A parameterless constructor, as the name suggests, does not accept any parameters during object creation.\n",
    "#It is defined without any arguments, including the self parameter.\n",
    "#A parameterless constructor is typically used when you want to set default values for the object's attributes."
   ]
  },
  {
   "cell_type": "code",
   "execution_count": 15,
   "id": "f4b68cd1-51f2-4d84-b656-3d483cb20585",
   "metadata": {},
   "outputs": [],
   "source": [
    "#Example of a parameterless constructor:\n",
    "class ParameterlessExample:\n",
    "    def __init__(self):\n",
    "        self.default_value = 42\n"
   ]
  },
  {
   "cell_type": "code",
   "execution_count": 16,
   "id": "b7e210b4-668d-4cc9-9395-c292ab6c508e",
   "metadata": {},
   "outputs": [
    {
     "name": "stdout",
     "output_type": "stream",
     "text": [
      "42\n"
     ]
    }
   ],
   "source": [
    "#Usage of a parameterless constructor:\n",
    "obj = ParameterlessExample()  # No arguments provided\n",
    "print(obj.default_value)  # Output: 42\n"
   ]
  },
  {
   "cell_type": "code",
   "execution_count": 17,
   "id": "870b6291-7a0e-4215-baf2-cafc952a5d4b",
   "metadata": {},
   "outputs": [],
   "source": [
    "\n",
    "#Parameterized Constructor (Argument Constructor):\n",
    "\n",
    "#A parameterized constructor, on the other hand, accepts one or more parameters during object creation. These parameters are used to initialize the object's attributes.\n",
    "#It is defined with the self parameter along with other parameters that specify the initial values for the object's attributes.\n",
    "#Example of a parameterized constructor:"
   ]
  },
  {
   "cell_type": "code",
   "execution_count": 18,
   "id": "af667d33-10aa-429b-8ba8-e12df8c491c7",
   "metadata": {},
   "outputs": [],
   "source": [
    "class ParameterizedExample:\n",
    "    def __init__(self, value1, value2):\n",
    "        self.attribute1 = value1\n",
    "        self.attribute2 = value2\n"
   ]
  },
  {
   "cell_type": "code",
   "execution_count": 19,
   "id": "5df53c6d-0e4d-4448-af75-0f1d30bf1a17",
   "metadata": {},
   "outputs": [
    {
     "name": "stdout",
     "output_type": "stream",
     "text": [
      "10\n",
      "Hello\n"
     ]
    }
   ],
   "source": [
    "obj = ParameterizedExample(10, \"Hello\")\n",
    "print(obj.attribute1)  # Output: 10\n",
    "print(obj.attribute2)  # Output: \"Hello\"\n"
   ]
  },
  {
   "cell_type": "code",
   "execution_count": 20,
   "id": "6cd862b0-d04c-4665-8de5-e80127cfe7a2",
   "metadata": {},
   "outputs": [],
   "source": [
    "#Key Differences:\n",
    "\n",
    "#Parameters: The primary difference is whether or not parameters are accepted during object creation. Parameterless constructors accept no arguments, while parameterized constructors accept one or more arguments.\n",
    "\n",
    "#Initialization: Parameterless constructors often set default values, whereas parameterized constructors initialize object attributes based on the provided arguments.\n",
    "\n",
    "#Usage: Parameterless constructors are used when you want to create objects with predefined or default values, while parameterized constructors are used when you need to provide specific initial values for object attributes.\n",
    "\n",
    "#In summary, parameterless constructors are used for simple cases where objects can be created with default values, while parameterized constructors are employed when objects need to be initialized with specific values provided during object creation."
   ]
  },
  {
   "cell_type": "markdown",
   "id": "aa1ffd33-d667-475c-83b8-e79716b326c7",
   "metadata": {},
   "source": [
    "q.3"
   ]
  },
  {
   "cell_type": "code",
   "execution_count": 21,
   "id": "639eaf30-724d-4b95-8954-a12777a027b0",
   "metadata": {},
   "outputs": [],
   "source": [
    "#In Python, a constructor is a special method named __init__() that is used to initialize the object's attributes when the object is created. Here's how you define a constructor in a Python class:"
   ]
  },
  {
   "cell_type": "code",
   "execution_count": 22,
   "id": "76bdbedd-5805-481f-bdee-c23a777c1100",
   "metadata": {},
   "outputs": [],
   "source": [
    "class MyClass:\n",
    "    def __init__(self, param1, param2):\n",
    "        self.attribute1 = param1\n",
    "        self.attribute2 = param2\n"
   ]
  },
  {
   "cell_type": "code",
   "execution_count": 23,
   "id": "368da3d2-3799-4d20-a940-35f80229b3b2",
   "metadata": {},
   "outputs": [],
   "source": [
    "#Here's how you would create an object of the MyClass class and pass values to the constructor:"
   ]
  },
  {
   "cell_type": "code",
   "execution_count": 24,
   "id": "58a402b8-9c1a-4141-8b2a-670e5940d501",
   "metadata": {},
   "outputs": [
    {
     "name": "stdout",
     "output_type": "stream",
     "text": [
      "value1\n",
      "value2\n"
     ]
    }
   ],
   "source": [
    "# Creating an object of MyClass and passing values to the constructor\n",
    "my_object = MyClass(\"value1\", \"value2\")\n",
    "\n",
    "# Accessing the object's attributes\n",
    "print(my_object.attribute1)  # Output: value1\n",
    "print(my_object.attribute2)  # Output: value2\n"
   ]
  },
  {
   "cell_type": "markdown",
   "id": "8c303e38-d8b6-4487-9b4b-bd5537131c9e",
   "metadata": {},
   "source": [
    "q.4"
   ]
  },
  {
   "cell_type": "code",
   "execution_count": 25,
   "id": "e40bc1b4-2da1-480f-b11d-4eb616a477a7",
   "metadata": {},
   "outputs": [],
   "source": [
    "#In Python, __init__() is a special method, also known as a constructor method. It is used to initialize the object's attributes when the object is created. The name __init__ stands for \"initialize\" and, as the name suggests, this method is automatically called when you create an instance of a class. The __init__() method is defined within a class and takes the self parameter along with any other parameters you want to initialize the object with.\n",
    "\n",
    "#Here's a breakdown of the __init__ method and its role in constructors:"
   ]
  },
  {
   "cell_type": "code",
   "execution_count": 26,
   "id": "a069b1ce-da7f-4f22-95ef-b3b5abedd6c4",
   "metadata": {},
   "outputs": [],
   "source": [
    "#Special Method Name:\n",
    "\n",
    "#__init__ is a reserved method name in Python. It is not an ordinary method and has a special meaning in the context of object-oriented programming.\n",
    "#Automatically Called:\n",
    "\n",
    "#When you create an object of a class, the __init__() method of that class is automatically called. You don't need to call it explicitly; Python takes care of it for you. It initializes the object right after it's created.\n",
    "#Initialization of Attributes:\n",
    "\n",
    "#The primary role of the __init__() method is to initialize the object's attributes. You can set initial values for object attributes inside this method. This ensures that the object is in a valid state right after it's created.\n",
    "#self Parameter:\n",
    "\n",
    "#The self parameter is a reference to the instance of the object being created. It allows you to access and modify the object's attributes within the __init__ method. It is the first parameter of the method and is automatically passed by Python when the method is called."
   ]
  },
  {
   "cell_type": "code",
   "execution_count": 27,
   "id": "efd22587-f3ea-479a-a408-06a2c1f57aae",
   "metadata": {},
   "outputs": [
    {
     "name": "stdout",
     "output_type": "stream",
     "text": [
      "Alice\n",
      "30\n"
     ]
    }
   ],
   "source": [
    "class Person:\n",
    "    def __init__(self, name, age):\n",
    "        self.name = name\n",
    "        self.age = age\n",
    "\n",
    "# Creating an instance of the Person class\n",
    "person1 = Person(\"Alice\", 30)\n",
    "\n",
    "# Accessing object attributes initialized in __init__()\n",
    "print(person1.name)  # Output: Alice\n",
    "print(person1.age)   # Output: 30\n"
   ]
  },
  {
   "cell_type": "markdown",
   "id": "6d8711c6-2195-454a-a7ba-87fcb6b27cb1",
   "metadata": {},
   "source": [
    "q.5"
   ]
  },
  {
   "cell_type": "code",
   "execution_count": 28,
   "id": "0cd5a8bc-72c6-4468-825e-0e5436e9331d",
   "metadata": {},
   "outputs": [],
   "source": [
    "#Certainly! Here's how you can create a Person class with a constructor that initializes the name and age attributes:"
   ]
  },
  {
   "cell_type": "code",
   "execution_count": 29,
   "id": "6705d01a-818d-43a0-90bd-fe8c2debdf5f",
   "metadata": {},
   "outputs": [
    {
     "name": "stdout",
     "output_type": "stream",
     "text": [
      "Name: Alice\n",
      "Age: 30\n"
     ]
    }
   ],
   "source": [
    "class Person:\n",
    "    def __init__(self, name, age):\n",
    "        self.name = name\n",
    "        self.age = age\n",
    "\n",
    "# Creating an instance of the Person class using the constructor\n",
    "person1 = Person(\"Alice\", 30)\n",
    "\n",
    "# Accessing object attributes initialized in the constructor\n",
    "print(\"Name:\", person1.name)  # Output: Name: Alice\n",
    "print(\"Age:\", person1.age)    # Output: Age: 30\n"
   ]
  },
  {
   "cell_type": "code",
   "execution_count": 30,
   "id": "dc28b164-3b8a-44f5-80ca-2a9723b25d77",
   "metadata": {},
   "outputs": [],
   "source": [
    "#In this example, the Person class has a constructor (__init__ method) that takes two parameters: name and age. When you create an instance of the Person class (person1), the constructor is automatically called with the values \"Alice\" and 30 to initialize the name and age attributes of the object. You can then access these attributes using dot notation (person1.name and person1.age).\n",
    "\n",
    "\n",
    "\n",
    "\n"
   ]
  },
  {
   "cell_type": "markdown",
   "id": "e349c227-d346-4a60-ba3b-a2fbd91ae0c4",
   "metadata": {},
   "source": [
    "q.6"
   ]
  },
  {
   "cell_type": "code",
   "execution_count": 31,
   "id": "7012a887-2440-4966-940e-b2914d033971",
   "metadata": {},
   "outputs": [],
   "source": [
    "#In Python, constructors are automatically called when you create an instance of a class, and you don't need to call them explicitly. However, if you want to invoke a constructor explicitly, you can do so using the class name. Here's an example of how you can call a constructor explicitly in Python:"
   ]
  },
  {
   "cell_type": "code",
   "execution_count": 32,
   "id": "afa05b06-629c-4f4b-ae15-cdf34132e51b",
   "metadata": {},
   "outputs": [
    {
     "name": "stdout",
     "output_type": "stream",
     "text": [
      "Constructor called with parameter: Hello, World!\n",
      "Hello, World!\n"
     ]
    }
   ],
   "source": [
    "class MyClass:\n",
    "    def __init__(self, param):\n",
    "        self.param = param\n",
    "        print(\"Constructor called with parameter:\", param)\n",
    "\n",
    "# Explicitly calling the constructor\n",
    "obj = MyClass.__new__(MyClass)  # Creating an instance without calling the constructor\n",
    "obj.__init__(\"Hello, World!\")   # Calling the constructor explicitly with the created instance\n",
    "\n",
    "# Accessing the object's attribute\n",
    "print(obj.param)  # Output: Hello, World!\n"
   ]
  },
  {
   "cell_type": "code",
   "execution_count": 33,
   "id": "76b53d08-58de-47af-99b0-b9fa6812ebeb",
   "metadata": {},
   "outputs": [],
   "source": [
    "#In this example, MyClass.__new__(MyClass) creates an instance of the class without calling the constructor. Then, the constructor is called explicitly using obj.__init__(\"Hello, World!\"), passing the string \"Hello, World!\" as the parameter. Finally, the param attribute of the object is accessed and printed, showing the output Hello, World!. Please note that explicitly calling constructors like this is not a common practice and should be used cautiously, as it may lead to unexpected behavior if not handled properly.\n"
   ]
  },
  {
   "cell_type": "markdown",
   "id": "ea99669f-b9a1-47a9-86d2-a64a5a2042ba",
   "metadata": {},
   "source": [
    "q.7"
   ]
  },
  {
   "cell_type": "code",
   "execution_count": 34,
   "id": "66a2c9c2-02b6-4a0c-b9f7-128684374c56",
   "metadata": {},
   "outputs": [],
   "source": [
    "#In Python, the self parameter in class constructors (and methods) refers to the instance of the object that is being created. It is a reference to the object itself and allows you to access the object's attributes and methods within the class. The use of self is a convention in Python, although you can technically name it something else, it is highly recommended to use self for clarity and readability of the code.\n",
    "\n",
    "#Here's an example to illustrate the significance of the self parameter in Python constructors:"
   ]
  },
  {
   "cell_type": "code",
   "execution_count": 35,
   "id": "d2791475-f119-4ea3-b1bb-225346c017a6",
   "metadata": {},
   "outputs": [
    {
     "name": "stdout",
     "output_type": "stream",
     "text": [
      "Name: Alice\n",
      "Age: 30\n"
     ]
    }
   ],
   "source": [
    "class Person:\n",
    "    def __init__(self, name, age):\n",
    "        self.name = name\n",
    "        self.age = age\n",
    "\n",
    "    def display_info(self):\n",
    "        print(\"Name:\", self.name)\n",
    "        print(\"Age:\", self.age)\n",
    "\n",
    "# Creating an instance of the Person class\n",
    "person1 = Person(\"Alice\", 30)\n",
    "\n",
    "# Accessing object attributes using the 'self' parameter\n",
    "person1.display_info()\n"
   ]
  },
  {
   "cell_type": "markdown",
   "id": "a4c314ff-0632-4fa4-a876-e1819ca06b22",
   "metadata": {},
   "source": [
    "q.8"
   ]
  },
  {
   "cell_type": "code",
   "execution_count": 36,
   "id": "b65eded9-d508-4bdf-9005-656ed5783daf",
   "metadata": {},
   "outputs": [],
   "source": [
    "#In Python, there is no concept of default constructors in the same way there is in some other programming languages like C++. In languages like C++, a default constructor is a constructor that is automatically called when an object is created without any arguments. Python does not require constructors to be defined explicitly, and if you do not define a constructor (__init__ method) in your class, Python provides a default constructor that takes no arguments.\n",
    "\n",
    "#When you create an instance of a class without defining a constructor, Python provides a default constructor that initializes the object without any specific attributes. Here's an example:"
   ]
  },
  {
   "cell_type": "code",
   "execution_count": 37,
   "id": "d43c8f90-73ae-44a1-a9ce-8dd76fbb5e8c",
   "metadata": {},
   "outputs": [],
   "source": [
    "class MyClass:\n",
    "    pass\n",
    "\n",
    "# Creating an instance of MyClass without defining a constructor\n",
    "obj = MyClass()\n",
    "\n",
    "# obj is now an empty object without any specific attributes\n"
   ]
  },
  {
   "cell_type": "code",
   "execution_count": 38,
   "id": "f5f0932f-71fe-46c9-b27b-05d010ecce40",
   "metadata": {},
   "outputs": [],
   "source": [
    "#It's important to note that even if you don't define a constructor in your class, you can still create attributes for instances of the class dynamically. For example:"
   ]
  },
  {
   "cell_type": "code",
   "execution_count": 39,
   "id": "cb05c9c9-f6ec-42b0-a707-7a8525fa6a76",
   "metadata": {},
   "outputs": [
    {
     "name": "stdout",
     "output_type": "stream",
     "text": [
      "Alice\n",
      "30\n"
     ]
    }
   ],
   "source": [
    "class MyClass:\n",
    "    pass\n",
    "\n",
    "# Creating an instance of MyClass without a defined constructor\n",
    "obj = MyClass()\n",
    "\n",
    "# Adding attributes dynamically\n",
    "obj.name = \"Alice\"\n",
    "obj.age = 30\n",
    "\n",
    "print(obj.name)  # Output: Alice\n",
    "print(obj.age)   # Output: 30\n"
   ]
  },
  {
   "cell_type": "markdown",
   "id": "ad837f78-e2a0-40cb-a6ae-6f6401c10fb6",
   "metadata": {},
   "source": [
    "q.9"
   ]
  },
  {
   "cell_type": "code",
   "execution_count": 40,
   "id": "1b892677-14ad-4db5-b656-d7f5b0668095",
   "metadata": {},
   "outputs": [],
   "source": [
    "#Certainly! Here's an example of a Python class called Rectangle with a constructor that initializes the width and height attributes and a method to calculate the area of the rectangle:"
   ]
  },
  {
   "cell_type": "code",
   "execution_count": 41,
   "id": "381cda55-4822-4da0-aa70-447ca0531bee",
   "metadata": {},
   "outputs": [
    {
     "name": "stdout",
     "output_type": "stream",
     "text": [
      "Area of the rectangle: 50\n"
     ]
    }
   ],
   "source": [
    "class Rectangle:\n",
    "    def __init__(self, width, height):\n",
    "        self.width = width\n",
    "        self.height = height\n",
    "\n",
    "    def calculate_area(self):\n",
    "        return self.width * self.height\n",
    "\n",
    "# Creating an instance of the Rectangle class with width 5 and height 10\n",
    "rectangle1 = Rectangle(5, 10)\n",
    "\n",
    "# Calculating and printing the area of the rectangle\n",
    "print(\"Area of the rectangle:\", rectangle1.calculate_area())  # Output: 50\n"
   ]
  },
  {
   "cell_type": "markdown",
   "id": "dce67b10-cf10-41bd-8b5e-c0f86d65f188",
   "metadata": {},
   "source": [
    "q.10"
   ]
  },
  {
   "cell_type": "code",
   "execution_count": 42,
   "id": "9272f96e-913b-4feb-adf2-7db7e91eaa9f",
   "metadata": {},
   "outputs": [],
   "source": [
    "\n",
    "#In Python, you cannot have multiple constructors in the same way it's done in some other programming languages. However, you can achieve similar functionality by using default parameter values and providing different ways to instantiate objects based on the number or type of parameters passed to the constructor (the __init__ method).\n",
    "\n",
    "#Here's an example of how you can create a class with different ways to instantiate objects, effectively simulating multiple constructors:"
   ]
  },
  {
   "cell_type": "code",
   "execution_count": 43,
   "id": "9cb67426-53ba-4aac-8f07-910695e8fdd9",
   "metadata": {},
   "outputs": [
    {
     "name": "stdout",
     "output_type": "stream",
     "text": [
      "Person 1: Name - Alice , Age - 30\n",
      "Person 2: Name - Unknown , Age - 0\n",
      "Person 3: Name - Unknown , Age - 0\n"
     ]
    }
   ],
   "source": [
    "class Person:\n",
    "    def __init__(self, name=None, age=None):\n",
    "        if name is not None and age is not None:\n",
    "            self.name = name\n",
    "            self.age = age\n",
    "        else:\n",
    "            self.name = \"Unknown\"\n",
    "            self.age = 0\n",
    "\n",
    "# Creating instances of the Person class using different constructors\n",
    "person1 = Person(\"Alice\", 30)  # Using constructor with name and age parameters\n",
    "person2 = Person(\"Bob\")        # Using constructor with only name parameter\n",
    "person3 = Person()             # Using constructor with no parameters (defaults will be used)\n",
    "\n",
    "# Printing information about the persons\n",
    "print(\"Person 1: Name -\", person1.name, \", Age -\", person1.age)\n",
    "print(\"Person 2: Name -\", person2.name, \", Age -\", person2.age)\n",
    "print(\"Person 3: Name -\", person3.name, \", Age -\", person3.age)\n"
   ]
  },
  {
   "cell_type": "code",
   "execution_count": 44,
   "id": "0bbd5592-c000-4f46-b301-fed11cdf81d6",
   "metadata": {},
   "outputs": [],
   "source": [
    "#When creating instances of the Person class, you can pass different numbers of parameters:\n",
    "\n",
    "#person1 is created with both name and age parameters.\n",
    "#person2 is created with only the name parameter.\n",
    "#person3 is created with no parameters, so default values are used.\n",
    "#This approach allows you to simulate multiple constructors by providing different ways to initialize objects based on the parameters passed during object creation.\n"
   ]
  },
  {
   "cell_type": "markdown",
   "id": "99d50ab0-32e5-47a3-8ec7-a323a7ce7e7e",
   "metadata": {},
   "source": [
    "q.11"
   ]
  },
  {
   "cell_type": "code",
   "execution_count": 45,
   "id": "16bf5023-2fa4-4840-b2e5-f5c90bf75bbd",
   "metadata": {},
   "outputs": [],
   "source": [
    "#Method overloading is a programming concept where you can define multiple methods in a class with the same name but with different parameter lists. The method that gets called is determined based on the number and types of arguments passed during the method call. In Python, method overloading is not directly supported in the same way it is in languages like Java or C++.\n",
    "\n",
    "#However, in Python, you can achieve method overloading through default parameter values and variable numbers of arguments. When you define a method with default values for parameters or when you use *args and **kwargs in method definitions, you allow the method to handle different numbers of arguments.\n",
    "\n",
    "#Related to constructors, Python does not support method overloading in the constructor (the __init__ method) in the same way it's done in some other languages. In Python, a class can have only one constructor, which is the __init__ method. If you define multiple __init__ methods with different parameter lists in the same class, the last one defined will override the previous ones, and only the last one will be considered."
   ]
  },
  {
   "cell_type": "code",
   "execution_count": 46,
   "id": "5f269651-3015-4570-a8fd-3ebd4ffc70d3",
   "metadata": {},
   "outputs": [],
   "source": [
    "#Here's an example demonstrating how you can use default parameter values to achieve method overloading-like behavior in constructors:"
   ]
  },
  {
   "cell_type": "code",
   "execution_count": 47,
   "id": "b4a8e89c-cb5b-4390-9e26-c0dbc8e4b74c",
   "metadata": {},
   "outputs": [
    {
     "name": "stdout",
     "output_type": "stream",
     "text": [
      "Value1 Value2\n",
      "Value1 Default Param2\n",
      "Default Param1 Default Param2\n"
     ]
    }
   ],
   "source": [
    "class MyClass:\n",
    "    def __init__(self, param1=None, param2=None):\n",
    "        if param1 is not None and param2 is not None:\n",
    "            self.param1 = param1\n",
    "            self.param2 = param2\n",
    "        elif param1 is not None:\n",
    "            self.param1 = param1\n",
    "            self.param2 = \"Default Param2\"\n",
    "        else:\n",
    "            self.param1 = \"Default Param1\"\n",
    "            self.param2 = \"Default Param2\"\n",
    "\n",
    "# Creating instances of MyClass with different numbers of parameters\n",
    "obj1 = MyClass(\"Value1\", \"Value2\")  # Both parameters provided\n",
    "obj2 = MyClass(\"Value1\")             # One parameter provided\n",
    "obj3 = MyClass()                     # No parameters provided\n",
    "\n",
    "print(obj1.param1, obj1.param2)  # Output: Value1 Value2\n",
    "print(obj2.param1, obj2.param2)  # Output: Value1 Default Param2\n",
    "print(obj3.param1, obj3.param2)  # Output: Default Param1 Default Param2\n"
   ]
  },
  {
   "cell_type": "markdown",
   "id": "185fc464-9b4f-4be2-a3c5-2775243631b4",
   "metadata": {},
   "source": [
    "q.12"
   ]
  },
  {
   "cell_type": "code",
   "execution_count": 48,
   "id": "90544d1a-37f6-46d9-af5c-7b7e3eda63b6",
   "metadata": {},
   "outputs": [],
   "source": [
    "#In Python, the super() function is used to call a method from a parent class. It is commonly used within constructors to ensure that the constructor of the parent class is called properly before initializing attributes specific to the child class. This is particularly important in inheritance scenarios, where a child class inherits properties and behaviors from a parent class.\n",
    "\n",
    "#Here's how you can use super() in a constructor:"
   ]
  },
  {
   "cell_type": "code",
   "execution_count": 49,
   "id": "fd5d3ce0-af43-46b9-8af5-a2b279eea3b4",
   "metadata": {},
   "outputs": [
    {
     "name": "stdout",
     "output_type": "stream",
     "text": [
      "Parent constructor called with param1: Value1\n",
      "Child constructor called with param1: Value1 and param2: Value2\n"
     ]
    }
   ],
   "source": [
    "class Parent:\n",
    "    def __init__(self, param1):\n",
    "        self.param1 = param1\n",
    "        print(\"Parent constructor called with param1:\", self.param1)\n",
    "\n",
    "class Child(Parent):\n",
    "    def __init__(self, param1, param2):\n",
    "        super().__init__(param1)  # Call the constructor of the parent class\n",
    "        self.param2 = param2\n",
    "        print(\"Child constructor called with param1:\", param1, \"and param2:\", self.param2)\n",
    "\n",
    "# Creating an instance of the Child class\n",
    "child_obj = Child(\"Value1\", \"Value2\")\n"
   ]
  },
  {
   "cell_type": "code",
   "execution_count": 50,
   "id": "343278c6-463c-4577-a2f1-7525de4073c7",
   "metadata": {},
   "outputs": [],
   "source": [
    "#In the Child class, super().__init__(param1) is used to call the constructor of the Parent class. This ensures that the initialization logic in the Parent class is executed before the initialization logic in the Child class.\n",
    "\n",
    "#super() returns a temporary object of the superclass, which allows you to call its methods. In this case, it allows you to call the constructor of the parent class.\n",
    "\n",
    "#When you create an instance of the Child class (child_obj), it prints:"
   ]
  },
  {
   "cell_type": "code",
   "execution_count": 51,
   "id": "b7765119-b6f9-4241-aa8b-f6c6154acb8f",
   "metadata": {},
   "outputs": [],
   "source": [
    "#As you can see, the constructor of the Parent class is called first through super(), followed by the constructor of the Child class. This ensures proper initialization of both the parent and child class attributes.\n"
   ]
  },
  {
   "cell_type": "markdown",
   "id": "644ec87c-9946-4cfa-8845-c42719a5d305",
   "metadata": {},
   "source": [
    "q.13"
   ]
  },
  {
   "cell_type": "code",
   "execution_count": 52,
   "id": "758efda7-7d57-4bba-997e-a5d54387c57d",
   "metadata": {},
   "outputs": [],
   "source": [
    "\n",
    "#Certainly! Here's an example of a Book class in Python with a constructor that initializes the title, author, and published_year attributes, along with a method to display book details:"
   ]
  },
  {
   "cell_type": "code",
   "execution_count": 53,
   "id": "61054cb4-ffc1-4250-8440-a2dd7d439de1",
   "metadata": {},
   "outputs": [
    {
     "name": "stdout",
     "output_type": "stream",
     "text": [
      "Title: Python Crash Course\n",
      "Author: Eric Matthes\n",
      "Published Year: 2015\n"
     ]
    }
   ],
   "source": [
    "class Book:\n",
    "    def __init__(self, title, author, published_year):\n",
    "        self.title = title\n",
    "        self.author = author\n",
    "        self.published_year = published_year\n",
    "\n",
    "    def display_details(self):\n",
    "        print(\"Title:\", self.title)\n",
    "        print(\"Author:\", self.author)\n",
    "        print(\"Published Year:\", self.published_year)\n",
    "\n",
    "# Creating an instance of the Book class\n",
    "book1 = Book(\"Python Crash Course\", \"Eric Matthes\", 2015)\n",
    "\n",
    "# Calling the display_details() method to print book details\n",
    "book1.display_details()\n"
   ]
  },
  {
   "cell_type": "code",
   "execution_count": 54,
   "id": "a28b5e52-531e-4c41-8bb8-62a2cc629fc3",
   "metadata": {},
   "outputs": [],
   "source": [
    "#The display_details() method is defined within the class to display the book details. When you create an instance of the Book class (book1), you can call the display_details() method to print the book's title, author, and published year.\n",
    "\n",
    "#When you run this code, it will output:"
   ]
  },
  {
   "cell_type": "markdown",
   "id": "524b6701-7ea8-4542-b4fd-28b71215448e",
   "metadata": {},
   "source": [
    "q.14"
   ]
  },
  {
   "cell_type": "code",
   "execution_count": 55,
   "id": "0a17a428-cbe4-4700-9908-1a84a850aa41",
   "metadata": {},
   "outputs": [],
   "source": [
    "#Constructors and regular methods are both special types of functions in Python classes, but they serve different purposes and have distinct characteristics. Here are the key differences between constructors and regular methods in Python classes:"
   ]
  },
  {
   "cell_type": "markdown",
   "id": "069a6c40-bad8-4bc9-adb0-9aa41284e9de",
   "metadata": {},
   "source": [
    "Constructors (__init__ method):\n",
    "Initialization:\n",
    "\n",
    "Constructors: Constructors, defined with the __init__ method, are used for initializing the object's attributes when an object is created.\n",
    "Regular Methods: Regular methods, on the other hand, are used for performing actions and operations on objects but are not specifically meant for object initialization.\n",
    "Automatic Invocation:\n",
    "\n",
    "Constructors: Constructors are automatically called when an object of the class is created. They initialize the object attributes immediately upon object instantiation.\n",
    "Regular Methods: Regular methods need to be explicitly called on objects. They are not automatically invoked upon object creation.\n",
    "self Parameter:\n",
    "\n",
    "Constructors: Constructors take the self parameter along with other parameters to initialize the object's attributes. self refers to the instance of the object being created.\n",
    "Regular Methods: Regular methods also take the self parameter, allowing them to access and modify object attributes and call other methods within the same class.\n",
    "Return Value:\n",
    "\n",
    "Constructors: Constructors do not return any value explicitly. They are used solely for initializing object attributes.\n",
    "Regular Methods: Regular methods can return values if needed. They perform specific operations and may return results based on the logic defined within the method.\n",
    "Regular Methods:\n",
    "Purpose:\n",
    "\n",
    "Constructors: Constructors are specifically used for object initialization. They set up the initial state of the object.\n",
    "Regular Methods: Regular methods are used for performing various tasks, computations, or operations on the object's attributes.\n",
    "Invocation:\n",
    "\n",
    "Constructors: Constructors are automatically invoked upon object creation. They run once when the object is instantiated.\n",
    "Regular Methods: Regular methods need to be called explicitly using the object name followed by the method name and parentheses. They can be called multiple times during the object's lifecycle.\n",
    "Usage:\n",
    "\n",
    "Constructors: Constructors are primarily used to set up initial values for the object's attributes. They are invoked once per object.\n",
    "Regular Methods: Regular methods can be called multiple times, performing different actions or computations based on the object's state and the arguments passed.\n",
    "In summary, constructors are special methods used for initializing object attributes upon object creation, while regular methods are used for performing various actions and operations on objects. Constructors are automatically called when objects are created, whereas regular methods require explicit invocation. Both types of methods play distinct roles in defining the behavior and functionality of Python classes.\n",
    "\n",
    "\n",
    "\n",
    "\n"
   ]
  },
  {
   "cell_type": "markdown",
   "id": "f56edd5a-cca9-4da0-8b46-a176703b6402",
   "metadata": {},
   "source": [
    "q.15"
   ]
  },
  {
   "cell_type": "code",
   "execution_count": 56,
   "id": "833e9e18-ceba-4b27-8d1e-e460ae3147ac",
   "metadata": {},
   "outputs": [],
   "source": [
    "#Certainly! In object-oriented programming, the self parameter in Python plays a crucial role in instance variable initialization within a constructor. Let's break down its role step by step:"
   ]
  },
  {
   "cell_type": "code",
   "execution_count": 57,
   "id": "e43fdf2d-ddbd-4530-8c14-fdab84db530e",
   "metadata": {},
   "outputs": [],
   "source": [
    "#1. Object Reference:\n",
    "#self is a reference to the instance of the class.\n",
    "#When you create an object of a class, self refers to that specific instance.\n",
    "#It allows you to differentiate between instance variables of different objects.\n",
    "#2. Instance Variable Initialization:\n",
    "#In the constructor (usually named __init__), you define the attributes (instance variables) that every object of the class should have.\n",
    "#The self parameter is used to initialize these attributes uniquely for each object.\n",
    "#It ensures that the values assigned are specific to the object being created.\n",
    "#3. Associating Data with Objects:\n",
    "#Instance variables are used to store data that is specific to an object.\n",
    "#By prefixing variables with self., you associate them with the particular instance of the class.\n",
    "#For example, self.name and self.age indicate that name and age are attributes of the object and not just local variables.\n",
    "#4. Accessing Variables Across Methods:\n",
    "#self allows you to access instance variables not only within the constructor but also in other methods of the class.\n",
    "#This consistent access to attributes across methods ensures proper encapsulation and manipulation of object state."
   ]
  },
  {
   "cell_type": "code",
   "execution_count": 58,
   "id": "6c24092c-11c7-4ee0-8772-59acd1ec9320",
   "metadata": {},
   "outputs": [
    {
     "name": "stdout",
     "output_type": "stream",
     "text": [
      "Name: Alice\n",
      "Age: 30\n",
      "Name: Bob\n",
      "Age: 25\n"
     ]
    }
   ],
   "source": [
    "class Person:\n",
    "    def __init__(self, name, age):\n",
    "        self.name = name  # Initializing instance variable 'name'\n",
    "        self.age = age    # Initializing instance variable 'age'\n",
    "\n",
    "    def display_info(self):\n",
    "        print(\"Name:\", self.name)\n",
    "        print(\"Age:\", self.age)\n",
    "\n",
    "# Creating objects of the Person class\n",
    "person1 = Person(\"Alice\", 30)\n",
    "person2 = Person(\"Bob\", 25)\n",
    "\n",
    "# Accessing and displaying object attributes\n",
    "person1.display_info()\n",
    "person2.display_info()\n"
   ]
  },
  {
   "cell_type": "markdown",
   "id": "5971ea79-c45e-464e-a784-dff72be8f885",
   "metadata": {},
   "source": [
    "q.16"
   ]
  },
  {
   "cell_type": "code",
   "execution_count": 59,
   "id": "231d1299-1982-4007-94f3-80c49ad7a919",
   "metadata": {},
   "outputs": [],
   "source": [
    "#In Python, you can prevent a class from having multiple instances by implementing the Singleton pattern. The Singleton pattern ensures that a class has only one instance and provides a way to access that instance from any point in your code.\n",
    "\n",
    "#One way to implement the Singleton pattern is by defining a class variable that keeps track of the instance, and then modifying the constructor (__init__ method) to create a new instance only if it doesn't already exist. If an instance already exists, the constructor can return that existing instance."
   ]
  },
  {
   "cell_type": "code",
   "execution_count": 60,
   "id": "e7d7a045-b5c2-4093-89eb-248e51cc1962",
   "metadata": {},
   "outputs": [
    {
     "name": "stdout",
     "output_type": "stream",
     "text": [
      "True\n"
     ]
    }
   ],
   "source": [
    "class SingletonClass:\n",
    "    _instance = None  # Class variable to store the instance\n",
    "\n",
    "    def __new__(cls):\n",
    "        if cls._instance is None:\n",
    "            cls._instance = super(SingletonClass, cls).__new__(cls)\n",
    "            # Initialization code can be placed here if needed\n",
    "        return cls._instance\n",
    "\n",
    "# Creating instances of the SingletonClass\n",
    "instance1 = SingletonClass()\n",
    "instance2 = SingletonClass()\n",
    "\n",
    "print(instance1 is instance2)  # Output: True (Both instances are the same object)\n"
   ]
  },
  {
   "cell_type": "markdown",
   "id": "a3718154-75ab-429f-8d17-44017c79d06d",
   "metadata": {},
   "source": [
    "q.17"
   ]
  },
  {
   "cell_type": "code",
   "execution_count": 61,
   "id": "912c07ce-ca51-4cb8-9031-0ccf1ed4b7aa",
   "metadata": {},
   "outputs": [],
   "source": [
    "#Certainly! Here's an example of a Student class in Python with a constructor that takes a list of subjects as a parameter and initializes the subjects attribute:"
   ]
  },
  {
   "cell_type": "code",
   "execution_count": 62,
   "id": "19705d20-dbab-462c-9737-0222b4a1b2ca",
   "metadata": {},
   "outputs": [
    {
     "name": "stdout",
     "output_type": "stream",
     "text": [
      "Subjects: ['Math', 'Science', 'History', 'English']\n"
     ]
    }
   ],
   "source": [
    "class Student:\n",
    "    def __init__(self, subjects):\n",
    "        self.subjects = subjects\n",
    "\n",
    "    def display_subjects(self):\n",
    "        print(\"Subjects:\", self.subjects)\n",
    "\n",
    "# Creating an instance of the Student class with a list of subjects\n",
    "subjects_list = [\"Math\", \"Science\", \"History\", \"English\"]\n",
    "student1 = Student(subjects_list)\n",
    "\n",
    "# Calling the display_subjects() method to print the subjects\n",
    "student1.display_subjects()\n"
   ]
  },
  {
   "cell_type": "code",
   "execution_count": 63,
   "id": "476f58f5-04b2-4db3-87fa-c5ce6e595fc7",
   "metadata": {},
   "outputs": [],
   "source": [
    "#When you create an instance of the Student class (student1), you can pass a list of subjects to the constructor. The display_subjects() method is defined within the class to print the list of subjects associated with the student.\n",
    "\n",
    "#Upon running the code, it will output:"
   ]
  },
  {
   "cell_type": "code",
   "execution_count": 64,
   "id": "c8754f1b-6023-4bbe-b04e-d14daa4b1f65",
   "metadata": {},
   "outputs": [],
   "source": [
    "Subjects: ['Math', 'Science', 'History', 'English']\n"
   ]
  },
  {
   "cell_type": "markdown",
   "id": "e8477482-80c0-4928-98b6-4a437f9216a0",
   "metadata": {},
   "source": [
    "q.18"
   ]
  },
  {
   "cell_type": "code",
   "execution_count": 65,
   "id": "1a27c852-a466-4b5a-a6fb-c27a4f1298c9",
   "metadata": {},
   "outputs": [],
   "source": [
    "#In Python, the __del__ method is a special method that serves as a destructor for a class. It is called when an object is about to be destroyed and deallocated from memory. The primary purpose of the __del__ method is to perform cleanup actions or release resources associated with the object before it is removed from memory.\n",
    "\n",
    "#The __del__ method is the counterpart to the constructor method (__init__). While the constructor is used for initializing the object's attributes and setting up the object, the __del__ method is used for performing cleanup tasks just before the object is destroyed. It is the last method that is called on an object before it is removed from memory.\n",
    "\n",
    "#Here's an example to illustrate the purpose of the __del__ method:"
   ]
  },
  {
   "cell_type": "code",
   "execution_count": 66,
   "id": "d5de1fcf-6e18-4398-b703-1ff2209b5335",
   "metadata": {},
   "outputs": [
    {
     "name": "stdout",
     "output_type": "stream",
     "text": [
      "Object Object 1 created.\n",
      "Object Object 2 created.\n",
      "Object Object 1 is being destroyed.\n",
      "Object Object 2 is being destroyed.\n"
     ]
    }
   ],
   "source": [
    "class MyClass:\n",
    "    def __init__(self, name):\n",
    "        self.name = name\n",
    "        print(f\"Object {self.name} created.\")\n",
    "    \n",
    "    def __del__(self):\n",
    "        print(f\"Object {self.name} is being destroyed.\")\n",
    "\n",
    "# Creating instances of the MyClass class\n",
    "obj1 = MyClass(\"Object 1\")\n",
    "obj2 = MyClass(\"Object 2\")\n",
    "\n",
    "# Deleting the objects explicitly\n",
    "del obj1\n",
    "del obj2\n"
   ]
  },
  {
   "cell_type": "code",
   "execution_count": 67,
   "id": "3d17dfbe-975d-4584-a50a-c7e3b03c353b",
   "metadata": {},
   "outputs": [],
   "source": [
    "#When you run the code, you'll see the following output:"
   ]
  },
  {
   "cell_type": "markdown",
   "id": "5b7aec94-316c-40c5-94ca-9894c70e159c",
   "metadata": {},
   "source": [
    "q.19"
   ]
  },
  {
   "cell_type": "code",
   "execution_count": 68,
   "id": "67519266-ef53-4610-a89b-627fb9c07d40",
   "metadata": {},
   "outputs": [],
   "source": [
    "#Constructor chaining, also known as constructor delegation or constructor calling, refers to the process of one constructor calling another constructor within the same class or in a parent class. In Python, this can be achieved using the super() function to call a constructor in the parent class, allowing for code reuse and efficient initialization of objects.\n",
    "\n",
    "#Here's a practical example to demonstrate constructor chaining in Python:\n",
    "\n",
    "#Let's consider a scenario where you have a Person class and a Student class that inherits from the Person class. The Person class has a constructor to initialize the name and age attributes. The Student class extends the Person class and adds an additional attribute student_id. By using constructor chaining, the Student class can call the constructor of the Person class to initialize the name and age attributes and then initialize its own student_id attribute."
   ]
  },
  {
   "cell_type": "code",
   "execution_count": 69,
   "id": "6959edf2-2b3d-429c-b37e-21a830a40689",
   "metadata": {},
   "outputs": [
    {
     "name": "stdout",
     "output_type": "stream",
     "text": [
      "Person constructor called.\n",
      "Student constructor called.\n",
      "Name: Alice\n",
      "Age: 20\n",
      "Student ID: S12345\n"
     ]
    }
   ],
   "source": [
    "class Person:\n",
    "    def __init__(self, name, age):\n",
    "        self.name = name\n",
    "        self.age = age\n",
    "        print(\"Person constructor called.\")\n",
    "\n",
    "class Student(Person):\n",
    "    def __init__(self, name, age, student_id):\n",
    "        super().__init__(name, age)  # Call the constructor of the parent class (Person)\n",
    "        self.student_id = student_id\n",
    "        print(\"Student constructor called.\")\n",
    "\n",
    "# Creating an instance of the Student class\n",
    "student = Student(\"Alice\", 20, \"S12345\")\n",
    "\n",
    "# Accessing attributes from both Person and Student classes\n",
    "print(\"Name:\", student.name)\n",
    "print(\"Age:\", student.age)\n",
    "print(\"Student ID:\", student.student_id)\n"
   ]
  },
  {
   "cell_type": "code",
   "execution_count": 70,
   "id": "c09c4e38-0054-4021-9ca1-0a0993e958ea",
   "metadata": {},
   "outputs": [],
   "source": [
    "#When you create an instance of the Student class, both the Person and Student constructors are called:"
   ]
  },
  {
   "cell_type": "markdown",
   "id": "96ea6bef-5e74-4d2e-a545-29135923cf01",
   "metadata": {},
   "source": [
    "q.20"
   ]
  },
  {
   "cell_type": "code",
   "execution_count": 71,
   "id": "fac841e9-9b04-4102-b54c-69724905561f",
   "metadata": {},
   "outputs": [],
   "source": [
    "#Certainly! Here's an example of a Car class in Python with a default constructor that initializes the make and model attributes and a method to display car information:"
   ]
  },
  {
   "cell_type": "code",
   "execution_count": 72,
   "id": "e3f0fc7b-7903-4ce5-8104-ec82047b8ddf",
   "metadata": {},
   "outputs": [
    {
     "name": "stdout",
     "output_type": "stream",
     "text": [
      "Make: Unknown\n",
      "Model: Unknown\n"
     ]
    }
   ],
   "source": [
    "class Car:\n",
    "    def __init__(self, make=\"Unknown\", model=\"Unknown\"):\n",
    "        self.make = make\n",
    "        self.model = model\n",
    "\n",
    "    def display_info(self):\n",
    "        print(\"Make:\", self.make)\n",
    "        print(\"Model:\", self.model)\n",
    "\n",
    "# Creating an instance of the Car class with default values\n",
    "car1 = Car()\n",
    "\n",
    "# Calling the display_info() method to print car information\n",
    "car1.display_info()\n"
   ]
  },
  {
   "cell_type": "code",
   "execution_count": 73,
   "id": "9afe0098-9e61-4e52-b43a-20d99321b2be",
   "metadata": {},
   "outputs": [],
   "source": [
    "#The display_info() method is defined within the class to display the car's make and model attributes. When you create an instance of the Car class (car1), it uses the default constructor values and then calls the display_info() method to print the car's information.\n",
    "\n",
    "#Upon running the code, it will output:"
   ]
  },
  {
   "cell_type": "code",
   "execution_count": 74,
   "id": "97c19453-3035-400e-9a19-c3d1e5450426",
   "metadata": {},
   "outputs": [],
   "source": [
    "#inheritance-"
   ]
  },
  {
   "cell_type": "markdown",
   "id": "6fb66838-88c1-4381-b8fa-6ffb39edf16f",
   "metadata": {},
   "source": [
    "q.1"
   ]
  },
  {
   "cell_type": "code",
   "execution_count": 75,
   "id": "d851825f-c6e0-471c-8fcd-186bf43daa02",
   "metadata": {},
   "outputs": [],
   "source": [
    "#Inheritance is one of the fundamental concepts in object-oriented programming (OOP) and it allows one class (child or subclass) to inherit the properties and behaviors (methods and attributes) of another class (parent or superclass). In Python, a class can inherit from one or more classes, creating a hierarchy of classes. The child class can then use and extend the functionalities of the parent class."
   ]
  },
  {
   "cell_type": "markdown",
   "id": "6142a88b-3027-4e73-a5f6-9872f9baa53e",
   "metadata": {},
   "source": [
    "Significance of Inheritance in Object-Oriented Programming:\n",
    "Code Reusability:\n",
    "\n",
    "Inheritance promotes code reusability. Methods and attributes defined in the parent class can be inherited by multiple child classes, reducing the need to rewrite code.\n",
    "Extensibility:\n",
    "\n",
    "Child classes can extend or override the behavior of the parent class. Child classes can inherit the methods of the parent class and add new methods or modify existing ones to provide specialized behavior.\n",
    "Modularity:\n",
    "\n",
    "Inheritance promotes modularity in code design. Classes can be organized hierarchically, allowing developers to work on individual components (classes) without impacting other parts of the program.\n",
    "Polymorphism:\n",
    "\n",
    "Inheritance is a key feature that enables polymorphism, which allows objects of different classes to be treated as objects of a common superclass. This facilitates dynamic method invocation and method overriding.\n",
    "Organizing Classes:\n",
    "\n",
    "Inheritance helps in organizing classes in a logical and hierarchical manner. It reflects the relationships and commonalities between different entities in the problem domain.\n",
    "Example of Inheritance in Python:"
   ]
  },
  {
   "cell_type": "code",
   "execution_count": 76,
   "id": "57b4f3c9-d9ac-4cd8-9e43-36ef8b909e4a",
   "metadata": {},
   "outputs": [
    {
     "name": "stdout",
     "output_type": "stream",
     "text": [
      "Woof!\n",
      "Meow!\n"
     ]
    }
   ],
   "source": [
    "class Animal:\n",
    "    def __init__(self, name):\n",
    "        self.name = name\n",
    "\n",
    "    def speak(self):\n",
    "        pass\n",
    "\n",
    "class Dog(Animal):\n",
    "    def speak(self):\n",
    "        return \"Woof!\"\n",
    "\n",
    "class Cat(Animal):\n",
    "    def speak(self):\n",
    "        return \"Meow!\"\n",
    "\n",
    "# Creating instances of the subclasses\n",
    "dog = Dog(\"Buddy\")\n",
    "cat = Cat(\"Whiskers\")\n",
    "\n",
    "# Calling the speak() method from subclasses\n",
    "print(dog.speak())  # Output: Woof!\n",
    "print(cat.speak())  # Output: Meow!\n"
   ]
  },
  {
   "cell_type": "markdown",
   "id": "8fcf24cb-383a-4318-a7ee-40fdf163c399",
   "metadata": {},
   "source": [
    "q.2"
   ]
  },
  {
   "cell_type": "code",
   "execution_count": 77,
   "id": "e7fc9a38-bb2c-47a1-aead-064839559c28",
   "metadata": {},
   "outputs": [],
   "source": [
    "#In object-oriented programming, inheritance is a mechanism to create a new class using properties and behavior of an existing class. Single inheritance and multiple inheritance are two ways to achieve this in Python. Let's differentiate between them and provide examples for each:\n",
    "\n",
    "#Single Inheritance:\n",
    "#Definition:\n",
    "#Single inheritance is a mechanism in which a class inherits properties and behavior from a single parent class."
   ]
  },
  {
   "cell_type": "code",
   "execution_count": 78,
   "id": "fd52908e-a44b-434e-8ef2-6bee2af19b4b",
   "metadata": {},
   "outputs": [
    {
     "name": "stdout",
     "output_type": "stream",
     "text": [
      "Bark\n"
     ]
    }
   ],
   "source": [
    "class Animal:\n",
    "    def sound(self):\n",
    "        print(\"Some sound\")\n",
    "\n",
    "class Dog(Animal):\n",
    "    def sound(self):\n",
    "        print(\"Bark\")\n",
    "\n",
    "# Creating an instance of the Dog class\n",
    "dog = Dog()\n",
    "dog.sound()  # Output: Bark\n"
   ]
  },
  {
   "cell_type": "code",
   "execution_count": 79,
   "id": "49fe2347-2eab-49ed-99a5-63a3cd6d949b",
   "metadata": {},
   "outputs": [],
   "source": [
    "#Multiple Inheritance:\n",
    "#Definition:\n",
    "#Multiple inheritance is a mechanism in which a class can inherit properties and behavior from more than one parent class."
   ]
  },
  {
   "cell_type": "code",
   "execution_count": 80,
   "id": "c65f1d46-3f5b-4564-a19c-c25eb8f2afe2",
   "metadata": {},
   "outputs": [
    {
     "name": "stdout",
     "output_type": "stream",
     "text": [
      "Bark\n",
      "Giving birth to live young\n"
     ]
    }
   ],
   "source": [
    "class Animal:\n",
    "    def sound(self):\n",
    "        print(\"Some sound\")\n",
    "\n",
    "class Mammal:\n",
    "    def give_birth(self):\n",
    "        print(\"Giving birth to live young\")\n",
    "\n",
    "class Dog(Animal, Mammal):\n",
    "    def sound(self):\n",
    "        print(\"Bark\")\n",
    "\n",
    "# Creating an instance of the Dog class\n",
    "dog = Dog()\n",
    "dog.sound()       # Output: Bark\n",
    "dog.give_birth()  # Output: Giving birth to live young\n"
   ]
  },
  {
   "cell_type": "markdown",
   "id": "2f242fdc-8d18-4713-9cd8-18d846497337",
   "metadata": {},
   "source": [
    "q.3"
   ]
  },
  {
   "cell_type": "code",
   "execution_count": 81,
   "id": "81932961-d6cc-4e03-9f94-f3ad0f770df8",
   "metadata": {},
   "outputs": [],
   "source": [
    "#Certainly! Here is an example of the Vehicle class and its child class Car:\n",
    "\n"
   ]
  },
  {
   "cell_type": "code",
   "execution_count": 82,
   "id": "6e29bd6d-f16b-4f02-81cf-03199f3adb94",
   "metadata": {},
   "outputs": [
    {
     "name": "stdout",
     "output_type": "stream",
     "text": [
      "Color: Red\n",
      "Speed: 100\n",
      "Brand: Toyota\n"
     ]
    }
   ],
   "source": [
    "class Vehicle:\n",
    "    def __init__(self, color, speed):\n",
    "        self.color = color\n",
    "        self.speed = speed\n",
    "\n",
    "class Car(Vehicle):\n",
    "    def __init__(self, color, speed, brand):\n",
    "        # Call the constructor of the parent class (Vehicle) using super() method\n",
    "        super().__init__(color, speed)\n",
    "        self.brand = brand\n",
    "\n",
    "# Example of creating a Car object\n",
    "car = Car(color=\"Red\", speed=100, brand=\"Toyota\")\n",
    "\n",
    "# Accessing attributes of the Car object\n",
    "print(\"Color:\", car.color)  # Output: Color: Red\n",
    "print(\"Speed:\", car.speed)  # Output: Speed: 100\n",
    "print(\"Brand:\", car.brand)  # Output: Brand: Toyota\n"
   ]
  },
  {
   "cell_type": "markdown",
   "id": "56041f57-b2ef-49b8-813d-a9c9b7ba1c7c",
   "metadata": {},
   "source": [
    "q.4"
   ]
  },
  {
   "cell_type": "code",
   "execution_count": 83,
   "id": "62f8fa51-d381-4d64-a1b2-7e72053f5e44",
   "metadata": {},
   "outputs": [],
   "source": [
    "#Method overriding in inheritance is a concept in object-oriented programming where a subclass provides a specific implementation of a method that is already defined in its superclass. When a method in the subclass has the same name, return type, and parameters as a method in its superclass, the subclass method overrides the superclass method. This allows the subclass to provide its own version of the method behavior while inheriting other properties and methods from the superclass.\n",
    "\n",
    "#When you override a method, you are replacing the implementation of that method in the superclass with a new implementation in the subclass. This allows you to customize the behavior of the method for the specific subclass without changing the method's signature in the superclass."
   ]
  },
  {
   "cell_type": "code",
   "execution_count": 84,
   "id": "550b14f8-ab9f-42db-9d41-401e377ce7d9",
   "metadata": {},
   "outputs": [],
   "source": [
    "#Practical Example of Method Overriding:\n",
    "#Let's consider a practical example using Python. We'll create a base class Shape with a method area(), and then create two subclasses Circle and Rectangle that override the area() method according to their specific shapes"
   ]
  },
  {
   "cell_type": "code",
   "execution_count": 85,
   "id": "4da88c6f-6ee8-4510-bbac-446225df25e9",
   "metadata": {},
   "outputs": [
    {
     "name": "stdout",
     "output_type": "stream",
     "text": [
      "Area of the Circle: 78.5\n",
      "Area of the Rectangle: 24\n"
     ]
    }
   ],
   "source": [
    "class Shape:\n",
    "    def area(self):\n",
    "        return 0\n",
    "\n",
    "class Circle(Shape):\n",
    "    def __init__(self, radius):\n",
    "        self.radius = radius\n",
    "    \n",
    "    # Override the area method for Circle\n",
    "    def area(self):\n",
    "        return 3.14 * self.radius * self.radius\n",
    "\n",
    "class Rectangle(Shape):\n",
    "    def __init__(self, width, height):\n",
    "        self.width = width\n",
    "        self.height = height\n",
    "    \n",
    "    # Override the area method for Rectangle\n",
    "    def area(self):\n",
    "        return self.width * self.height\n",
    "\n",
    "# Creating objects of Circle and Rectangle\n",
    "circle = Circle(5)\n",
    "rectangle = Rectangle(4, 6)\n",
    "\n",
    "# Calling the area method of Circle and Rectangle\n",
    "print(\"Area of the Circle:\", circle.area())       # Output: Area of the Circle: 78.5\n",
    "print(\"Area of the Rectangle:\", rectangle.area()) # Output: Area of the Rectangle: 24\n"
   ]
  },
  {
   "cell_type": "markdown",
   "id": "6dfc2385-5650-4527-95ea-89519356d6b3",
   "metadata": {},
   "source": [
    "q.5"
   ]
  },
  {
   "cell_type": "code",
   "execution_count": 86,
   "id": "c944a14c-d951-4c70-8116-d995fd79fd3d",
   "metadata": {},
   "outputs": [],
   "source": [
    "#In Python, you can access the methods and attributes of a parent class from a child class by using the super() function. The super() function returns a temporary object of the superclass, which allows you to call its methods and access its attributes. This is particularly useful when you want to override a method in the child class but still want to use the functionality of the parent class within the overridden method.\n",
    "\n",
    "#Here's an example to illustrate how to access methods and attributes of a parent class from a child class:"
   ]
  },
  {
   "cell_type": "code",
   "execution_count": 87,
   "id": "8c00b9f8-de1f-4ebd-b929-acfbedc6df29",
   "metadata": {},
   "outputs": [
    {
     "name": "stdout",
     "output_type": "stream",
     "text": [
      "Hello, Alice!\n",
      "You are 10 years old.\n",
      "Name: Alice\n"
     ]
    }
   ],
   "source": [
    "class Parent:\n",
    "    def __init__(self, name):\n",
    "        self.name = name\n",
    "\n",
    "    def greet(self):\n",
    "        print(f\"Hello, {self.name}!\")\n",
    "\n",
    "class Child(Parent):\n",
    "    def __init__(self, name, age):\n",
    "        # Call the constructor of the parent class using super() function\n",
    "        super().__init__(name)\n",
    "        self.age = age\n",
    "\n",
    "    def greet(self):\n",
    "        # Call the greet() method of the parent class using super() function\n",
    "        super().greet()\n",
    "        print(f\"You are {self.age} years old.\")\n",
    "\n",
    "# Create an object of the Child class\n",
    "child = Child(name=\"Alice\", age=10)\n",
    "\n",
    "# Call the greet() method of the Child class, which also calls the greet() method of the Parent class\n",
    "child.greet()\n",
    "\n",
    "# Access the attribute from the Parent class\n",
    "print(\"Name:\", child.name)  # Output: Name: Alice\n"
   ]
  },
  {
   "cell_type": "markdown",
   "id": "d835828c-1f4f-4bc9-89fe-186e11d49cd5",
   "metadata": {},
   "source": [
    "q.6"
   ]
  },
  {
   "cell_type": "code",
   "execution_count": 88,
   "id": "913df289-fba9-4e68-9cb5-677095003251",
   "metadata": {},
   "outputs": [],
   "source": [
    "#In Python, the super() function is used in the context of inheritance to call methods and access attributes from a parent class within a child class. It returns a temporary object of the superclass, allowing you to invoke its methods and access its attributes. The primary purpose of super() is to enable cooperative multiple inheritance and to allow proper initialization of parent classes.\n",
    "\n",
    "#Use Cases of super() Function:\n",
    "#Calling Parent Class Methods: It allows a subclass to call methods defined in its superclass, allowing for method overriding while retaining the functionality of the parent class.\n",
    "\n",
    "#Accessing Parent Class Attributes: It enables a subclass to access attributes and properties defined in its superclass, promoting code reuse and maintaining encapsulation.\n",
    "\n",
    "#Cooperative Multiple Inheritance: In cases where a class inherits from multiple parent classes, super() helps in maintaining the method resolution order (MRO) and ensures that methods are called in a predictable order.\n",
    "\n",
    "#Example:\n",
    "#Consider a scenario where you have a base class Animal and subclasses Dog and Cat:"
   ]
  },
  {
   "cell_type": "code",
   "execution_count": 89,
   "id": "bf78b944-a505-42ab-b9bd-360a2880b387",
   "metadata": {},
   "outputs": [],
   "source": [
    "class Animal:\n",
    "    def __init__(self, name):\n",
    "        self.name = name\n",
    "\n",
    "    def speak(self):\n",
    "        pass\n",
    "\n",
    "class Dog(Animal):\n",
    "    def speak(self):\n",
    "        return \"Woof!\"\n",
    "\n",
    "class Cat(Animal):\n",
    "    def speak(self):\n",
    "        return \"Meow!\"\n"
   ]
  },
  {
   "cell_type": "code",
   "execution_count": 90,
   "id": "0866d967-16a4-4755-a59e-a1ad299892e8",
   "metadata": {},
   "outputs": [],
   "source": [
    "#Using super(), you can ensure that the initialization of the parent class is done properly, and you can call the overridden methods:"
   ]
  },
  {
   "cell_type": "code",
   "execution_count": 91,
   "id": "d7c38975-81ad-47ee-be36-1883cd8aa570",
   "metadata": {},
   "outputs": [
    {
     "name": "stdout",
     "output_type": "stream",
     "text": [
      "Buddy says: Woof!\n",
      "Whiskers says: Meow!\n"
     ]
    }
   ],
   "source": [
    "class Animal:\n",
    "    def __init__(self, name):\n",
    "        self.name = name\n",
    "\n",
    "    def speak(self):\n",
    "        pass\n",
    "\n",
    "class Dog(Animal):\n",
    "    def __init__(self, name, breed):\n",
    "        super().__init__(name)  # Call the constructor of the parent class\n",
    "        self.breed = breed\n",
    "\n",
    "    def speak(self):\n",
    "        return \"Woof!\"\n",
    "\n",
    "class Cat(Animal):\n",
    "    def __init__(self, name, color):\n",
    "        super().__init__(name)  # Call the constructor of the parent class\n",
    "        self.color = color\n",
    "\n",
    "    def speak(self):\n",
    "        return \"Meow!\"\n",
    "\n",
    "# Example usage\n",
    "dog = Dog(name=\"Buddy\", breed=\"Golden Retriever\")\n",
    "cat = Cat(name=\"Whiskers\", color=\"Calico\")\n",
    "\n",
    "print(f\"{dog.name} says: {dog.speak()}\")  # Output: Buddy says: Woof!\n",
    "print(f\"{cat.name} says: {cat.speak()}\")  # Output: Whiskers says: Meow!\n"
   ]
  },
  {
   "cell_type": "markdown",
   "id": "989bff9b-6f95-4190-93e6-c8f49f7d91ac",
   "metadata": {},
   "source": [
    "q.7"
   ]
  },
  {
   "cell_type": "code",
   "execution_count": 92,
   "id": "05353900-aef0-4a0a-8bb6-b31303f82069",
   "metadata": {},
   "outputs": [],
   "source": [
    "#Certainly! Here's how you can create the Animal class with a speak() method and its child classes Dog and Cat that inherit from Animal and override the speak() method. I'll also provide an example of using these classes:"
   ]
  },
  {
   "cell_type": "code",
   "execution_count": 93,
   "id": "5effbf7d-57c0-4420-892d-d41b2ac80c1b",
   "metadata": {},
   "outputs": [
    {
     "name": "stdout",
     "output_type": "stream",
     "text": [
      "Animal speaks: Animal sound\n",
      "Dog speaks: Woof!\n",
      "Cat speaks: Meow!\n"
     ]
    }
   ],
   "source": [
    "class Animal:\n",
    "    def speak(self):\n",
    "        return \"Animal sound\"\n",
    "\n",
    "class Dog(Animal):\n",
    "    def speak(self):\n",
    "        return \"Woof!\"\n",
    "\n",
    "class Cat(Animal):\n",
    "    def speak(self):\n",
    "        return \"Meow!\"\n",
    "\n",
    "# Example usage of the classes\n",
    "animal = Animal()\n",
    "dog = Dog()\n",
    "cat = Cat()\n",
    "\n",
    "print(\"Animal speaks:\", animal.speak())  # Output: Animal speaks: Animal sound\n",
    "print(\"Dog speaks:\", dog.speak())        # Output: Dog speaks: Woof!\n",
    "print(\"Cat speaks:\", cat.speak())        # Output: Cat speaks: Meow!\n"
   ]
  },
  {
   "cell_type": "markdown",
   "id": "e06d5307-0501-4830-b558-8ef9012e175d",
   "metadata": {},
   "source": [
    "q.8"
   ]
  },
  {
   "cell_type": "code",
   "execution_count": 94,
   "id": "08d4723d-71e4-4998-a87d-dc45ccfcda92",
   "metadata": {},
   "outputs": [],
   "source": [
    "#In Python, the isinstance() function is used to determine if an object is an instance of a specified class or a subclass thereof. It returns True if the object is an instance of the specified class or a subclass, and False otherwise. The isinstance() function is particularly useful in the context of inheritance, where it allows you to check the type of an object and make decisions based on its class hierarchy.\n",
    "\n",
    "#Here's how isinstance() is typically used in the context of inheritance:"
   ]
  },
  {
   "cell_type": "code",
   "execution_count": 95,
   "id": "87e8d2d7-c9e0-47f0-a582-ab789168356e",
   "metadata": {},
   "outputs": [],
   "source": [
    "#1. Checking if an Object is an Instance of a Specific Class:"
   ]
  },
  {
   "cell_type": "code",
   "execution_count": 96,
   "id": "4ad2b097-01a0-4cb4-9a7e-624d4d6f0098",
   "metadata": {},
   "outputs": [
    {
     "name": "stdout",
     "output_type": "stream",
     "text": [
      "True\n",
      "True\n",
      "True\n"
     ]
    }
   ],
   "source": [
    "class Animal:\n",
    "    pass\n",
    "\n",
    "class Dog(Animal):\n",
    "    pass\n",
    "\n",
    "dog = Dog()\n",
    "\n",
    "print(isinstance(dog, Dog))      # Output: True\n",
    "print(isinstance(dog, Animal))   # Output: True\n",
    "print(isinstance(dog, object))   # Output: True\n"
   ]
  },
  {
   "cell_type": "code",
   "execution_count": 97,
   "id": "7b000cab-9934-4577-9686-842d56337460",
   "metadata": {},
   "outputs": [],
   "source": [
    "#2. Checking Types Dynamically:\n",
    "#isinstance() is often used to handle objects dynamically based on their types, especially in cases where polymorphism (ability to use different classes through a common interface) is employed."
   ]
  },
  {
   "cell_type": "code",
   "execution_count": 98,
   "id": "e850ce07-d58c-4eae-8a6f-3054958549d7",
   "metadata": {},
   "outputs": [
    {
     "name": "stdout",
     "output_type": "stream",
     "text": [
      "Drawing a circle\n",
      "Drawing a square\n"
     ]
    }
   ],
   "source": [
    "class Shape:\n",
    "    def draw(self):\n",
    "        pass\n",
    "\n",
    "class Circle(Shape):\n",
    "    def draw(self):\n",
    "        print(\"Drawing a circle\")\n",
    "\n",
    "class Square(Shape):\n",
    "    def draw(self):\n",
    "        print(\"Drawing a square\")\n",
    "\n",
    "# Dynamic handling of objects\n",
    "shapes = [Circle(), Square()]\n",
    "\n",
    "for shape in shapes:\n",
    "    if isinstance(shape, Shape):\n",
    "        shape.draw()\n"
   ]
  },
  {
   "cell_type": "markdown",
   "id": "c9300c48-23af-4029-a7cb-1dd77468ea8e",
   "metadata": {},
   "source": [
    "q.9"
   ]
  },
  {
   "cell_type": "code",
   "execution_count": 99,
   "id": "b8bec742-bfdb-4f38-be5b-dc47eea60695",
   "metadata": {},
   "outputs": [],
   "source": [
    "#he issubclass() function in Python is used to determine whether a class is a subclass of another class. It returns True if the class is a subclass of the specified class, and False otherwise. This function is particularly useful when you want to check the inheritance relationship between two classes without creating objects of those classes.\n",
    "\n",
    "#Here's an example that demonstrates the usage of the issubclass() function"
   ]
  },
  {
   "cell_type": "code",
   "execution_count": 100,
   "id": "05a54919-9de5-4ec9-a9e5-7d91b8cdb542",
   "metadata": {},
   "outputs": [
    {
     "name": "stdout",
     "output_type": "stream",
     "text": [
      "True\n",
      "True\n",
      "True\n",
      "False\n",
      "False\n"
     ]
    }
   ],
   "source": [
    "class Animal:\n",
    "    pass\n",
    "\n",
    "class Mammal(Animal):\n",
    "    pass\n",
    "\n",
    "class Dog(Mammal):\n",
    "    pass\n",
    "\n",
    "# Checking if a class is a subclass of another class\n",
    "print(issubclass(Mammal, Animal))  # Output: True (Mammal is a subclass of Animal)\n",
    "print(issubclass(Dog, Animal))     # Output: True (Dog is a subclass of Animal)\n",
    "print(issubclass(Dog, Mammal))     # Output: True (Dog is a subclass of Mammal)\n",
    "\n",
    "# Negative cases\n",
    "print(issubclass(Animal, Mammal))  # Output: False (Animal is not a subclass of Mammal)\n",
    "print(issubclass(int, Animal))     # Output: False (int is not a subclass of Animal)\n"
   ]
  },
  {
   "cell_type": "markdown",
   "id": "c7822c4f-7871-4ae9-9b9b-b42d9020cdfb",
   "metadata": {},
   "source": [
    "q.10"
   ]
  },
  {
   "cell_type": "code",
   "execution_count": 101,
   "id": "93d97932-4cae-4b7e-9c56-73d05b37423e",
   "metadata": {},
   "outputs": [],
   "source": [
    "#In Python, constructor inheritance refers to the ability of a subclass to inherit the constructor (__init__ method) of its parent class. When a subclass is created without its own constructor, it automatically inherits the constructor of its parent class. This means that if a subclass does not define its own __init__ method, it can still create instances with the attributes defined in the parent class's constructor.\n",
    "\n",
    "#Here's how constructor inheritance works in Python"
   ]
  },
  {
   "cell_type": "code",
   "execution_count": 102,
   "id": "b96acdd9-0802-4b76-8300-92d30afe6d82",
   "metadata": {},
   "outputs": [],
   "source": [
    "#1. Child Class with No Explicit Constructor:\n",
    "#If a child class does not have its own __init__ method, it automatically inherits the constructor from its parent class. This allows the child class objects to be initialized with the attributes defined in the parent class."
   ]
  },
  {
   "cell_type": "code",
   "execution_count": 103,
   "id": "f11f6362-1c15-43a2-b85e-37cac8de6981",
   "metadata": {},
   "outputs": [
    {
     "name": "stdout",
     "output_type": "stream",
     "text": [
      "Inherited Attribute\n"
     ]
    }
   ],
   "source": [
    "class Parent:\n",
    "    def __init__(self, parent_attr):\n",
    "        self.parent_attr = parent_attr\n",
    "\n",
    "class Child(Parent):\n",
    "    # Child class has no __init__ method\n",
    "    pass\n",
    "\n",
    "# Creating an object of the Child class\n",
    "child_obj = Child(parent_attr=\"Inherited Attribute\")\n",
    "\n",
    "print(child_obj.parent_attr)  # Output: Inherited Attribute\n"
   ]
  },
  {
   "cell_type": "code",
   "execution_count": 104,
   "id": "92f0df8f-53a5-43cf-a76e-c3c971b8755e",
   "metadata": {},
   "outputs": [],
   "source": [
    "#2. Child Class with an Explicit Constructor:\n",
    "#If a child class has its own __init__ method, it can call the constructor of the parent class explicitly using the super() function to initialize the attributes from the parent class. This allows the child class to extend the behavior of the parent class's constructor."
   ]
  },
  {
   "cell_type": "code",
   "execution_count": 105,
   "id": "3f2b8aaa-1695-49d4-a4d3-f93063dbc712",
   "metadata": {},
   "outputs": [
    {
     "name": "stdout",
     "output_type": "stream",
     "text": [
      "Inherited Attribute\n",
      "Child Attribute\n"
     ]
    }
   ],
   "source": [
    "class Parent:\n",
    "    def __init__(self, parent_attr):\n",
    "        self.parent_attr = parent_attr\n",
    "\n",
    "class Child(Parent):\n",
    "    def __init__(self, parent_attr, child_attr):\n",
    "        super().__init__(parent_attr)  # Call the parent class's constructor\n",
    "        self.child_attr = child_attr\n",
    "\n",
    "# Creating an object of the Child class with explicit constructor\n",
    "child_obj = Child(parent_attr=\"Inherited Attribute\", child_attr=\"Child Attribute\")\n",
    "\n",
    "print(child_obj.parent_attr)  # Output: Inherited Attribute\n",
    "print(child_obj.child_attr)   # Output: Child Attribute\n"
   ]
  },
  {
   "cell_type": "markdown",
   "id": "a9b8f038-5e04-45fc-95e0-64ae35a1eafb",
   "metadata": {},
   "source": [
    "q.11"
   ]
  },
  {
   "cell_type": "code",
   "execution_count": 106,
   "id": "fed2f4db-709c-4f00-ae32-ece6ebf3aec0",
   "metadata": {},
   "outputs": [],
   "source": [
    "#Certainly! Here's how you can create the Shape class with an area() method, and its child classes Circle and Rectangle that inherit from Shape and implement the area() method for their specific shapes. I'll also provide an example of using these classes:"
   ]
  },
  {
   "cell_type": "code",
   "execution_count": 107,
   "id": "15c9cae1-c8b1-4528-9a22-a14d59fe6cde",
   "metadata": {},
   "outputs": [
    {
     "name": "stdout",
     "output_type": "stream",
     "text": [
      "Area of the Circle: 78.53981633974483\n",
      "Area of the Rectangle: 24\n"
     ]
    }
   ],
   "source": [
    "import math\n",
    "\n",
    "class Shape:\n",
    "    def area(self):\n",
    "        pass\n",
    "\n",
    "class Circle(Shape):\n",
    "    def __init__(self, radius):\n",
    "        self.radius = radius\n",
    "    \n",
    "    # Implementing the area() method for Circle\n",
    "    def area(self):\n",
    "        return math.pi * self.radius**2\n",
    "\n",
    "class Rectangle(Shape):\n",
    "    def __init__(self, width, height):\n",
    "        self.width = width\n",
    "        self.height = height\n",
    "    \n",
    "    # Implementing the area() method for Rectangle\n",
    "    def area(self):\n",
    "        return self.width * self.height\n",
    "\n",
    "# Example usage of the classes\n",
    "circle = Circle(radius=5)\n",
    "rectangle = Rectangle(width=4, height=6)\n",
    "\n",
    "# Calculating and printing the areas of the shapes\n",
    "print(\"Area of the Circle:\", circle.area())       # Output: Area of the Circle: 78.54 (approximately)\n",
    "print(\"Area of the Rectangle:\", rectangle.area()) # Output: Area of the Rectangle: 24\n"
   ]
  },
  {
   "cell_type": "markdown",
   "id": "cc230438-0f4d-44a7-8a8b-2f6e8c6e0f40",
   "metadata": {},
   "source": [
    "q.12"
   ]
  },
  {
   "cell_type": "code",
   "execution_count": 108,
   "id": "66ae7dba-750f-4ae7-96e5-a2f545c8a06b",
   "metadata": {},
   "outputs": [],
   "source": [
    "#In Python, abstract base classes (ABCs) are used to define a blueprint for other classes. An abstract base class cannot be instantiated on its own and is meant to be subclassed by other classes. ABCs allow you to define abstract methods, which are methods that must be implemented by any concrete (non-abstract) subclass. Abstract base classes ensure that certain methods are implemented in all the child classes, enforcing a common interface and ensuring a consistent behavior across subclasses.\n",
    "\n",
    "#The abc module in Python provides a way to work with ABCs. You can create abstract base classes using the ABC class from the abc module, and abstract methods using the @abstractmethod decorator. Any class inheriting from an ABC must implement all abstract methods declared by the ABC.\n",
    "\n",
    "#Here's an example using the abc module to create an abstract base class Shape with an abstract method area(). Two concrete subclasses Circle and Rectangle are created, both inheriting from Shape and implementing the area() method:"
   ]
  },
  {
   "cell_type": "code",
   "execution_count": 109,
   "id": "c7ad8324-f3c7-4858-b6fa-e62957fb5432",
   "metadata": {},
   "outputs": [
    {
     "name": "stdout",
     "output_type": "stream",
     "text": [
      "Area of the Circle: 78.53981633974483\n",
      "Area of the Rectangle: 24\n"
     ]
    }
   ],
   "source": [
    "from abc import ABC, abstractmethod\n",
    "import math\n",
    "\n",
    "# Define abstract base class Shape\n",
    "class Shape(ABC):\n",
    "    @abstractmethod\n",
    "    def area(self):\n",
    "        pass\n",
    "\n",
    "# Concrete subclass Circle inheriting from Shape\n",
    "class Circle(Shape):\n",
    "    def __init__(self, radius):\n",
    "        self.radius = radius\n",
    "\n",
    "    # Implementing the area() method for Circle\n",
    "    def area(self):\n",
    "        return math.pi * self.radius**2\n",
    "\n",
    "# Concrete subclass Rectangle inheriting from Shape\n",
    "class Rectangle(Shape):\n",
    "    def __init__(self, width, height):\n",
    "        self.width = width\n",
    "        self.height = height\n",
    "\n",
    "    # Implementing the area() method for Rectangle\n",
    "    def area(self):\n",
    "        return self.width * self.height\n",
    "\n",
    "# Creating objects and calling area() method\n",
    "circle = Circle(radius=5)\n",
    "rectangle = Rectangle(width=4, height=6)\n",
    "\n",
    "print(\"Area of the Circle:\", circle.area())       # Output: Area of the Circle: 78.54 (approximately)\n",
    "print(\"Area of the Rectangle:\", rectangle.area()) # Output: Area of the Rectangle: 24\n"
   ]
  },
  {
   "cell_type": "markdown",
   "id": "2df20c7f-9f33-424d-b01b-b475f92584a5",
   "metadata": {},
   "source": [
    "q.13"
   ]
  },
  {
   "cell_type": "code",
   "execution_count": 110,
   "id": "5dbfe717-6737-49c4-ac5b-20867936642a",
   "metadata": {},
   "outputs": [],
   "source": [
    "#In Python, you can prevent a child class from modifying certain attributes or methods inherited from a parent class by making those attributes or methods private or protected. This ensures that the child class cannot directly access or modify them. Here's how you can achieve this using private and protected members:\n",
    "\n",
    "#Private Members:\n",
    "#In Python, you can create private members (attributes or methods) by prefixing their names with double underscores __. Private members are not accessible from outside the class, including subclasses.\n",
    "\n",
    "#Example with private attributes:"
   ]
  },
  {
   "cell_type": "code",
   "execution_count": 111,
   "id": "f6adb1f4-da37-4d0a-9390-7b8d0e3e7c25",
   "metadata": {},
   "outputs": [
    {
     "name": "stdout",
     "output_type": "stream",
     "text": [
      "10\n"
     ]
    }
   ],
   "source": [
    "class Parent:\n",
    "    def __init__(self):\n",
    "        self.__private_attr = 10  # Private attribute\n",
    "\n",
    "    def get_private_attr(self):\n",
    "        return self.__private_attr\n",
    "\n",
    "class Child(Parent):\n",
    "    def __init__(self):\n",
    "        super().__init__()\n",
    "        # Trying to modify the private attribute of the parent class will raise an error\n",
    "        # self.__private_attr = 20  # Uncommenting this line would result in an AttributeError\n",
    "\n",
    "# Example usage\n",
    "child = Child()\n",
    "print(child.get_private_attr())  # Output: 10\n",
    "# Trying to access the private attribute directly would raise an AttributeError\n",
    "# print(child.__private_attr)  # Uncommenting this line would result in an AttributeError\n"
   ]
  },
  {
   "cell_type": "code",
   "execution_count": 112,
   "id": "47bdafac-0b4d-4637-95d8-10032f7073e4",
   "metadata": {},
   "outputs": [],
   "source": [
    "#Protected Members:\n",
    "#In Python, you can create protected members (attributes or methods) by prefixing their names with a single underscore _. Protected members are accessible within the class and its subclasses.\n",
    "\n",
    "#Example with protected methods:"
   ]
  },
  {
   "cell_type": "code",
   "execution_count": 113,
   "id": "6dc4d46b-b2cd-4fb1-ba49-1a7d642b3a4e",
   "metadata": {},
   "outputs": [
    {
     "name": "stdout",
     "output_type": "stream",
     "text": [
      "This is a protected method.\n",
      "20\n"
     ]
    }
   ],
   "source": [
    "class Parent:\n",
    "    def __init__(self):\n",
    "        self._protected_attr = 10  # Protected attribute\n",
    "\n",
    "    def _protected_method(self):\n",
    "        print(\"This is a protected method.\")\n",
    "\n",
    "class Child(Parent):\n",
    "    def __init__(self):\n",
    "        super().__init__()\n",
    "        self._protected_attr = 20  # Modifying the protected attribute is allowed\n",
    "        self._protected_method()   # Calling the protected method is allowed\n",
    "\n",
    "# Example usage\n",
    "child = Child()\n",
    "print(child._protected_attr)  # Output: 20\n"
   ]
  },
  {
   "cell_type": "markdown",
   "id": "61213f03-9afc-4f33-8660-ab6f3d3aafd9",
   "metadata": {},
   "source": [
    "q.14"
   ]
  },
  {
   "cell_type": "code",
   "execution_count": 114,
   "id": "9fb0c547-d67e-43e2-802a-84d8ad0ac18e",
   "metadata": {},
   "outputs": [],
   "source": [
    "#Certainly! Here's how you can create the Employee class with attributes name and salary, and a child class Manager that inherits from Employee and adds an attribute department. I'll also provide an example of creating objects for both classes:"
   ]
  },
  {
   "cell_type": "code",
   "execution_count": 115,
   "id": "c16a89f8-2b17-4736-9bf2-9d8a4a97383a",
   "metadata": {},
   "outputs": [
    {
     "name": "stdout",
     "output_type": "stream",
     "text": [
      "Employee Name: Alice\n",
      "Employee Salary: 50000\n",
      "Manager Name: Bob\n",
      "Manager Salary: 60000\n",
      "Manager Department: Sales\n"
     ]
    }
   ],
   "source": [
    "class Employee:\n",
    "    def __init__(self, name, salary):\n",
    "        self.name = name\n",
    "        self.salary = salary\n",
    "\n",
    "class Manager(Employee):\n",
    "    def __init__(self, name, salary, department):\n",
    "        super().__init__(name, salary)  # Call the constructor of the parent class (Employee)\n",
    "        self.department = department\n",
    "\n",
    "# Example usage\n",
    "employee1 = Employee(name=\"Alice\", salary=50000)\n",
    "manager1 = Manager(name=\"Bob\", salary=60000, department=\"Sales\")\n",
    "\n",
    "print(\"Employee Name:\", employee1.name)           # Output: Employee Name: Alice\n",
    "print(\"Employee Salary:\", employee1.salary)       # Output: Employee Salary: 50000\n",
    "\n",
    "print(\"Manager Name:\", manager1.name)             # Output: Manager Name: Bob\n",
    "print(\"Manager Salary:\", manager1.salary)         # Output: Manager Salary: 60000\n",
    "print(\"Manager Department:\", manager1.department) # Output: Manager Department: Sales\n"
   ]
  },
  {
   "cell_type": "markdown",
   "id": "16cad308-31ac-44f5-9d4d-6b751927a285",
   "metadata": {},
   "source": [
    "q.15"
   ]
  },
  {
   "cell_type": "code",
   "execution_count": 116,
   "id": "2fb56474-9042-4be5-9c73-1110c62a767a",
   "metadata": {},
   "outputs": [],
   "source": [
    "#Method overloading and method overriding are two distinct concepts in object-oriented programming, and they serve different purposes.\n",
    "\n",
    "#Method Overloading:\n",
    "#Method overloading in Python allows you to define multiple methods with the same name in the same class. However, the methods must have different signatures, meaning they must differ in the number or types of their parameters. Python does not support method overloading in the traditional sense, where different methods can have the same name but different parameter lists. In Python, you can achieve similar behavior by defining default values for function parameters.\n",
    "\n",
    "#Here's an example demonstrating a form of method overloading in Python:"
   ]
  },
  {
   "cell_type": "code",
   "execution_count": 117,
   "id": "bbcd9730-5595-477c-9f00-e4cffd95efb4",
   "metadata": {},
   "outputs": [],
   "source": [
    "class Calculator:\n",
    "    def add(self, a, b=0):  # Method overloading using default values\n",
    "        return a + b\n",
    "\n",
    "# Example usage\n",
    "calc = Calculator()\n",
    "result1 = calc.add(5)      # Uses default value for b, result1 = 5\n",
    "result2 = calc.add(2, 3)   # Uses provided values for a and b, result2 = 5\n"
   ]
  },
  {
   "cell_type": "code",
   "execution_count": 118,
   "id": "6cdc9a06-6364-4767-92d3-50c77cee6c31",
   "metadata": {},
   "outputs": [],
   "source": [
    "#Method Overriding:\n",
    "#Method overriding, on the other hand, occurs when a subclass provides a specific implementation of a method that is already defined in its superclass. The overriding method in the subclass has the same name, return type, and parameters as the method in the parent class. When you call the method on an object of the subclass, the overridden method in the subclass is executed instead of the method in the parent class.\n",
    "\n",
    "#Here's an example demonstrating method overriding:"
   ]
  },
  {
   "cell_type": "code",
   "execution_count": 119,
   "id": "3b66a551-2383-43fd-ad1b-2b7b040999ba",
   "metadata": {},
   "outputs": [
    {
     "name": "stdout",
     "output_type": "stream",
     "text": [
      "Woof!\n"
     ]
    }
   ],
   "source": [
    "class Animal:\n",
    "    def speak(self):\n",
    "        return \"Animal sound\"\n",
    "\n",
    "class Dog(Animal):\n",
    "    def speak(self):\n",
    "        return \"Woof!\"\n",
    "\n",
    "# Example usage\n",
    "dog = Dog()\n",
    "print(dog.speak())  # Output: Woof!\n"
   ]
  },
  {
   "cell_type": "markdown",
   "id": "3c310651-8834-465e-a040-7f1cfb097cec",
   "metadata": {},
   "source": [
    "q.16"
   ]
  },
  {
   "cell_type": "code",
   "execution_count": 120,
   "id": "e1aa1e28-1098-46a4-a440-bd1fcc887cee",
   "metadata": {},
   "outputs": [],
   "source": [
    "#In Python, the __init__() method is a special method also known as a constructor. It is automatically called when a new object of a class is instantiated. The primary purpose of the __init__() method is to initialize the attributes (variables) of the object to some default or user-defined values. When you create an instance of a class, the __init__() method is automatically called to set up the object's initial state.\n",
    "\n",
    "#In the context of inheritance, the __init__() method in the parent class is often utilized to initialize the attributes that are common to all subclasses. Subclasses can extend or override the __init__() method to add their own attributes or to customize the initialization process. This ensures that the objects of both the parent class and its subclasses are properly initialized when they are created.\n",
    "\n",
    "#Here's an example to illustrate how the __init__() method is used in inheritance:"
   ]
  },
  {
   "cell_type": "code",
   "execution_count": 121,
   "id": "4a42b4cf-dd66-43b8-bc4a-2999f63eb922",
   "metadata": {},
   "outputs": [
    {
     "name": "stdout",
     "output_type": "stream",
     "text": [
      "Unknown\n",
      "Dog\n",
      "Buddy\n",
      "Woof!\n"
     ]
    }
   ],
   "source": [
    "class Animal:\n",
    "    def __init__(self, species):\n",
    "        self.species = species\n",
    "\n",
    "    def make_sound(self):\n",
    "        pass\n",
    "\n",
    "class Dog(Animal):\n",
    "    def __init__(self, name):\n",
    "        # Call the constructor of the parent class (Animal) using super()\n",
    "        super().__init__(species=\"Dog\")\n",
    "        self.name = name\n",
    "\n",
    "    def make_sound(self):\n",
    "        return \"Woof!\"\n",
    "\n",
    "# Creating objects of the classes\n",
    "animal = Animal(species=\"Unknown\")\n",
    "dog = Dog(name=\"Buddy\")\n",
    "\n",
    "print(animal.species)  # Output: Unknown\n",
    "print(dog.species)     # Output: Dog\n",
    "print(dog.name)        # Output: Buddy\n",
    "print(dog.make_sound())  # Output: Woof!\n"
   ]
  },
  {
   "cell_type": "markdown",
   "id": "4f7409b9-ac80-452b-bee4-3fa932c56eef",
   "metadata": {},
   "source": [
    "q.17"
   ]
  },
  {
   "cell_type": "code",
   "execution_count": 122,
   "id": "b39f3f18-bd5c-4d85-9154-76b42074a911",
   "metadata": {},
   "outputs": [],
   "source": [
    "#Certainly! Here's how you can create the Bird class with a fly() method, and its child classes Eagle and Sparrow that inherit from Bird and implement the fly() method differently:\n"
   ]
  },
  {
   "cell_type": "code",
   "execution_count": 123,
   "id": "c053425d-3d80-4952-8fda-0c69bc4b0b2c",
   "metadata": {},
   "outputs": [
    {
     "name": "stdout",
     "output_type": "stream",
     "text": [
      "Eagle can fly at high altitudes.\n",
      "Sparrow can fly at moderate altitudes.\n"
     ]
    }
   ],
   "source": [
    "class Bird:\n",
    "    def fly(self):\n",
    "        pass\n",
    "\n",
    "class Eagle(Bird):\n",
    "    def fly(self):\n",
    "        return \"Eagle can fly at high altitudes.\"\n",
    "\n",
    "class Sparrow(Bird):\n",
    "    def fly(self):\n",
    "        return \"Sparrow can fly at moderate altitudes.\"\n",
    "\n",
    "# Example usage\n",
    "eagle = Eagle()\n",
    "sparrow = Sparrow()\n",
    "\n",
    "print(eagle.fly())    # Output: Eagle can fly at high altitudes.\n",
    "print(sparrow.fly())  # Output: Sparrow can fly at moderate altitudes.\n"
   ]
  },
  {
   "cell_type": "markdown",
   "id": "fa53815f-222d-46ee-9aa7-cbcd7d1f66ff",
   "metadata": {},
   "source": [
    "q.18"
   ]
  },
  {
   "cell_type": "code",
   "execution_count": 124,
   "id": "c4bcf80f-1fc4-4bde-804d-968bc134d4a6",
   "metadata": {},
   "outputs": [],
   "source": [
    "#The \"diamond problem\" (also known as the \"deadly diamond of death\") is a common issue in object-oriented programming languages that support multiple inheritance. It occurs when a class inherits from two or more classes that have a common ancestor. If the derived class calls a method or accesses an attribute that is defined in both parent classes, it can be ambiguous which method or attribute should be used. This ambiguity arises because there is a conflict in the method resolution order (MRO) regarding which parent class's method or attribute should be inherited.\n",
    "\n",
    "#Consider this scenario:"
   ]
  },
  {
   "cell_type": "code",
   "execution_count": 125,
   "id": "7889067e-397e-4d56-9745-5ed5ddaf8839",
   "metadata": {},
   "outputs": [],
   "source": [
    "#Python resolves the diamond problem using a method resolution order (MRO) algorithm known as C3 Linearization. The C3 Linearization algorithm ensures a consistent and predictable order in which base classes are searched when resolving method and attribute lookups. The MRO can be accessed using the mro() method or the __mro__ attribute of a class.\n",
    "\n",
    "#Here's an example demonstrating the diamond problem resolution in Python:"
   ]
  },
  {
   "cell_type": "code",
   "execution_count": 126,
   "id": "24f98816-b1e2-4aa2-a202-a264172f3413",
   "metadata": {},
   "outputs": [
    {
     "name": "stdout",
     "output_type": "stream",
     "text": [
      "[<class '__main__.D'>, <class '__main__.B'>, <class '__main__.C'>, <class '__main__.A'>, <class 'object'>]\n",
      "Hello from class B\n"
     ]
    }
   ],
   "source": [
    "class A:\n",
    "    def say_hello(self):\n",
    "        print(\"Hello from class A\")\n",
    "\n",
    "class B(A):\n",
    "    def say_hello(self):\n",
    "        print(\"Hello from class B\")\n",
    "\n",
    "class C(A):\n",
    "    def say_hello(self):\n",
    "        print(\"Hello from class C\")\n",
    "\n",
    "class D(B, C):\n",
    "    pass\n",
    "\n",
    "# Method resolution order (MRO) for class D\n",
    "print(D.mro())  # Output: [<class '__main__.D'>, <class '__main__.B'>, <class '__main__.C'>, <class '__main__.A'>, <class 'object'>]\n",
    "\n",
    "# Example usage\n",
    "d = D()\n",
    "d.say_hello()\n"
   ]
  },
  {
   "cell_type": "markdown",
   "id": "3214883a-d359-4e6f-b818-ea0f0e297471",
   "metadata": {},
   "source": [
    "q.19"
   ]
  },
  {
   "cell_type": "code",
   "execution_count": 127,
   "id": "2a3c8adc-b220-4910-a519-6ad097deb95f",
   "metadata": {},
   "outputs": [],
   "source": [
    "#In object-oriented programming, \"is-a\" and \"has-a\" relationships are terms used to describe the relationships between classes and objects. These relationships help in modeling real-world scenarios and defining the interactions between different entities.\n",
    "\n",
    "#1. \"Is-a\" Relationship (Inheritance):\n",
    "#\"Is-a\" relationship represents inheritance. It implies that a class is a subclass of another class, inheriting its properties and behaviors. In an \"is-a\" relationship, a class represents a more specialized version of another class.\n",
    "\n",
    "#Example:"
   ]
  },
  {
   "cell_type": "code",
   "execution_count": 128,
   "id": "4641ae4a-50fe-41e0-baf4-bd7a1adcecea",
   "metadata": {},
   "outputs": [],
   "source": [
    "#Consider the relationship between a Vehicle class and a Car class. A car is a type of vehicle, so Car is a subclass of Vehicle. This is an \"is-a\" relationship because a car is a specific kind of vehicle."
   ]
  },
  {
   "cell_type": "code",
   "execution_count": 129,
   "id": "d87f1d4e-9e8e-4cdf-accb-8d9e008d87e4",
   "metadata": {},
   "outputs": [
    {
     "name": "stdout",
     "output_type": "stream",
     "text": [
      "Vehicle is moving\n",
      "Car engine started\n"
     ]
    }
   ],
   "source": [
    "class Vehicle:\n",
    "    def move(self):\n",
    "        print(\"Vehicle is moving\")\n",
    "\n",
    "class Car(Vehicle):  # Car is a subclass of Vehicle\n",
    "    def start_engine(self):\n",
    "        print(\"Car engine started\")\n",
    "\n",
    "car = Car()\n",
    "car.move()           # Output: Vehicle is moving (inherited from Vehicle class)\n",
    "car.start_engine()   # Output: Car engine started (specific to Car class)\n"
   ]
  },
  {
   "cell_type": "code",
   "execution_count": 130,
   "id": "23b16147-82b9-4737-9ab9-49bd1bd8320c",
   "metadata": {},
   "outputs": [],
   "source": [
    "#2. \"Has-a\" Relationship (Composition):\n",
    "#\"Has-a\" relationship represents composition. It implies that a class has another class as a component, indicating that one class contains an instance of another class. In a \"has-a\" relationship, a class represents an entity that contains or is composed of other entities.\n",
    "\n",
    "#Example:\n",
    "#Consider the relationship between a Car class and an Engine class. A car has an engine, so Car has an instance of Engine. This is a \"has-a\" relationship because a car contains an engine as one of its components."
   ]
  },
  {
   "cell_type": "code",
   "execution_count": 131,
   "id": "5ad4e200-94c5-4a66-a813-2c1228cd1cf8",
   "metadata": {},
   "outputs": [
    {
     "name": "stdout",
     "output_type": "stream",
     "text": [
      "Engine started\n"
     ]
    }
   ],
   "source": [
    "class Engine:\n",
    "    def start(self):\n",
    "        print(\"Engine started\")\n",
    "\n",
    "class Car:\n",
    "    def __init__(self):\n",
    "        self.engine = Engine()  # Car has an instance of Engine\n",
    "\n",
    "    def start_engine(self):\n",
    "        self.engine.start()  # Car uses the Engine instance to start the engine\n",
    "\n",
    "car = Car()\n",
    "car.start_engine()  # Output: Engine started (using the Engine instance)\n"
   ]
  },
  {
   "cell_type": "markdown",
   "id": "c4866db6-8dcd-4d42-ba4a-f38f37da5ddb",
   "metadata": {},
   "source": [
    "q.20"
   ]
  },
  {
   "cell_type": "code",
   "execution_count": 132,
   "id": "6b3e17b6-8968-4459-aa70-7d5bdc1d9acc",
   "metadata": {},
   "outputs": [],
   "source": [
    "#Certainly! Below is an example of a Python class hierarchy for a university system. It starts with a base class Person and creates child classes Student and Professor, each with their specific attributes and methods."
   ]
  },
  {
   "cell_type": "code",
   "execution_count": 133,
   "id": "077e6a72-a6ab-433f-bec2-96163a06686b",
   "metadata": {},
   "outputs": [
    {
     "name": "stdout",
     "output_type": "stream",
     "text": [
      "Student ID: S12345, Name: Alice, Age: 20\n",
      "Alice is studying.\n",
      "Employee ID: E6789, Name: Dr. Smith, Age: 45\n",
      "Dr. Smith is teaching.\n"
     ]
    }
   ],
   "source": [
    "class Person:\n",
    "    def __init__(self, name, age):\n",
    "        self.name = name\n",
    "        self.age = age\n",
    "\n",
    "    def get_details(self):\n",
    "        return f\"Name: {self.name}, Age: {self.age}\"\n",
    "\n",
    "class Student(Person):\n",
    "    def __init__(self, name, age, student_id):\n",
    "        super().__init__(name, age)\n",
    "        self.student_id = student_id\n",
    "\n",
    "    def get_details(self):\n",
    "        return f\"Student ID: {self.student_id}, {super().get_details()}\"\n",
    "\n",
    "    def study(self):\n",
    "        return f\"{self.name} is studying.\"\n",
    "\n",
    "class Professor(Person):\n",
    "    def __init__(self, name, age, employee_id):\n",
    "        super().__init__(name, age)\n",
    "        self.employee_id = employee_id\n",
    "\n",
    "    def get_details(self):\n",
    "        return f\"Employee ID: {self.employee_id}, {super().get_details()}\"\n",
    "\n",
    "    def teach(self):\n",
    "        return f\"{self.name} is teaching.\"\n",
    "\n",
    "# Example usage\n",
    "student = Student(name=\"Alice\", age=20, student_id=\"S12345\")\n",
    "professor = Professor(name=\"Dr. Smith\", age=45, employee_id=\"E6789\")\n",
    "\n",
    "print(student.get_details())     # Output: Student ID: S12345, Name: Alice, Age: 20\n",
    "print(student.study())           # Output: Alice is studying.\n",
    "\n",
    "print(professor.get_details())   # Output: Employee ID: E6789, Name: Dr. Smith, Age: 45\n",
    "print(professor.teach())         # Output: Dr. Smith is teaching.\n"
   ]
  },
  {
   "cell_type": "code",
   "execution_count": 134,
   "id": "70cab411-63dd-468c-8cb3-2134413b23dc",
   "metadata": {},
   "outputs": [],
   "source": [
    "#Encapsulation:"
   ]
  },
  {
   "cell_type": "markdown",
   "id": "7196ff65-fddc-4ed2-80c6-a84dd07cfe02",
   "metadata": {},
   "source": [
    "q.1"
   ]
  },
  {
   "cell_type": "code",
   "execution_count": 135,
   "id": "e660a698-af5a-4359-b44a-961042d258c3",
   "metadata": {},
   "outputs": [],
   "source": [
    "#Encapsulation is one of the fundamental principles of object-oriented programming (OOP) and is a concept widely used in Python. It refers to the bundling of data (attributes) and methods that operate on the data into a single unit known as a class. Encapsulation helps in restricting direct access to some of an object's components and can prevent the accidental modification of data.\n",
    "\n",
    "#In Python, encapsulation is achieved through the use of private and protected members. Here's how they work:"
   ]
  },
  {
   "cell_type": "code",
   "execution_count": 136,
   "id": "1aedca2c-7ffa-45f6-a827-66170c8c4454",
   "metadata": {},
   "outputs": [],
   "source": [
    "#Private Members: In Python, you can denote a class member as private by prefixing its name with two underscores (__). Private members are only accessible within the class. They cannot be directly accessed or modified from outside the class. However, Python does not enforce strict private access; it just signals that a member should be treated as private.\n",
    "\n",
    "#Example of a private attribute:"
   ]
  },
  {
   "cell_type": "code",
   "execution_count": 137,
   "id": "9aac4b47-7f27-44f0-a4e1-318f43451346",
   "metadata": {},
   "outputs": [],
   "source": [
    "class MyClass:\n",
    "    def __init__(self):\n",
    "        self.__private_attr = 10  # Private attribute\n",
    "\n",
    "    def get_private_attr(self):\n",
    "        return self.__private_attr\n"
   ]
  },
  {
   "cell_type": "code",
   "execution_count": 138,
   "id": "d5f2c0d3-acfb-4fd3-b9d5-31855387fc04",
   "metadata": {},
   "outputs": [],
   "source": [
    "#Protected Members: In Python, you can denote a class member as protected by prefixing its name with a single underscore (_). Protected members are accessible within the class and its subclasses. While they can be accessed from outside the class, it's a convention that they should not be directly accessed.\n",
    "\n",
    "#Example of a protected attribute:\n"
   ]
  },
  {
   "cell_type": "code",
   "execution_count": 139,
   "id": "a1a3907c-bbb9-47b2-9ad3-cd0a236943f2",
   "metadata": {},
   "outputs": [],
   "source": [
    "class MyClass:\n",
    "    def __init__(self):\n",
    "        self._protected_attr = 10  # Protected attribute\n"
   ]
  },
  {
   "cell_type": "markdown",
   "id": "c5aa00cf-33fb-455c-8859-41f1464bbcd1",
   "metadata": {},
   "source": [
    "Encapsulation plays a significant role in object-oriented programming for several reasons:\n",
    "\n",
    "Data Hiding: Encapsulation allows you to hide the implementation details of a class from the outside world. The internal state of an object is hidden from view and accessed only through public methods, which provide controlled access and modification.\n",
    "\n",
    "Modularity: By bundling data and methods together in a class, encapsulation promotes modularity. Classes can be developed, tested, and debugged independently, making the codebase more manageable and easier to understand.\n",
    "\n",
    "Security: Encapsulation provides a level of security by preventing direct access to certain attributes. This prevents accidental modification of data, ensuring that data remains consistent and valid.\n",
    "\n",
    "Code Organization: Encapsulation helps in organizing and structuring the codebase. It clarifies the relationship between data and methods, making the code more readable and maintainable.\n",
    "\n",
    "In summary, encapsulation in Python promotes data hiding, modularity, security, and code organization. It is a key principle in object-oriented programming, enabling the creation of well-structured, maintainable, and secure software systems.\n",
    "\n",
    "\n",
    "\n",
    "\n"
   ]
  },
  {
   "cell_type": "markdown",
   "id": "d5b29fa0-6646-4d79-8b01-a0cc90ac3917",
   "metadata": {},
   "source": [
    "q.2"
   ]
  },
  {
   "cell_type": "code",
   "execution_count": 140,
   "id": "34c667fe-93fb-4d98-afe5-f7fffd29b7b9",
   "metadata": {},
   "outputs": [],
   "source": [
    "#Encapsulation is one of the fundamental principles of object-oriented programming (OOP) and is essential for creating robust, maintainable, and secure software systems. It involves bundling the data (attributes) and methods (functions) that operate on the data into a single unit known as a class. Encapsulation ensures that the internal state of an object is hidden from the outside world and can only be accessed and modified through public methods, providing controlled and secure access to the object's properties.\n",
    "\n",
    "#Here are the key principles of encapsulation, including access control and data hiding:"
   ]
  },
  {
   "cell_type": "code",
   "execution_count": 141,
   "id": "1ce0eec0-2c52-46d5-b996-fec6dd8a687c",
   "metadata": {},
   "outputs": [],
   "source": [
    "#1. Access Control:\n",
    "#Access control mechanisms determine how and from where class members (attributes and methods) can be accessed. In most object-oriented programming languages, including Python, there are three main access control levels:\n",
    "\n",
    "#Public (default in Python): Members are accessible from anywhere. In Python, all members are public by default.\n",
    "\n",
    "#Example (public attribute)"
   ]
  },
  {
   "cell_type": "code",
   "execution_count": 142,
   "id": "1a30ac81-7bbc-4c18-bbec-b4899fced78e",
   "metadata": {},
   "outputs": [],
   "source": [
    "class MyClass:\n",
    "    def __init__(self):\n",
    "        self.public_attr = 10  # Public attribute\n"
   ]
  },
  {
   "cell_type": "code",
   "execution_count": 143,
   "id": "91389d6d-5662-40d7-a320-3d328aea066c",
   "metadata": {},
   "outputs": [],
   "source": [
    "#Private: Members are accessible only within the class. In Python, private members are denoted by prefixing the member name with double underscores (__).\n",
    "\n",
    "#Example (private attribute):"
   ]
  },
  {
   "cell_type": "code",
   "execution_count": 144,
   "id": "1b2077a4-22a5-4905-9655-89b28116cf5c",
   "metadata": {},
   "outputs": [],
   "source": [
    "class MyClass:\n",
    "    def __init__(self):\n",
    "        self.__private_attr = 10  # Private attribute\n"
   ]
  },
  {
   "cell_type": "code",
   "execution_count": 145,
   "id": "a5813f8a-4139-41f6-82c7-a82c79a9d0b6",
   "metadata": {},
   "outputs": [],
   "source": [
    "#Protected: Members are accessible within the class and its subclasses. In Python, protected members are denoted by prefixing the member name with a single underscore (_). Although they can be accessed, it's a convention that they should not be directly accessed from outside the class.\n",
    "\n",
    "#Example (protected attribute):"
   ]
  },
  {
   "cell_type": "code",
   "execution_count": 146,
   "id": "12e064ee-87a5-437c-b003-0d9bea9a67a0",
   "metadata": {},
   "outputs": [],
   "source": [
    "class MyClass:\n",
    "    def __init__(self):\n",
    "        self._protected_attr = 10  # Protected attribute\n"
   ]
  },
  {
   "cell_type": "markdown",
   "id": "6997aaad-ac90-4083-ab3e-d54e3b15ad92",
   "metadata": {},
   "source": [
    "2. Data Hiding:\n",
    "Data hiding is the concept of restricting the direct access to certain attributes or methods, making them private or protected. It prevents the accidental modification of data and ensures that the internal state of an object is accessed and modified only through public methods, providing a controlled interface to the object's data.\n",
    "\n",
    "In Python, data hiding is achieved through private and protected members, allowing developers to control access to class attributes and methods.\n",
    "\n",
    "Benefits of Data Hiding:\n",
    "\n",
    "Security: Hiding internal data prevents unauthorized access and modification, enhancing the security of the application.\n",
    "Encapsulation: Data hiding is an essential aspect of encapsulation, allowing objects to hide their implementation details and exposing only what is necessary.\n",
    "Consistency: By controlling access to data, you can enforce consistency and validity in the object's state, preventing unexpected changes.\n",
    "Maintenance: Hiding implementation details reduces the impact of changes, making it easier to modify the internal structure without affecting the external code that uses the class.\n",
    "In summary, encapsulation, access control, and data hiding work together to create secure, modular, and maintainable code in object-oriented programming. Encapsulation provides a way to bundle data and methods, access control defines who can access them, and data hiding ensures that internal details are hidden and accessed only through controlled interfaces.\n",
    "\n",
    "\n",
    "\n",
    "\n"
   ]
  },
  {
   "cell_type": "markdown",
   "id": "0e1e4fb6-4a2c-44e9-903e-0aa5aa950064",
   "metadata": {},
   "source": [
    "q.3"
   ]
  },
  {
   "cell_type": "code",
   "execution_count": 147,
   "id": "b037c8c5-3edf-4cc7-b0c7-3388687e80b8",
   "metadata": {},
   "outputs": [],
   "source": [
    "#Encapsulation in Python is achieved by using private and protected members. Private members are denoted by prefixing their names with double underscores (__), and protected members are denoted by prefixing their names with a single underscore (_). These naming conventions signal that certain members should be treated as private or protected, although Python does not enforce strict access control.\n",
    "\n",
    "#Here's an example demonstrating encapsulation in Python classes:"
   ]
  },
  {
   "cell_type": "code",
   "execution_count": 148,
   "id": "cf221b40-dbf4-4709-b485-6cb92b843682",
   "metadata": {},
   "outputs": [
    {
     "name": "stdout",
     "output_type": "stream",
     "text": [
      "XYZ\n",
      "2022\n",
      "This is a protected method.\n",
      "ABC\n"
     ]
    }
   ],
   "source": [
    "class Car:\n",
    "    def __init__(self, model, year):\n",
    "        self.__model = model          # Private attribute\n",
    "        self._year = year             # Protected attribute\n",
    "\n",
    "    def set_model(self, model):\n",
    "        self.__model = model          # Setter for private attribute\n",
    "\n",
    "    def get_model(self):\n",
    "        return self.__model          # Getter for private attribute\n",
    "\n",
    "    def get_year(self):\n",
    "        return self._year            # Getter for protected attribute\n",
    "\n",
    "    def _internal_method(self):\n",
    "        print(\"This is a protected method.\")  # Protected method\n",
    "\n",
    "# Example usage\n",
    "my_car = Car(model=\"XYZ\", year=2022)\n",
    "\n",
    "# Attempting to access private attribute directly results in an error\n",
    "# print(my_car.__model)  # This line would cause an AttributeError\n",
    "\n",
    "# Accessing private attribute using getter method\n",
    "print(my_car.get_model())  # Output: XYZ\n",
    "\n",
    "# Accessing protected attribute directly (Python allows it, but it's a convention not to)\n",
    "print(my_car._year)        # Output: 2022\n",
    "\n",
    "# Accessing protected method\n",
    "my_car._internal_method()  # Output: This is a protected method.\n",
    "\n",
    "# Attempting to modify private attribute directly results in an error\n",
    "# my_car.__model = \"ABC\"  # This line would cause an AttributeError\n",
    "\n",
    "# Modifying private attribute using setter method\n",
    "my_car.set_model(\"ABC\")\n",
    "print(my_car.get_model())  # Output: ABC\n"
   ]
  },
  {
   "cell_type": "markdown",
   "id": "287f56c0-6782-461f-a55d-c020cb9e747f",
   "metadata": {},
   "source": [
    "q.4"
   ]
  },
  {
   "cell_type": "code",
   "execution_count": 149,
   "id": "7c6300f1-c74e-4231-bf80-293ba9515972",
   "metadata": {},
   "outputs": [],
   "source": [
    "#In Python, access modifiers are used to control the visibility and accessibility of class members (attributes and methods) from outside the class. There are three main types of access modifiers in Python: public, private, and protected.\n",
    "\n",
    "#1. Public Access Modifier:\n",
    "#Members declared as public are accessible from anywhere, both within the class and outside the class. In Python, all class members are public by default. You can access and modify public members directly from outside the class.\n",
    "\n",
    "#Example of a public attribute:"
   ]
  },
  {
   "cell_type": "code",
   "execution_count": 150,
   "id": "5b3612eb-bd0f-4cf2-96c0-753948ce7f07",
   "metadata": {},
   "outputs": [
    {
     "name": "stdout",
     "output_type": "stream",
     "text": [
      "10\n",
      "20\n"
     ]
    }
   ],
   "source": [
    "class MyClass:\n",
    "    def __init__(self):\n",
    "        self.public_attr = 10  # Public attribute\n",
    "\n",
    "obj = MyClass()\n",
    "print(obj.public_attr)  # Output: 10\n",
    "obj.public_attr = 20    # Modifying public attribute\n",
    "print(obj.public_attr)  # Output: 20\n"
   ]
  },
  {
   "cell_type": "code",
   "execution_count": 151,
   "id": "317140db-ba61-4a8b-82ca-38b177bcfa3d",
   "metadata": {},
   "outputs": [],
   "source": [
    "#2. Private Access Modifier:\n",
    "#Members declared as private are accessible only within the class. Private members are denoted by prefixing their names with double underscores (__). They cannot be directly accessed or modified from outside the class. However, Python does not enforce strict private access; it just signals that a member should be treated as private.\n",
    "\n",
    "#Example of a private attribute:"
   ]
  },
  {
   "cell_type": "code",
   "execution_count": 152,
   "id": "e1a30bab-e5b8-4e83-9f84-f1750c94ecb5",
   "metadata": {},
   "outputs": [],
   "source": [
    "class MyClass:\n",
    "    def __init__(self):\n",
    "        self.__private_attr = 10  # Private attribute\n",
    "\n",
    "obj = MyClass()\n",
    "# Attempting to access private attribute directly results in an error\n",
    "# print(obj.__private_attr)  # This line would cause an AttributeError\n"
   ]
  },
  {
   "cell_type": "code",
   "execution_count": 153,
   "id": "9f517fef-b876-44c6-bf42-a9e200a4a5ba",
   "metadata": {},
   "outputs": [],
   "source": [
    "#3. Protected Access Modifier:\n",
    "#Members declared as protected are accessible within the class and its subclasses. Protected members are denoted by prefixing their names with a single underscore (_). Although they can be accessed from outside the class, it's a convention that they should not be directly accessed.\n",
    "\n",
    "#Example of a protected attribute:"
   ]
  },
  {
   "cell_type": "code",
   "execution_count": 154,
   "id": "fc70da4f-be61-4053-95d4-9e487b9cd940",
   "metadata": {},
   "outputs": [
    {
     "name": "stdout",
     "output_type": "stream",
     "text": [
      "10\n"
     ]
    }
   ],
   "source": [
    "class MyClass:\n",
    "    def __init__(self):\n",
    "        self._protected_attr = 10  # Protected attribute\n",
    "\n",
    "obj = MyClass()\n",
    "# Accessing protected attribute directly (Python allows it, but it's a convention not to)\n",
    "print(obj._protected_attr)  # Output: 10\n"
   ]
  },
  {
   "cell_type": "markdown",
   "id": "98a5686b-93cf-4eb8-b4e9-911808f19621",
   "metadata": {},
   "source": [
    "q.5"
   ]
  },
  {
   "cell_type": "code",
   "execution_count": 155,
   "id": "93f8a038-5c74-4e13-9e54-11af63e12145",
   "metadata": {},
   "outputs": [],
   "source": [
    "#Certainly! Here's an example of a Python class called Person with a private attribute __name, along with methods to get and set the name attribute:"
   ]
  },
  {
   "cell_type": "code",
   "execution_count": 156,
   "id": "3d9cfd2b-3c8b-4a18-842e-ecbe9d383732",
   "metadata": {},
   "outputs": [
    {
     "name": "stdout",
     "output_type": "stream",
     "text": [
      "Alice\n",
      "Bob\n"
     ]
    }
   ],
   "source": [
    "class Person:\n",
    "    def __init__(self, name):\n",
    "        self.__name = name  # Private attribute\n",
    "\n",
    "    # Getter method to retrieve the private attribute\n",
    "    def get_name(self):\n",
    "        return self.__name\n",
    "\n",
    "    # Setter method to set the private attribute\n",
    "    def set_name(self, name):\n",
    "        self.__name = name\n",
    "\n",
    "# Example usage\n",
    "person = Person(name=\"Alice\")\n",
    "\n",
    "# Getting the name using the getter method\n",
    "print(person.get_name())  # Output: Alice\n",
    "\n",
    "# Setting a new name using the setter method\n",
    "person.set_name(\"Bob\")\n",
    "\n",
    "# Getting the updated name using the getter method\n",
    "print(person.get_name())  # Output: Bob\n"
   ]
  },
  {
   "cell_type": "markdown",
   "id": "734cad0a-dccd-4977-8255-cf651795bcff",
   "metadata": {},
   "source": [
    "q.6"
   ]
  },
  {
   "cell_type": "markdown",
   "id": "f8d1d1f2-f466-4cf8-bd5d-2d61fb85fd5d",
   "metadata": {},
   "source": [
    "\n",
    "Getter and setter methods are used in object-oriented programming to ensure proper encapsulation of class attributes. They allow controlled access to the private or protected attributes of a class, providing a way to retrieve (get) and modify (set) the attribute values. This controlled access is essential for maintaining data integrity, applying validation logic, and encapsulating the internal representation of objects.\n",
    "\n",
    "Purpose of Getter and Setter Methods:\n",
    "Data Encapsulation: Getter and setter methods encapsulate the data, hiding the internal representation of the object's state from the outside world. This ensures that the internal details of the class are hidden and can be changed without affecting the external code.\n",
    "\n",
    "Data Validation: By using setter methods, you can validate the input data before assigning it to an attribute. This allows you to enforce certain constraints on the attribute values, ensuring they are valid and consistent.\n",
    "\n",
    "Flexibility: With getter and setter methods, you can add additional logic, such as logging or calculations, whenever an attribute is accessed or modified. This provides flexibility in extending the behavior of the class.\n",
    "\n",
    "Controlled Access: Getter and setter methods allow you to control how attributes are accessed and modified. You can implement specific access controls or restrictions, ensuring that the object's state is accessed and modified according to the class's rules.\n",
    "\n",
    "Example of Getter and Setter Methods:"
   ]
  },
  {
   "cell_type": "code",
   "execution_count": 157,
   "id": "f3006e1f-382b-4ff7-a5c8-a4af2f81c203",
   "metadata": {},
   "outputs": [
    {
     "name": "stdout",
     "output_type": "stream",
     "text": [
      "Radius: 5\n",
      "Invalid radius. Radius must be a positive number.\n",
      "Radius: 5\n"
     ]
    }
   ],
   "source": [
    "class Circle:\n",
    "    def __init__(self, radius):\n",
    "        self.__radius = radius  # Private attribute\n",
    "\n",
    "    # Getter method to retrieve the private attribute\n",
    "    def get_radius(self):\n",
    "        return self.__radius\n",
    "\n",
    "    # Setter method to set the private attribute with validation logic\n",
    "    def set_radius(self, radius):\n",
    "        if radius > 0:\n",
    "            self.__radius = radius\n",
    "        else:\n",
    "            print(\"Invalid radius. Radius must be a positive number.\")\n",
    "\n",
    "# Example usage\n",
    "circle = Circle(radius=5)\n",
    "\n",
    "# Getting the radius using the getter method\n",
    "print(\"Radius:\", circle.get_radius())  # Output: Radius: 5\n",
    "\n",
    "# Setting a new radius using the setter method with validation\n",
    "circle.set_radius(radius=-3)  # Output: Invalid radius. Radius must be a positive number.\n",
    "\n",
    "# Getting the radius after attempting to set an invalid radius\n",
    "print(\"Radius:\", circle.get_radius())  # Output: Radius: 5 (unchanged due to validation)\n"
   ]
  },
  {
   "cell_type": "markdown",
   "id": "f6347b5f-39a9-4fdc-b334-cc21f4e64f5c",
   "metadata": {},
   "source": [
    "q.7"
   ]
  },
  {
   "cell_type": "code",
   "execution_count": 158,
   "id": "97675919-71c8-4690-b337-c9d2d3a50512",
   "metadata": {},
   "outputs": [],
   "source": [
    "#Name mangling in Python is a technique used to make the names of attributes in a class more unique by adding a prefix to the attribute name. This is done to avoid naming conflicts in case of inheritance, especially when dealing with attributes that are meant to be private. Name mangling is achieved by prefixing the attribute name with a double underscore (__). When name mangling is applied, the interpreter changes the name of the variable in a way that makes it harder to create subclasses that accidentally override the private attributes and methods.\n",
    "\n",
    "#Here's how name mangling works:\n",
    "\n",
    "#Any identifier of the form __variable (at least two leading underscores, but not more than one trailing underscore) is textually replaced with _classname__variable, where classname is the current class name with leading underscore(s) stripped. This makes it difficult to create subclasses that accidentally override private attributes and methods.\n",
    "\n",
    "#For attributes and methods without a double underscore prefix, name mangling does not occur.\n",
    "\n",
    "#Example of Name Mangling:"
   ]
  },
  {
   "cell_type": "code",
   "execution_count": 159,
   "id": "9b92a16a-c78f-433f-bdea-121922c01b35",
   "metadata": {},
   "outputs": [
    {
     "name": "stdout",
     "output_type": "stream",
     "text": [
      "10\n"
     ]
    }
   ],
   "source": [
    "class MyClass:\n",
    "    def __init__(self):\n",
    "        self.__private_attr = 10  # Private attribute with name mangling applied\n",
    "\n",
    "    def get_private_attr(self):\n",
    "        return self.__private_attr\n",
    "\n",
    "obj = MyClass()\n",
    "\n",
    "# Attempting to access private attribute directly after name mangling\n",
    "print(obj._MyClass__private_attr)  # Output: 10\n"
   ]
  },
  {
   "cell_type": "markdown",
   "id": "491a5bac-c8d4-4a50-8531-8e1489e12fb8",
   "metadata": {},
   "source": [
    "q.8"
   ]
  },
  {
   "cell_type": "code",
   "execution_count": 160,
   "id": "389d48b4-c4f1-478c-b5b1-180af9f75a85",
   "metadata": {},
   "outputs": [],
   "source": [
    "#Certainly! Below is an example of a Python class called BankAccount with private attributes for the account balance (__balance) and account number (__account_number). It provides methods for depositing and withdrawing money while encapsulating the balance and account number for security."
   ]
  },
  {
   "cell_type": "code",
   "execution_count": 161,
   "id": "92ff7385-b9f8-4f3d-a48f-df8c62af1f26",
   "metadata": {},
   "outputs": [
    {
     "name": "stdout",
     "output_type": "stream",
     "text": [
      "Account Number: 123456789\n",
      "Initial Balance: 1000\n",
      "Deposited $500. New balance: $1500\n",
      "Withdrew $200. New balance: $1300\n",
      "Invalid withdrawal amount or insufficient balance.\n"
     ]
    }
   ],
   "source": [
    "class BankAccount:\n",
    "    def __init__(self, account_number, initial_balance=0):\n",
    "        self.__account_number = account_number  # Private attribute for account number\n",
    "        self.__balance = initial_balance  # Private attribute for account balance\n",
    "\n",
    "    def deposit(self, amount):\n",
    "        if amount > 0:\n",
    "            self.__balance += amount\n",
    "            print(f\"Deposited ${amount}. New balance: ${self.__balance}\")\n",
    "        else:\n",
    "            print(\"Invalid deposit amount.\")\n",
    "\n",
    "    def withdraw(self, amount):\n",
    "        if 0 < amount <= self.__balance:\n",
    "            self.__balance -= amount\n",
    "            print(f\"Withdrew ${amount}. New balance: ${self.__balance}\")\n",
    "        else:\n",
    "            print(\"Invalid withdrawal amount or insufficient balance.\")\n",
    "\n",
    "    # Getter methods to retrieve private attributes\n",
    "    def get_balance(self):\n",
    "        return self.__balance\n",
    "\n",
    "    def get_account_number(self):\n",
    "        return self.__account_number\n",
    "\n",
    "# Example usage\n",
    "account_number = \"123456789\"\n",
    "initial_balance = 1000\n",
    "\n",
    "# Creating a BankAccount object\n",
    "account = BankAccount(account_number, initial_balance)\n",
    "\n",
    "# Accessing private attributes through getter methods\n",
    "print(\"Account Number:\", account.get_account_number())  # Output: Account Number: 123456789\n",
    "print(\"Initial Balance:\", account.get_balance())        # Output: Initial Balance: 1000\n",
    "\n",
    "# Depositing and withdrawing money\n",
    "account.deposit(500)      # Output: Deposited $500. New balance: $1500\n",
    "account.withdraw(200)     # Output: Withdrew $200. New balance: $1300\n",
    "account.withdraw(2000)    # Output: Invalid withdrawal amount or insufficient balance.\n",
    "\n",
    "# Attempting to access private attributes directly (will raise an AttributeError)\n",
    "# print(account.__account_number)\n",
    "# print(account.__balance)\n"
   ]
  },
  {
   "cell_type": "markdown",
   "id": "819d4bb4-bc8f-4c13-b5bb-c155ddcc57d3",
   "metadata": {},
   "source": [
    "q.9"
   ]
  },
  {
   "cell_type": "markdown",
   "id": "e114140b-2c92-4b8c-93a6-70607516104a",
   "metadata": {},
   "source": [
    "Encapsulation is one of the fundamental principles of object-oriented programming (OOP) that refers to the bundling of data (attributes) and the methods (functions) that operate on the data into a single unit known as a class. Encapsulation provides several advantages in terms of code maintainability and security:\n",
    "\n",
    "Code Maintainability:\n",
    "Modularity: Encapsulation promotes modularity by organizing code into self-contained objects. Each object represents a real-world entity and encapsulates its behavior. This modularity makes it easier to understand, modify, and extend the codebase.\n",
    "\n",
    "Abstraction: Encapsulation allows developers to hide the complex implementation details and expose only the necessary functionalities. This abstraction simplifies the usage of objects. When the internal implementation of a class changes, the external code relying on the class doesn't need to change as long as the interface (methods) remains the same.\n",
    "\n",
    "Code Reusability: Encapsulated objects can be reused in different parts of the program or even in different projects. Since the internal workings are hidden, changes to the object's implementation won't affect the code using the object as long as the interface remains unchanged.\n",
    "\n",
    "Ease of Testing: Encapsulated objects can be tested independently. Testers can interact with the object using its methods without being concerned about the internal state. This makes it easier to isolate issues during the testing phase.\n",
    "\n",
    "Security:\n",
    "Data Hiding: Encapsulation hides the internal state of objects from the outside world. Data members of a class can be declared as private, meaning they are not accessible from outside the class. This prevents direct manipulation of object attributes, enhancing security.\n",
    "\n",
    "Access Control: Encapsulation allows for controlled access to the data. By defining methods (getters and setters) to access the attributes, developers can enforce validation rules, ensuring that the data remains consistent and valid. Unauthorized access can be restricted through access modifiers (public, private, protected) in most programming languages.\n",
    "\n",
    "Encapsulation Guards Invariants: Invariants are conditions that must always be true for a class to be in a valid state. Encapsulation ensures that these invariants are not violated by external code, maintaining the integrity of objects and preventing unexpected behaviors.\n",
    "\n",
    "Code Isolation: Encapsulation helps in isolating the impact of changes. If the internal representation of an object needs to change, only the methods within the class need to be modified, as long as the interface remains the same. This isolation prevents unintended consequences in other parts of the program.\n",
    "\n",
    "In summary, encapsulation in OOP provides a way to structure code for better organization, reusability, and maintainability, while also enhancing security by controlling access to data and guarding the integrity of objects. By adhering to the principles of encapsulation, developers can write more robust, secure, and maintainable software applications.\n",
    "\n",
    "\n",
    "\n",
    "\n"
   ]
  },
  {
   "cell_type": "markdown",
   "id": "6e797974-b68c-44c8-b503-0317f3f3db78",
   "metadata": {},
   "source": [
    "q.10"
   ]
  },
  {
   "cell_type": "code",
   "execution_count": 162,
   "id": "c5ff8c94-0b13-4287-8455-a4dd982e914b",
   "metadata": {},
   "outputs": [],
   "source": [
    "#In Python, private attributes are those attributes that are meant to be accessed only within the class in which they are declared. Private attributes are denoted by a double underscore prefix (__). However, it's important to note that in Python, there is no strict enforcement of access control. Python uses a mechanism called \"name mangling\" to make it difficult to directly access private attributes from outside the class, but it is still possible to access them if you know the mangled name.\n",
    "\n",
    "#Name mangling works by adding a prefix to the attribute name based on the class name. The syntax for name mangling is as follows: __variableName is stored as _ClassName__variableName.\n",
    "\n",
    "#Here's an example demonstrating the use of name mangling:"
   ]
  },
  {
   "cell_type": "code",
   "execution_count": 163,
   "id": "249d7163-14cf-481f-ae10-2d0267488420",
   "metadata": {},
   "outputs": [
    {
     "name": "stdout",
     "output_type": "stream",
     "text": [
      "'MyClass' object has no attribute '__private_attribute'\n",
      "I am private!\n"
     ]
    }
   ],
   "source": [
    "class MyClass:\n",
    "    def __init__(self):\n",
    "        self.__private_attribute = \"I am private!\"\n",
    "\n",
    "# Creating an object of MyClass\n",
    "obj = MyClass()\n",
    "\n",
    "# Attempting to access the private attribute directly (will result in an AttributeError)\n",
    "try:\n",
    "    print(obj.__private_attribute)\n",
    "except AttributeError as e:\n",
    "    print(e)  # Output: 'MyClass' object has no attribute '__private_attribute'\n",
    "\n",
    "# Accessing the private attribute using name mangling\n",
    "print(obj._MyClass__private_attribute)  # Output: I am private!\n"
   ]
  },
  {
   "cell_type": "markdown",
   "id": "b544c406-fee2-4d51-91cb-f3e70477ed29",
   "metadata": {},
   "source": [
    "q.11"
   ]
  },
  {
   "cell_type": "code",
   "execution_count": 164,
   "id": "1576f090-980b-425a-bd91-add7d74aa2fa",
   "metadata": {},
   "outputs": [],
   "source": [
    "#Certainly! Below is an example of a Python class hierarchy for a school system, including classes for students, teachers, and courses. Encapsulation principles have been implemented to protect sensitive information by using private attributes and providing public methods (getters and setters) to access and modify the data."
   ]
  },
  {
   "cell_type": "code",
   "execution_count": 165,
   "id": "4e7649e9-3fcf-4793-8aec-b81945116950",
   "metadata": {},
   "outputs": [
    {
     "name": "stdout",
     "output_type": "stream",
     "text": [
      "Teacher: John Doe, Employee ID: EMP123\n",
      "Student: Alice Johnson, Student ID: STU789\n",
      "Course: Introduction to Computer Science, Course Code: CS101, Teacher: John Doe\n"
     ]
    }
   ],
   "source": [
    "class Person:\n",
    "    def __init__(self, name, age, address):\n",
    "        self.__name = name\n",
    "        self.__age = age\n",
    "        self.__address = address\n",
    "\n",
    "    def get_name(self):\n",
    "        return self.__name\n",
    "    \n",
    "    def set_name(self, name):\n",
    "        self.__name = name\n",
    "    \n",
    "    def get_age(self):\n",
    "        return self.__age\n",
    "    \n",
    "    def set_age(self, age):\n",
    "        self.__age = age\n",
    "    \n",
    "    def get_address(self):\n",
    "        return self.__address\n",
    "    \n",
    "    def set_address(self, address):\n",
    "        self.__address = address\n",
    "\n",
    "\n",
    "class Student(Person):\n",
    "    def __init__(self, name, age, address, student_id):\n",
    "        super().__init__(name, age, address)\n",
    "        self.__student_id = student_id\n",
    "    \n",
    "    def get_student_id(self):\n",
    "        return self.__student_id\n",
    "    \n",
    "    def set_student_id(self, student_id):\n",
    "        self.__student_id = student_id\n",
    "\n",
    "\n",
    "class Teacher(Person):\n",
    "    def __init__(self, name, age, address, employee_id):\n",
    "        super().__init__(name, age, address)\n",
    "        self.__employee_id = employee_id\n",
    "    \n",
    "    def get_employee_id(self):\n",
    "        return self.__employee_id\n",
    "    \n",
    "    def set_employee_id(self, employee_id):\n",
    "        self.__employee_id = employee_id\n",
    "\n",
    "\n",
    "class Course:\n",
    "    def __init__(self, course_code, course_name, teacher):\n",
    "        self.__course_code = course_code\n",
    "        self.__course_name = course_name\n",
    "        self.__teacher = teacher\n",
    "    \n",
    "    def get_course_code(self):\n",
    "        return self.__course_code\n",
    "    \n",
    "    def set_course_code(self, course_code):\n",
    "        self.__course_code = course_code\n",
    "    \n",
    "    def get_course_name(self):\n",
    "        return self.__course_name\n",
    "    \n",
    "    def set_course_name(self, course_name):\n",
    "        self.__course_name = course_name\n",
    "    \n",
    "    def get_teacher(self):\n",
    "        return self.__teacher\n",
    "    \n",
    "    def set_teacher(self, teacher):\n",
    "        self.__teacher = teacher\n",
    "\n",
    "\n",
    "# Example Usage\n",
    "teacher = Teacher(\"John Doe\", 35, \"123 Main St\", \"EMP123\")\n",
    "student = Student(\"Alice Johnson\", 18, \"456 Elm St\", \"STU789\")\n",
    "course = Course(\"CS101\", \"Introduction to Computer Science\", teacher)\n",
    "\n",
    "# Accessing information through getters\n",
    "print(f\"Teacher: {teacher.get_name()}, Employee ID: {teacher.get_employee_id()}\")\n",
    "print(f\"Student: {student.get_name()}, Student ID: {student.get_student_id()}\")\n",
    "print(f\"Course: {course.get_course_name()}, Course Code: {course.get_course_code()}, Teacher: {course.get_teacher().get_name()}\")\n"
   ]
  },
  {
   "cell_type": "markdown",
   "id": "637f6236-d9e4-40b8-bedb-55f17733522d",
   "metadata": {},
   "source": [
    "q.12"
   ]
  },
  {
   "cell_type": "code",
   "execution_count": 166,
   "id": "5b45a013-17aa-4b51-bcb6-758f912d7d88",
   "metadata": {},
   "outputs": [],
   "source": [
    "#In Python, property decorators are a way to define \"getter\" and \"setter\" methods for class attributes. They allow you to encapsulate the access and modification of class attributes by providing controlled access to them. Property decorators are a powerful feature that helps in implementing encapsulation, one of the fundamental principles of object-oriented programming.\n",
    "\n",
    "#How Property Decorators Work:\n",
    "#Getter Method: A getter method allows you to access the value of a private attribute. By using the @property decorator, you can define a method as a property getter. This method is called when you try to access the associated attribute.\n",
    "\n",
    "#Setter Method: A setter method allows you to modify the value of a private attribute. By using the @<attribute_name>.setter decorator, you can define a method as a setter for a specific attribute. This method is called when you try to assign a value to the associated attribute.\n",
    "\n",
    "#Here's an example demonstrating the use of property decorators for encapsulation"
   ]
  },
  {
   "cell_type": "code",
   "execution_count": 167,
   "id": "d4a54cb2-f6a9-491d-a3e8-d76f04478ee9",
   "metadata": {},
   "outputs": [
    {
     "name": "stdout",
     "output_type": "stream",
     "text": [
      "Getting radius\n",
      "5\n",
      "Setting radius\n",
      "Radius must be positive\n"
     ]
    }
   ],
   "source": [
    "class Circle:\n",
    "    def __init__(self, radius):\n",
    "        self.__radius = radius  # private attribute\n",
    "    \n",
    "    @property\n",
    "    def radius(self):\n",
    "        print(\"Getting radius\")\n",
    "        return self.__radius\n",
    "    \n",
    "    @radius.setter\n",
    "    def radius(self, value):\n",
    "        if value <= 0:\n",
    "            print(\"Radius must be positive\")\n",
    "        else:\n",
    "            print(\"Setting radius\")\n",
    "            self.__radius = value\n",
    "\n",
    "# Usage\n",
    "circle = Circle(5)\n",
    "\n",
    "# Accessing radius using the getter method\n",
    "print(circle.radius)  # Output: Getting radius, 5\n",
    "\n",
    "# Modifying radius using the setter method\n",
    "circle.radius = 10    # Output: Setting radius\n",
    "\n",
    "# Attempting to set negative radius (setter validation)\n",
    "circle.radius = -3    # Output: Radius must be positive\n"
   ]
  },
  {
   "cell_type": "markdown",
   "id": "8aadc417-60ee-4645-8574-bc935d877601",
   "metadata": {},
   "source": [
    "q.13"
   ]
  },
  {
   "cell_type": "code",
   "execution_count": 168,
   "id": "272a4f1e-05ec-4347-8ed3-0e480a6aaf09",
   "metadata": {},
   "outputs": [],
   "source": [
    "#Data hiding, also known as information hiding, is the practice of preventing the details of an object's internal state from being directly accessible to the outside world. In the context of programming, it means restricting access to certain parts of the object and only exposing what is necessary. This is a fundamental aspect of encapsulation, one of the core principles of object-oriented programming (OOP). Encapsulation bundles the data (attributes) and the methods (functions) that operate on the data into a single unit known as a class. By hiding the internal data, encapsulation protects the object's integrity and prevents unintended or unauthorized access."
   ]
  },
  {
   "cell_type": "code",
   "execution_count": 169,
   "id": "37ea126e-c1c2-4a56-861b-5a01d78d9998",
   "metadata": {},
   "outputs": [],
   "source": [
    "#Importance of Data Hiding in Encapsulation:\n",
    "#Preventing Unauthorized Access: By making attributes private or protected, you prevent external code from directly modifying the internal state of an object. This helps in maintaining the integrity of the object and ensures that it remains in a valid state."
   ]
  },
  {
   "cell_type": "code",
   "execution_count": 170,
   "id": "002b22e2-fe46-42dc-a192-294850bfa8f3",
   "metadata": {},
   "outputs": [],
   "source": [
    "class BankAccount:\n",
    "    def __init__(self, balance):\n",
    "        self.__balance = balance  # private attribute\n",
    "\n",
    "    def deposit(self, amount):\n",
    "        if amount > 0:\n",
    "            self.__balance += amount\n",
    "            print(f\"Deposited: {amount}\")\n",
    "        else:\n",
    "            print(\"Invalid deposit amount\")\n",
    "\n",
    "    def get_balance(self):\n",
    "        return self.__balance\n"
   ]
  },
  {
   "cell_type": "code",
   "execution_count": 171,
   "id": "6d329661-4b26-4722-a2f9-271344fde03f",
   "metadata": {},
   "outputs": [],
   "source": [
    "#Encapsulating Complex Logic: Sometimes, the internal state of an object involves complex computations or validations. By encapsulating this logic within private methods, you ensure that external code interacts with the object through well-defined interfaces, simplifying the usage."
   ]
  },
  {
   "cell_type": "code",
   "execution_count": 172,
   "id": "7f2d3950-4425-40a0-9810-7aaf46467d25",
   "metadata": {},
   "outputs": [],
   "source": [
    "class TemperatureConverter:\n",
    "    def __init__(self, celsius):\n",
    "        self.__celsius = celsius  # private attribute\n",
    "\n",
    "    def __celsius_to_fahrenheit(self):\n",
    "        return (self.__celsius * 9/5) + 32\n",
    "\n",
    "    def get_temperature_in_fahrenheit(self):\n",
    "        return self.__celsius_to_fahrenheit()\n"
   ]
  },
  {
   "cell_type": "code",
   "execution_count": 173,
   "id": "880cb5eb-d8a9-426f-9b84-3ab686859f2e",
   "metadata": {},
   "outputs": [],
   "source": [
    "#Facilitating Change: Encapsulation allows you to change the internal representation of an object without affecting the code that uses the object. If the internal implementation changes, only the methods within the class need to be modified, as long as the interface remains consistent."
   ]
  },
  {
   "cell_type": "code",
   "execution_count": 174,
   "id": "a7d594c1-f2bd-4687-98e9-2760826e6f3b",
   "metadata": {},
   "outputs": [],
   "source": [
    "class Circle:\n",
    "    def __init__(self, radius):\n",
    "        self.__radius = radius  # private attribute\n",
    "\n",
    "    def get_area(self):\n",
    "        return 3.14 * self.__radius * self.__radius\n"
   ]
  },
  {
   "cell_type": "code",
   "execution_count": 175,
   "id": "b94809fc-f510-4636-aff4-ea09c205799c",
   "metadata": {},
   "outputs": [],
   "source": [
    "#Enhancing Security: By hiding sensitive information, encapsulation contributes to the security of the application. It prevents direct access to critical data, reducing the risk of data manipulation and unauthorized access."
   ]
  },
  {
   "cell_type": "code",
   "execution_count": 176,
   "id": "d43ad63c-ea53-45a2-ba0a-57a3418720ec",
   "metadata": {},
   "outputs": [],
   "source": [
    "class User:\n",
    "    def __init__(self, username, password):\n",
    "        self.__username = username  # private attribute\n",
    "        self.__password = password  # private attribute\n"
   ]
  },
  {
   "cell_type": "markdown",
   "id": "d140f1fd-8c2e-4ac5-b041-d530e2630c29",
   "metadata": {},
   "source": [
    "q.14"
   ]
  },
  {
   "cell_type": "code",
   "execution_count": 177,
   "id": "ba304c40-58a9-4f63-b537-dc27e389dadb",
   "metadata": {},
   "outputs": [],
   "source": [
    "#Certainly! Here's an example of a Python class called Employee with private attributes for __salary and __employee_id. It also includes a method to calculate yearly bonuses. In this example, the bonus is calculated as 10% of the salary."
   ]
  },
  {
   "cell_type": "code",
   "execution_count": 178,
   "id": "c442485d-c2ae-40ba-b4e7-8f7ab45d2b7c",
   "metadata": {},
   "outputs": [
    {
     "name": "stdout",
     "output_type": "stream",
     "text": [
      "Employee ID: EMP123, Salary: $50000\n",
      "Yearly Bonus: $5000.0\n"
     ]
    }
   ],
   "source": [
    "class Employee:\n",
    "    def __init__(self, employee_id, salary):\n",
    "        self.__employee_id = employee_id  # private attribute for employee ID\n",
    "        self.__salary = salary  # private attribute for salary\n",
    "    \n",
    "    def calculate_yearly_bonus(self):\n",
    "        # Calculate bonus as 10% of the salary\n",
    "        bonus = 0.1 * self.__salary\n",
    "        return bonus\n",
    "    \n",
    "    # Getter and setter methods for salary (optional)\n",
    "    def get_salary(self):\n",
    "        return self.__salary\n",
    "    \n",
    "    def set_salary(self, salary):\n",
    "        self.__salary = salary\n",
    "    \n",
    "    # Getter method for employee ID (optional)\n",
    "    def get_employee_id(self):\n",
    "        return self.__employee_id\n",
    "\n",
    "# Example Usage\n",
    "employee1 = Employee(\"EMP123\", 50000)  # Creating an Employee object with ID \"EMP123\" and salary $50,000\n",
    "bonus = employee1.calculate_yearly_bonus()  # Calculating the yearly bonus\n",
    "print(f\"Employee ID: {employee1.get_employee_id()}, Salary: ${employee1.get_salary()}\")\n",
    "print(f\"Yearly Bonus: ${bonus}\")\n"
   ]
  },
  {
   "cell_type": "markdown",
   "id": "85bc38ca-fccf-4439-ab92-141438197370",
   "metadata": {},
   "source": [
    "q.15"
   ]
  },
  {
   "cell_type": "code",
   "execution_count": 179,
   "id": "fac4a02a-91a7-4320-aee9-c9e24dd8559a",
   "metadata": {},
   "outputs": [],
   "source": [
    "#Accessors and mutators are methods used in object-oriented programming to enforce encapsulation by controlling the access and modification of class attributes. They provide a way to achieve data hiding, where the internal representation of an object is kept private, and controlled interfaces (methods) are used for interacting with the object's data. Accessors and mutators are also known as getters and setters, respectively.\n",
    "\n",
    "#Accessors (Getters):\n",
    "#Accessors are methods used to retrieve the values of private attributes. They allow external code to access the state of an object without directly exposing the underlying data. Accessors are named with a prefix like \"get_\" followed by the attribute name and do not modify the state of the object. They provide read-only access to the private attributes."
   ]
  },
  {
   "cell_type": "code",
   "execution_count": 180,
   "id": "29bb9dc3-6e68-4b2d-8899-55a13f0e64df",
   "metadata": {},
   "outputs": [],
   "source": [
    "class Circle:\n",
    "    def __init__(self, radius):\n",
    "        self.__radius = radius  # private attribute\n",
    "    \n",
    "    def get_radius(self):\n",
    "        return self.__radius  # accessor method for retrieving radius\n"
   ]
  },
  {
   "cell_type": "code",
   "execution_count": 181,
   "id": "292a2083-3fdf-4211-bc0d-0523c6e78573",
   "metadata": {},
   "outputs": [
    {
     "name": "stdout",
     "output_type": "stream",
     "text": [
      "5\n"
     ]
    }
   ],
   "source": [
    "circle = Circle(5)\n",
    "print(circle.get_radius())  # Output: 5\n"
   ]
  },
  {
   "cell_type": "code",
   "execution_count": 182,
   "id": "527e3e82-3960-46a1-b3da-1f79f61acd82",
   "metadata": {},
   "outputs": [],
   "source": [
    "#Mutators (Setters):\n",
    "#Mutators are methods used to modify the values of private attributes. They allow controlled modification of the internal state of an object by enforcing validation rules or performing computations before setting the new value. Mutators are named with a prefix like \"set_\" followed by the attribute name and usually take a parameter to set the new value of the attribute.\n",
    "\n",
    "#Example of a mutator method:"
   ]
  },
  {
   "cell_type": "code",
   "execution_count": 183,
   "id": "4f27113d-cd42-41e4-99e6-9951d8bf8f1d",
   "metadata": {},
   "outputs": [],
   "source": [
    "class Circle:\n",
    "    def __init__(self, radius):\n",
    "        self.__radius = radius  # private attribute\n",
    "    \n",
    "    def set_radius(self, radius):\n",
    "        if radius > 0:\n",
    "            self.__radius = radius  # mutator method for setting radius with validation\n",
    "        else:\n",
    "            print(\"Invalid radius value\")\n"
   ]
  },
  {
   "cell_type": "markdown",
   "id": "cee99ac1-5c79-49cd-a3f3-4747584725b6",
   "metadata": {},
   "source": [
    "How They Help Maintain Control Over Attribute Access:\n",
    "Encapsulation: Accessors and mutators encapsulate the internal attributes, hiding their details and exposing a clean and controlled interface for interaction.\n",
    "\n",
    "Validation: Mutators allow you to enforce validation rules before modifying the attribute. For example, you can ensure that a radius value is positive before setting it in a Circle object.\n",
    "\n",
    "Computed Attributes: Mutators can compute attribute values based on other attributes, ensuring consistency and correctness of the object's state.\n",
    "\n",
    "Read-Only Access: By providing only getters (accessors) and no setters (mutators) for certain attributes, you can create read-only properties, allowing users to view the attributes but not modify them.\n",
    "\n",
    "By using accessors and mutators, you maintain control over how attributes are accessed and modified, allowing you to implement rules and logic to ensure the integrity and validity of your objects' states. This control is essential for building reliable and maintainable object-oriented systems."
   ]
  },
  {
   "cell_type": "markdown",
   "id": "a5fcbccf-e25f-47f2-a79c-a9228aa7af0b",
   "metadata": {},
   "source": [
    "q.16"
   ]
  },
  {
   "cell_type": "markdown",
   "id": "d1cfd340-e851-4019-a328-f42311cf5a35",
   "metadata": {},
   "source": [
    "Encapsulation is a fundamental principle of object-oriented programming, promoting data hiding and providing controlled access to class attributes. While encapsulation offers numerous advantages, there are also potential drawbacks or disadvantages associated with its usage, especially in certain contexts:\n",
    "\n",
    "Complexity: Overuse of encapsulation can lead to overly complex class hierarchies and numerous getters and setters, making the code harder to read, understand, and maintain.\n",
    "\n",
    "Performance Overhead: Accessing attributes through methods (getters and setters) can introduce a slight performance overhead compared to accessing them directly. For performance-critical applications, this overhead can be a concern.\n",
    "\n",
    "Reduced Flexibility: Strict encapsulation can make it harder to modify the internal implementation of a class without affecting external code. Changing private attributes or methods may break existing code that relies on them, making it challenging to evolve the system.\n",
    "\n",
    "Verbose Code: Implementing getters and setters for every attribute can lead to more verbose code, especially if the class has many attributes. This verbosity can reduce code readability.\n",
    "\n",
    "Limited Accessibility: Excessive use of private attributes can make it difficult to test classes and perform debugging since testing frameworks might not be able to access private members.\n",
    "\n",
    "Potential Over-Abstraction: Encapsulation, when taken to an extreme, can lead to over-abstraction, where the underlying logic is hidden behind multiple layers of abstraction, making it challenging to understand the program flow.\n",
    "\n",
    "Difficulty in Debugging: When encapsulation is used excessively, it can complicate debugging processes. Debugging tools might not be able to directly access private attributes, making it harder to inspect the object's state during debugging.\n",
    "\n",
    "Increased Coupling: In some cases, encapsulation can lead to increased coupling between classes. Tight coupling can make the codebase less flexible and harder to maintain.\n",
    "\n",
    "Learning Curve: For developers new to the codebase, understanding the encapsulation patterns and the intended ways to access or modify attributes might pose a learning curve.\n",
    "\n",
    "To mitigate these potential drawbacks, it's essential to strike a balance. Encapsulate attributes that need protection or validation logic, and expose simple, straightforward interfaces for interacting with objects. It's also important to consider the context of the application; not all attributes necessarily need strict encapsulation, especially in smaller or less complex projects. Careful design and consideration of trade-offs are crucial when applying encapsulation in any programming language, including Python.\n",
    "\n",
    "\n",
    "\n",
    "\n"
   ]
  },
  {
   "cell_type": "markdown",
   "id": "84c47713-ad54-4147-acca-34ddfd31e45d",
   "metadata": {},
   "source": [
    "q.17"
   ]
  },
  {
   "cell_type": "code",
   "execution_count": 184,
   "id": "cd0eed80-18e1-4cd3-91e0-6ddfcc9da08e",
   "metadata": {},
   "outputs": [],
   "source": [
    "#Certainly! Below is an example of a Python class for a library system that encapsulates book information, including titles, authors, and availability status."
   ]
  },
  {
   "cell_type": "code",
   "execution_count": 185,
   "id": "cda13bef-053d-4491-9aac-cd1085681604",
   "metadata": {},
   "outputs": [
    {
     "name": "stdout",
     "output_type": "stream",
     "text": [
      "Book Information:\n",
      "Title: To Kill a Mockingbird, Author: Harper Lee, Available: True\n",
      "Title: 1984, Author: George Orwell, Available: True\n",
      "Book 'To Kill a Mockingbird' by Harper Lee has been borrowed.\n",
      "Book '1984' by George Orwell has been borrowed.\n",
      "Book 'To Kill a Mockingbird' by Harper Lee has been returned.\n",
      "\n",
      "Updated Book Information:\n",
      "Title: To Kill a Mockingbird, Author: Harper Lee, Available: True\n",
      "Title: 1984, Author: George Orwell, Available: False\n"
     ]
    }
   ],
   "source": [
    "class Book:\n",
    "    def __init__(self, title, author):\n",
    "        self.__title = title  # private attribute for book title\n",
    "        self.__author = author  # private attribute for book author\n",
    "        self.__available = True  # private attribute for book availability\n",
    "    \n",
    "    def get_title(self):\n",
    "        return self.__title  # accessor method for retrieving book title\n",
    "    \n",
    "    def get_author(self):\n",
    "        return self.__author  # accessor method for retrieving book author\n",
    "    \n",
    "    def is_available(self):\n",
    "        return self.__available  # accessor method for retrieving book availability status\n",
    "    \n",
    "    def borrow_book(self):\n",
    "        if self.__available:\n",
    "            self.__available = False  # update availability status to not available\n",
    "            print(f\"Book '{self.__title}' by {self.__author} has been borrowed.\")\n",
    "        else:\n",
    "            print(f\"Sorry, the book '{self.__title}' is not available for borrowing.\")\n",
    "    \n",
    "    def return_book(self):\n",
    "        if not self.__available:\n",
    "            self.__available = True  # update availability status to available\n",
    "            print(f\"Book '{self.__title}' by {self.__author} has been returned.\")\n",
    "        else:\n",
    "            print(f\"The book '{self.__title}' was not borrowed.\")\n",
    "\n",
    "# Example Usage\n",
    "book1 = Book(\"To Kill a Mockingbird\", \"Harper Lee\")\n",
    "book2 = Book(\"1984\", \"George Orwell\")\n",
    "\n",
    "print(\"Book Information:\")\n",
    "print(f\"Title: {book1.get_title()}, Author: {book1.get_author()}, Available: {book1.is_available()}\")\n",
    "print(f\"Title: {book2.get_title()}, Author: {book2.get_author()}, Available: {book2.is_available()}\")\n",
    "\n",
    "book1.borrow_book()  # Borrow the first book\n",
    "book2.borrow_book()  # Borrow the second book\n",
    "book1.return_book()  # Return the first book\n",
    "\n",
    "print(\"\\nUpdated Book Information:\")\n",
    "print(f\"Title: {book1.get_title()}, Author: {book1.get_author()}, Available: {book1.is_available()}\")\n",
    "print(f\"Title: {book2.get_title()}, Author: {book2.get_author()}, Available: {book2.is_available()}\")\n"
   ]
  },
  {
   "cell_type": "markdown",
   "id": "bbbdb984-1939-48e7-b25d-7c4b6902335d",
   "metadata": {},
   "source": [
    "q.18"
   ]
  },
  {
   "cell_type": "markdown",
   "id": "d079ba28-496d-427b-a789-394e52135003",
   "metadata": {},
   "source": [
    "Encapsulation, one of the four fundamental principles of object-oriented programming (OOP), enhances code reusability and modularity in Python programs in several ways:\n",
    "\n",
    "1. Data Hiding:\n",
    "Encapsulation allows the bundling of data (attributes) and methods (functions) that operate on the data into a single unit known as a class. By using access modifiers like private (__) or protected (_) in Python, you can hide the internal details of how the data is implemented. This hides the complexity from the outside world, providing a clear and simple interface for using the class. Users of the class only need to know how to interact with the public methods, not how they are implemented. This data hiding simplifies the usage of objects, promoting reusability.\n",
    "\n",
    "2. Code Modularity:\n",
    "Encapsulation promotes modularity by organizing code into self-contained objects. Each object represents a real-world entity with a well-defined interface. Objects can be reused in different parts of the program or even in different projects. A well-designed class can be reused in various contexts without modification, leading to modular and maintainable code.\n",
    "\n",
    "3. Abstraction:\n",
    "Encapsulation allows the concept of abstraction, where complex systems can be broken down into smaller, manageable parts. Each object encapsulates its own behavior and internal state, abstracting away the implementation details. Abstraction hides the unnecessary details and shows only the necessary features of an object, making it easier to understand and use.\n",
    "\n",
    "4. Encapsulation Guards Against Modification:\n",
    "Encapsulation guards the internal implementation of an object. If the internal structure of a class changes, the external code that relies on the class does not need to change, as long as the interface (public methods) remains the same. This isolation prevents unintended consequences and reduces the impact of changes, making the code more maintainable.\n",
    "\n",
    "5. Encapsulation Promotes Reusability:\n",
    "Objects encapsulate data and behavior. When the internal representation of data changes, the external code doesn’t need to change if the methods used to interact with the object remain the same. This decoupling between implementation and usage promotes reusability. Classes and objects can be reused in different parts of the code or in entirely different projects without affecting other parts of the codebase.\n",
    "\n",
    "6. Enhanced Collaboration:\n",
    "Encapsulation facilitates team collaboration. By defining clear interfaces, one team can work on implementing a class while another team works on using the class. As long as the interface is agreed upon and documented, teams can collaborate without worrying about the internal implementation details.\n",
    "\n",
    "In summary, encapsulation enhances code reusability and modularity by promoting data hiding, abstraction, and clear interfaces. It simplifies the usage of objects, isolates changes within classes, and allows different parts of a program to work independently, making the codebase more maintainable, flexible, and collaborative.\n",
    "\n",
    "\n",
    "\n",
    "\n"
   ]
  },
  {
   "cell_type": "markdown",
   "id": "941fe94b-b224-47b0-9465-17ed4f88e97b",
   "metadata": {},
   "source": [
    "q.19"
   ]
  },
  {
   "cell_type": "markdown",
   "id": "4b896dcd-25f9-4228-a6dc-e4248618fcd4",
   "metadata": {},
   "source": [
    "Information hiding is a fundamental principle in software engineering that is closely related to encapsulation. It refers to the practice of restricting the access to certain parts of an object or module, hiding the internal details and exposing only what is necessary. This concept is a crucial aspect of encapsulation in object-oriented programming (OOP), where the internal state of an object is kept private, and access to it is controlled through well-defined interfaces (public methods).\n",
    "\n",
    "Why Information Hiding Is Essential in Software Development:\n",
    "Encapsulation: Information hiding is a means to achieve encapsulation. By hiding the internal implementation details of an object, it ensures that the object's state can only be accessed and modified through controlled interfaces. This protects the integrity of the object and prevents unintended interference, ensuring that the object remains in a consistent state.\n",
    "\n",
    "Modularity: Information hiding enables the creation of modular software components. Modules can interact with each other through well-defined interfaces without needing to know the internal workings of the modules they are communicating with. This modularity simplifies the development process, making it easier to design, implement, test, and maintain individual components of a software system.\n",
    "\n",
    "Abstraction: Information hiding allows developers to abstract away complex implementation details, exposing only essential functionalities. Abstraction simplifies the understanding of complex systems, making it easier for developers to work with the code. It allows developers to focus on what an object does rather than how it does it.\n",
    "\n",
    "Security: Hiding sensitive information is crucial for security reasons. By restricting access to sensitive data and operations, information hiding prevents unauthorized users or external code from tampering with critical aspects of a system. This is particularly important in applications that deal with user authentication, financial transactions, or other sensitive data.\n",
    "\n",
    "Ease of Maintenance: When internal implementation details are hidden, developers can modify or enhance the internal workings of a module without affecting the external code that uses the module. This isolation makes it easier to maintain and evolve complex software systems over time. It also reduces the likelihood of unintended side effects when changes are made.\n",
    "\n",
    "Team Collaboration: Information hiding promotes collaboration among development teams. By defining clear interfaces between different modules or components, different teams can work independently without needing to understand the internal complexities of each other's work. Teams can collaborate effectively as long as they adhere to the agreed-upon interfaces.\n",
    "\n",
    "In summary, information hiding is essential in software development because it enables encapsulation, promotes modularity, simplifies complexity through abstraction, enhances security, facilitates ease of maintenance, and supports effective collaboration among development teams. It contributes significantly to the creation of robust, maintainable, and secure software systems.\n",
    "\n",
    "\n",
    "\n",
    "\n"
   ]
  },
  {
   "cell_type": "markdown",
   "id": "9f0c5c0c-06d1-440e-971b-660e0620a22d",
   "metadata": {},
   "source": [
    "q.20"
   ]
  },
  {
   "cell_type": "code",
   "execution_count": 186,
   "id": "935b0383-8a52-410f-b396-72b63a74892f",
   "metadata": {},
   "outputs": [],
   "source": [
    " #Certainly! Here's an example of a Python class called Customer that demonstrates encapsulation by using private attributes for customer details:"
   ]
  },
  {
   "cell_type": "code",
   "execution_count": 187,
   "id": "afdba996-d036-4adc-bf69-e60dabd0c06e",
   "metadata": {},
   "outputs": [
    {
     "name": "stdout",
     "output_type": "stream",
     "text": [
      "Customer Name: John Doe\n",
      "Updated Address: 456 Elm St, Townsville\n"
     ]
    }
   ],
   "source": [
    "class Customer:\n",
    "    def __init__(self, name, address, contact_info):\n",
    "        self.__name = name  # private attribute for customer name\n",
    "        self.__address = address  # private attribute for customer address\n",
    "        self.__contact_info = contact_info  # private attribute for customer contact information\n",
    "\n",
    "    # Getter methods to access private attributes\n",
    "    def get_name(self):\n",
    "        return self.__name\n",
    "\n",
    "    def get_address(self):\n",
    "        return self.__address\n",
    "\n",
    "    def get_contact_info(self):\n",
    "        return self.__contact_info\n",
    "\n",
    "    # Setter methods to modify private attributes\n",
    "    def set_name(self, name):\n",
    "        self.__name = name\n",
    "\n",
    "    def set_address(self, address):\n",
    "        self.__address = address\n",
    "\n",
    "    def set_contact_info(self, contact_info):\n",
    "        self.__contact_info = contact_info\n",
    "\n",
    "\n",
    "# Example usage of the Customer class\n",
    "customer1 = Customer(\"John Doe\", \"123 Main St, Cityville\", \"555-1234\")\n",
    "print(\"Customer Name:\", customer1.get_name())  # Output: Customer Name: John Doe\n",
    "\n",
    "# Attempting to access private attributes directly will result in an error\n",
    "# print(customer1.__name)  # This line would raise an AttributeError\n",
    "\n",
    "# Modifying customer details using setter methods\n",
    "customer1.set_address(\"456 Elm St, Townsville\")\n",
    "print(\"Updated Address:\", customer1.get_address())  # Output: Updated Address: 456 Elm St, Townsville\n"
   ]
  },
  {
   "cell_type": "code",
   "execution_count": 188,
   "id": "8945040b-9749-4838-b0fd-d67b03b43431",
   "metadata": {},
   "outputs": [],
   "source": [
    "#Polymorphism:"
   ]
  },
  {
   "cell_type": "markdown",
   "id": "3e2e8a70-fc8a-4a44-9410-c5928271eede",
   "metadata": {},
   "source": [
    "q.1"
   ]
  },
  {
   "cell_type": "code",
   "execution_count": 189,
   "id": "396c685c-1cc9-4a5f-9e0e-495d5baedec7",
   "metadata": {},
   "outputs": [],
   "source": [
    "#Polymorphism is a fundamental concept in object-oriented programming (OOP) that allows objects of different classes to be treated as objects of a common superclass. It enables objects of different classes to be manipulated using a uniform interface, providing flexibility and reusability in the code. Polymorphism allows methods to do different things based on the object it is acting upon. There are two types of polymorphism in Python: compile-time (or method overloading) and runtime (or method overriding).\n",
    "\n",
    "#Compile-time Polymorphism (Method Overloading):\n",
    "#Compile-time polymorphism is achieved through method overloading, where multiple methods with the same name are defined in a class, but with different parameters. The method to be called is determined at compile time based on the number and types of arguments passed. Python does not support method overloading directly; however, you can achieve similar functionality by using default arguments or variable-length arguments.\n",
    "\n",
    "#Example using default arguments:"
   ]
  },
  {
   "cell_type": "code",
   "execution_count": 190,
   "id": "9a813ce1-1461-4ec3-84d9-3bb29ae50e22",
   "metadata": {},
   "outputs": [],
   "source": [
    "class Calculator:\n",
    "    def add(self, a=0, b=0):\n",
    "        return a + b\n",
    "\n",
    "calc = Calculator()\n",
    "result = calc.add(2, 3)  # Output: 5\n"
   ]
  },
  {
   "cell_type": "code",
   "execution_count": 191,
   "id": "a0ee00c3-97e3-4284-a119-93632933df01",
   "metadata": {},
   "outputs": [],
   "source": [
    "#Runtime Polymorphism (Method Overriding):\n",
    "#Runtime polymorphism is achieved through method overriding, where a subclass provides a specific implementation of a method that is already defined in its superclass. This allows objects of different classes to be treated as objects of the same class through a common interface."
   ]
  },
  {
   "cell_type": "code",
   "execution_count": 192,
   "id": "69af82fc-bba2-4cca-a595-b23d1be53c61",
   "metadata": {},
   "outputs": [
    {
     "name": "stdout",
     "output_type": "stream",
     "text": [
      "Woof!\n",
      "Meow!\n"
     ]
    }
   ],
   "source": [
    "class Animal:\n",
    "    def sound(self):\n",
    "        pass  # Abstract method\n",
    "\n",
    "class Dog(Animal):\n",
    "    def sound(self):\n",
    "        return \"Woof!\"\n",
    "\n",
    "class Cat(Animal):\n",
    "    def sound(self):\n",
    "        return \"Meow!\"\n",
    "\n",
    "dog = Dog()\n",
    "cat = Cat()\n",
    "\n",
    "print(dog.sound())  # Output: Woof!\n",
    "print(cat.sound())  # Output: Meow!\n"
   ]
  },
  {
   "cell_type": "markdown",
   "id": "bb3760e4-7de6-4e15-b759-8260c8d21ee5",
   "metadata": {},
   "source": [
    "q.2"
   ]
  },
  {
   "cell_type": "markdown",
   "id": "70166397-7d15-4321-85ab-105a0bf90598",
   "metadata": {},
   "source": [
    "I apologize for the confusion earlier. In Python, there isn't a clear distinction between \"compile-time polymorphism\" and \"runtime polymorphism\" in the same way it exists in languages like Java or C++. In those languages, method overloading (compile-time polymorphism) and method overriding (runtime polymorphism) are explicit concepts.\n",
    "\n",
    "In Python, polymorphism is achieved through method overriding, and the determination of which method to call happens at runtime based on the actual type of the object. Python supports dynamic typing and late binding, which means that the method resolution occurs during the program execution (runtime) and not during compile time.\n",
    "\n",
    "In Python, there's no need to explicitly specify whether a method call is resolved at compile time or runtime because Python does it dynamically. This dynamic method resolution allows you to change the behavior of a method in derived classes, which is a characteristic of runtime polymorphism.\n",
    "\n",
    "To summarize, in Python:\n",
    "\n",
    "Polymorphism is achieved through method overriding.\n",
    "The determination of which method to call happens at runtime based on the actual type of the object.\n",
    "There is no explicit concept of compile-time polymorphism as found in some other programming languages.\n",
    "\n",
    "\n",
    "\n"
   ]
  },
  {
   "cell_type": "markdown",
   "id": "d655f2e1-5d6c-4d2f-92e1-d599e64fe3de",
   "metadata": {},
   "source": [
    "q.3"
   ]
  },
  {
   "cell_type": "code",
   "execution_count": 193,
   "id": "139472fe-1a8a-4a94-a133-eb4d97aa9c68",
   "metadata": {},
   "outputs": [],
   "source": [
    "#Certainly! Here's an example of a Python class hierarchy for shapes (circle, square, triangle) and how polymorphism can be demonstrated through a common method, calculate_area():"
   ]
  },
  {
   "cell_type": "code",
   "execution_count": 194,
   "id": "b2b84ec1-d4a3-440b-bb09-2d74c10e9ec9",
   "metadata": {},
   "outputs": [
    {
     "name": "stdout",
     "output_type": "stream",
     "text": [
      "Area of the shape: 78.53981633974483\n",
      "Area of the shape: 16\n",
      "Area of the shape: 9.0\n"
     ]
    }
   ],
   "source": [
    "import math\n",
    "\n",
    "# Base class Shape\n",
    "class Shape:\n",
    "    def calculate_area(self):\n",
    "        pass  # Abstract method\n",
    "\n",
    "# Circle class inheriting from Shape\n",
    "class Circle(Shape):\n",
    "    def __init__(self, radius):\n",
    "        self.radius = radius\n",
    "\n",
    "    def calculate_area(self):\n",
    "        return math.pi * self.radius ** 2\n",
    "\n",
    "# Square class inheriting from Shape\n",
    "class Square(Shape):\n",
    "    def __init__(self, side_length):\n",
    "        self.side_length = side_length\n",
    "\n",
    "    def calculate_area(self):\n",
    "        return self.side_length ** 2\n",
    "\n",
    "# Triangle class inheriting from Shape\n",
    "class Triangle(Shape):\n",
    "    def __init__(self, base, height):\n",
    "        self.base = base\n",
    "        self.height = height\n",
    "\n",
    "    def calculate_area(self):\n",
    "        return 0.5 * self.base * self.height\n",
    "\n",
    "# Demonstration of polymorphism\n",
    "shapes = [Circle(5), Square(4), Triangle(3, 6)]\n",
    "\n",
    "for shape in shapes:\n",
    "    print(f\"Area of the shape: {shape.calculate_area()}\")\n"
   ]
  },
  {
   "cell_type": "markdown",
   "id": "7885610b-18e0-4d21-90c2-4c7b83825bc0",
   "metadata": {},
   "source": [
    "q.4"
   ]
  },
  {
   "cell_type": "markdown",
   "id": "59bfbe70-b276-4274-a865-3ad41625d940",
   "metadata": {},
   "source": [
    "Method overriding is a fundamental concept in object-oriented programming that allows a subclass to provide a specific implementation of a method that is already defined in its superclass. When a subclass defines a method with the same name, parameters, and return type as a method in its superclass, it is said to override the method of the superclass. Method overriding is a way to achieve runtime polymorphism in object-oriented languages.\n",
    "\n",
    "Here's how method overriding works:\n",
    "\n",
    "Same Method Signature: The overriding method in the subclass must have the same method signature (method name, parameters, and return type) as the method in the superclass.\n",
    "\n",
    "Change in Behavior: The overriding method in the subclass provides a specific implementation that might differ from the implementation in the superclass. This allows objects of the subclass to have specialized behavior while still being treated as objects of the superclass type.\n",
    "\n",
    "Runtime Polymorphism: The determination of which method to call occurs at runtime, based on the actual type of the object invoking the method. This is the essence of polymorphism—objects of different classes can be treated as objects of the same class through a common interface.\n",
    "\n",
    "Here's an example to illustrate method overriding:"
   ]
  },
  {
   "cell_type": "code",
   "execution_count": 195,
   "id": "c782ac97-734f-408b-924c-17de3692b996",
   "metadata": {},
   "outputs": [
    {
     "name": "stdout",
     "output_type": "stream",
     "text": [
      "Some sound\n",
      "Woof!\n",
      "Meow!\n"
     ]
    }
   ],
   "source": [
    "class Animal:\n",
    "    def sound(self):\n",
    "        return \"Some sound\"\n",
    "\n",
    "class Dog(Animal):\n",
    "    def sound(self):\n",
    "        return \"Woof!\"\n",
    "\n",
    "class Cat(Animal):\n",
    "    def sound(self):\n",
    "        return \"Meow!\"\n",
    "\n",
    "# Creating objects\n",
    "animal = Animal()\n",
    "dog = Dog()\n",
    "cat = Cat()\n",
    "\n",
    "# Demonstrating method overriding and polymorphism\n",
    "print(animal.sound())  # Output: Some sound\n",
    "print(dog.sound())     # Output: Woof!\n",
    "print(cat.sound())     # Output: Meow!\n"
   ]
  },
  {
   "cell_type": "markdown",
   "id": "5d90a0f3-fbf3-497e-8a36-9310ee0a0817",
   "metadata": {},
   "source": [
    "q.5"
   ]
  },
  {
   "cell_type": "code",
   "execution_count": 196,
   "id": "c647343f-9069-4045-81d1-101aca1f966f",
   "metadata": {},
   "outputs": [],
   "source": [
    "#Polymorphism and method overloading are related concepts in object-oriented programming, but they serve different purposes. Let's discuss the differences between them and provide examples for both in Python.\n",
    "\n",
    "#Polymorphism:\n",
    "#Polymorphism allows objects of different classes to be treated as objects of a common superclass. It enables objects of different classes to be manipulated using a uniform interface. Polymorphism is achieved through method overriding, where a subclass provides a specific implementation of a method that is already defined in its superclass.\n",
    "\n",
    "#Example of polymorphism in Python:"
   ]
  },
  {
   "cell_type": "code",
   "execution_count": 197,
   "id": "8bba6c21-3d30-4bfe-b128-35d712754407",
   "metadata": {},
   "outputs": [
    {
     "name": "stdout",
     "output_type": "stream",
     "text": [
      "Woof!\n",
      "Meow!\n"
     ]
    }
   ],
   "source": [
    "class Animal:\n",
    "    def sound(self):\n",
    "        pass  # Abstract method\n",
    "\n",
    "class Dog(Animal):\n",
    "    def sound(self):\n",
    "        return \"Woof!\"\n",
    "\n",
    "class Cat(Animal):\n",
    "    def sound(self):\n",
    "        return \"Meow!\"\n",
    "\n",
    "# Demonstrating polymorphism\n",
    "dog = Dog()\n",
    "cat = Cat()\n",
    "\n",
    "print(dog.sound())  # Output: Woof!\n",
    "print(cat.sound())  # Output: Meow!\n"
   ]
  },
  {
   "cell_type": "code",
   "execution_count": 198,
   "id": "f633b1c0-0a7e-4230-b85f-dad8d6411236",
   "metadata": {},
   "outputs": [],
   "source": [
    "#Method Overloading:\n",
    "#Method overloading is the ability to define multiple methods with the same name in a class, but with different parameters. In Python, method overloading is achieved through default arguments or variable-length arguments, as the language does not support method overloading in the traditional sense found in languages like Java or C++.\n",
    "\n",
    "#Example of method overloading in Python using default arguments:"
   ]
  },
  {
   "cell_type": "code",
   "execution_count": 199,
   "id": "aa127158-2259-4df6-9ce1-cab51e575b9d",
   "metadata": {},
   "outputs": [
    {
     "name": "stdout",
     "output_type": "stream",
     "text": [
      "5\n",
      "2\n"
     ]
    }
   ],
   "source": [
    "class Calculator:\n",
    "    def add(self, a=0, b=0):\n",
    "        return a + b\n",
    "\n",
    "calc = Calculator()\n",
    "\n",
    "result1 = calc.add(2, 3)  # Calls add method with two arguments\n",
    "result2 = calc.add(2)     # Calls add method with one argument (default value for b is used)\n",
    "\n",
    "print(result1)  # Output: 5\n",
    "print(result2)  # Output: 2\n"
   ]
  },
  {
   "cell_type": "markdown",
   "id": "c870b21e-e388-4c32-997c-6dbc8468171d",
   "metadata": {},
   "source": [
    "q.6"
   ]
  },
  {
   "cell_type": "code",
   "execution_count": 200,
   "id": "676df00d-b8b2-443a-b9fb-6a30a19d58b8",
   "metadata": {},
   "outputs": [],
   "source": [
    "#Certainly! Here's an example demonstrating polymorphism in Python using the Animal, Dog, Cat, and Bird classes:"
   ]
  },
  {
   "cell_type": "code",
   "execution_count": 201,
   "id": "032c05a4-36b2-4495-9729-538c89c7dfd0",
   "metadata": {},
   "outputs": [
    {
     "name": "stdout",
     "output_type": "stream",
     "text": [
      "Woof!\n",
      "Meow!\n",
      "Tweet!\n"
     ]
    }
   ],
   "source": [
    "# Parent class Animal\n",
    "class Animal:\n",
    "    def speak(self):\n",
    "        pass  # Abstract method\n",
    "\n",
    "# Child class Dog\n",
    "class Dog(Animal):\n",
    "    def speak(self):\n",
    "        return \"Woof!\"\n",
    "\n",
    "# Child class Cat\n",
    "class Cat(Animal):\n",
    "    def speak(self):\n",
    "        return \"Meow!\"\n",
    "\n",
    "# Child class Bird\n",
    "class Bird(Animal):\n",
    "    def speak(self):\n",
    "        return \"Tweet!\"\n",
    "\n",
    "# Demonstrate polymorphism\n",
    "dog = Dog()\n",
    "cat = Cat()\n",
    "bird = Bird()\n",
    "\n",
    "# Calling the speak() method on objects of different subclasses\n",
    "print(dog.speak())  # Output: Woof!\n",
    "print(cat.speak())  # Output: Meow!\n",
    "print(bird.speak()) # Output: Tweet!\n"
   ]
  },
  {
   "cell_type": "markdown",
   "id": "7ce476b1-5509-4268-8bc2-2d6c3e97eb65",
   "metadata": {},
   "source": [
    "q.7"
   ]
  },
  {
   "cell_type": "code",
   "execution_count": 202,
   "id": "35720acd-894e-4975-b2e9-dbf466f55453",
   "metadata": {},
   "outputs": [],
   "source": [
    "#Abstract methods and classes play a crucial role in achieving polymorphism and enforcing a common interface for subclasses in object-oriented programming. In Python, you can create abstract methods and classes using the abc module, which stands for \"Abstract Base Classes.\"\n",
    "\n",
    "#An abstract class is a class that cannot be instantiated and is meant to be subclassed by other classes. Abstract methods are methods declared in the abstract class but don't have an implementation. Subclasses must provide implementations for these abstract methods, ensuring that objects of different classes can be treated uniformly through polymorphism.\n",
    "\n",
    "#Here's an example demonstrating the use of abstract methods and classes with the abc module to achieve polymorphism:"
   ]
  },
  {
   "cell_type": "code",
   "execution_count": 203,
   "id": "f0dc62a1-4806-460d-8ced-ef963f798f75",
   "metadata": {},
   "outputs": [
    {
     "name": "stdout",
     "output_type": "stream",
     "text": [
      "Woof!\n",
      "Meow!\n",
      "Tweet!\n"
     ]
    }
   ],
   "source": [
    "from abc import ABC, abstractmethod\n",
    "\n",
    "# Abstract class Animal\n",
    "class Animal(ABC):\n",
    "    @abstractmethod\n",
    "    def speak(self):\n",
    "        pass\n",
    "\n",
    "# Concrete class Dog inheriting from Animal\n",
    "class Dog(Animal):\n",
    "    def speak(self):\n",
    "        return \"Woof!\"\n",
    "\n",
    "# Concrete class Cat inheriting from Animal\n",
    "class Cat(Animal):\n",
    "    def speak(self):\n",
    "        return \"Meow!\"\n",
    "\n",
    "# Concrete class Bird inheriting from Animal\n",
    "class Bird(Animal):\n",
    "    def speak(self):\n",
    "        return \"Tweet!\"\n",
    "\n",
    "# Attempting to create an instance of the abstract class will raise an error\n",
    "# animal = Animal()  # This line will raise an error\n",
    "\n",
    "# Demonstrate polymorphism\n",
    "dog = Dog()\n",
    "cat = Cat()\n",
    "bird = Bird()\n",
    "\n",
    "# Calling the speak() method on objects of different subclasses\n",
    "print(dog.speak())  # Output: Woof!\n",
    "print(cat.speak())  # Output: Meow!\n",
    "print(bird.speak()) # Output: Tweet!\n"
   ]
  },
  {
   "cell_type": "markdown",
   "id": "58406d96-f50a-410d-838a-f601a48bc1b6",
   "metadata": {},
   "source": [
    "q.8"
   ]
  },
  {
   "cell_type": "code",
   "execution_count": 204,
   "id": "268d1d20-2d70-475c-a9ea-c8f84577a198",
   "metadata": {},
   "outputs": [],
   "source": [
    "#Certainly! Here's an example of a Python class hierarchy for a vehicle system (car, bicycle, boat) with a polymorphic start() method:"
   ]
  },
  {
   "cell_type": "code",
   "execution_count": 205,
   "id": "1ac8629c-8c53-45b0-bab7-211b106f3e87",
   "metadata": {},
   "outputs": [
    {
     "name": "stdout",
     "output_type": "stream",
     "text": [
      "Car started. Vroom, vroom!\n",
      "Bicycle started. Pedal, pedal!\n",
      "Boat started. Row, row!\n"
     ]
    }
   ],
   "source": [
    "# Base class Vehicle\n",
    "class Vehicle:\n",
    "    def start(self):\n",
    "        pass  # Abstract method\n",
    "\n",
    "# Car class inheriting from Vehicle\n",
    "class Car(Vehicle):\n",
    "    def start(self):\n",
    "        return \"Car started. Vroom, vroom!\"\n",
    "\n",
    "# Bicycle class inheriting from Vehicle\n",
    "class Bicycle(Vehicle):\n",
    "    def start(self):\n",
    "        return \"Bicycle started. Pedal, pedal!\"\n",
    "\n",
    "# Boat class inheriting from Vehicle\n",
    "class Boat(Vehicle):\n",
    "    def start(self):\n",
    "        return \"Boat started. Row, row!\"\n",
    "\n",
    "# Demonstrate polymorphic behavior\n",
    "vehicles = [Car(), Bicycle(), Boat()]\n",
    "\n",
    "# Calling the start() method on objects of different subclasses\n",
    "for vehicle in vehicles:\n",
    "    print(vehicle.start())\n"
   ]
  },
  {
   "cell_type": "markdown",
   "id": "e44f9a85-76af-4360-822a-669a5e9ce76a",
   "metadata": {},
   "source": [
    "q.9"
   ]
  },
  {
   "cell_type": "code",
   "execution_count": 206,
   "id": "bb4f349d-0417-4e10-9498-5cb5c564a0a1",
   "metadata": {},
   "outputs": [],
   "source": [
    "#In Python, isinstance() and issubclass() are two important functions that help manage and verify polymorphic behavior in object-oriented programming.\n",
    "\n",
    "#1. isinstance()\n",
    "#The isinstance() function is used to determine whether an object is an instance of a particular class or a subclass of that class. It checks if an object is an instance of a specified class or a tuple of classes. This function is particularly useful in scenarios where you need to handle objects of different types in a polymorphic way.\n",
    "\n",
    "#Syntax:"
   ]
  },
  {
   "cell_type": "code",
   "execution_count": 207,
   "id": "8b7423b0-9418-4955-b790-8a1857d4c175",
   "metadata": {},
   "outputs": [
    {
     "name": "stdout",
     "output_type": "stream",
     "text": [
      "True\n",
      "True\n",
      "True\n"
     ]
    }
   ],
   "source": [
    "class Vehicle:\n",
    "    pass\n",
    "\n",
    "class Car(Vehicle):\n",
    "    pass\n",
    "\n",
    "car = Car()\n",
    "\n",
    "print(isinstance(car, Car))  # Output: True\n",
    "print(isinstance(car, Vehicle))  # Output: True (since Car is a subclass of Vehicle)\n",
    "print(isinstance(car, (int, str, Car)))  # Output: True (checking against a tuple of classes)\n"
   ]
  },
  {
   "cell_type": "code",
   "execution_count": 208,
   "id": "b1c5d97b-5c7b-4137-b205-3372b509336e",
   "metadata": {},
   "outputs": [],
   "source": [
    "#2. issubclass()\n",
    "#The issubclass() function checks if a given class is a subclass of a specified class. It is used to verify class inheritance and is often used in polymorphism to ensure that a certain class is a subclass of another class.\n",
    "\n",
    "#Syntax"
   ]
  },
  {
   "cell_type": "code",
   "execution_count": 209,
   "id": "a8de5d27-2422-41e8-9117-3f62f18f8644",
   "metadata": {},
   "outputs": [
    {
     "name": "stdout",
     "output_type": "stream",
     "text": [
      "True\n",
      "False\n",
      "True\n"
     ]
    }
   ],
   "source": [
    "class Vehicle:\n",
    "    pass\n",
    "\n",
    "class Car(Vehicle):\n",
    "    pass\n",
    "\n",
    "print(issubclass(Car, Vehicle))  # Output: True (Car is a subclass of Vehicle)\n",
    "print(issubclass(Vehicle, Car))  # Output: False (Vehicle is not a subclass of Car)\n",
    "print(issubclass(Car, (Vehicle, int, str)))  # Output: True (Car is a subclass of Vehicle in the tuple)\n"
   ]
  },
  {
   "cell_type": "markdown",
   "id": "8ba46260-fcbd-4ee1-bd6b-b52e802a8550",
   "metadata": {},
   "source": [
    "q.10"
   ]
  },
  {
   "cell_type": "code",
   "execution_count": 210,
   "id": "99862e81-ff10-4122-8cd1-d94f0f19a696",
   "metadata": {},
   "outputs": [],
   "source": [
    "#In Python, the @abstractmethod decorator, provided by the abc (Abstract Base Classes) module, is used to define abstract methods in abstract base classes. Abstract methods are methods declared in the base class but do not contain an implementation. Subclasses must provide an implementation for these abstract methods. By ensuring that all subclasses implement the same set of methods, the @abstractmethod decorator facilitates polymorphism by providing a common interface that all subclasses adhere to.\n",
    "\n",
    "#Here's an example that demonstrates the use of the @abstractmethod decorator to achieve polymorphism:"
   ]
  },
  {
   "cell_type": "code",
   "execution_count": 211,
   "id": "6de8ec6f-49b5-4656-8360-c41d3fc6626c",
   "metadata": {},
   "outputs": [
    {
     "name": "stdout",
     "output_type": "stream",
     "text": [
      "Area: 78.5\n",
      "Area: 16\n",
      "Area: 9.0\n"
     ]
    }
   ],
   "source": [
    "from abc import ABC, abstractmethod\n",
    "\n",
    "# Abstract class Shape with abstract method calculate_area()\n",
    "class Shape(ABC):\n",
    "    @abstractmethod\n",
    "    def calculate_area(self):\n",
    "        pass\n",
    "\n",
    "# Concrete class Circle inheriting from Shape\n",
    "class Circle(Shape):\n",
    "    def __init__(self, radius):\n",
    "        self.radius = radius\n",
    "\n",
    "    def calculate_area(self):\n",
    "        return 3.14 * self.radius * self.radius\n",
    "\n",
    "# Concrete class Square inheriting from Shape\n",
    "class Square(Shape):\n",
    "    def __init__(self, side_length):\n",
    "        self.side_length = side_length\n",
    "\n",
    "    def calculate_area(self):\n",
    "        return self.side_length * self.side_length\n",
    "\n",
    "# Concrete class Triangle inheriting from Shape\n",
    "class Triangle(Shape):\n",
    "    def __init__(self, base, height):\n",
    "        self.base = base\n",
    "        self.height = height\n",
    "\n",
    "    def calculate_area(self):\n",
    "        return 0.5 * self.base * self.height\n",
    "\n",
    "# List of shapes with different types\n",
    "shapes = [Circle(5), Square(4), Triangle(3, 6)]\n",
    "\n",
    "# Polymorphic behavior: calling calculate_area() on different shape objects\n",
    "for shape in shapes:\n",
    "    print(f\"Area: {shape.calculate_area()}\")\n"
   ]
  },
  {
   "cell_type": "markdown",
   "id": "d71cbd67-f1c6-4b74-90e8-db41da6b653a",
   "metadata": {},
   "source": [
    "q.11"
   ]
  },
  {
   "cell_type": "code",
   "execution_count": 212,
   "id": "f4e43d69-d106-43ad-b170-c177792002ad",
   "metadata": {},
   "outputs": [],
   "source": [
    "#Certainly! Here's an example of a Shape class with a polymorphic area() method that calculates the area of different shapes such as circle, rectangle, and triangle:"
   ]
  },
  {
   "cell_type": "code",
   "execution_count": 213,
   "id": "606dc03f-50c4-49bc-a14b-6788663bba6e",
   "metadata": {},
   "outputs": [
    {
     "name": "stdout",
     "output_type": "stream",
     "text": [
      "Area: 78.53981633974483\n",
      "Area: 24\n",
      "Area: 12.0\n"
     ]
    }
   ],
   "source": [
    "import math\n",
    "\n",
    "class Shape:\n",
    "    def area(self):\n",
    "        pass  # Polymorphic method, the implementation will vary based on the shape\n",
    "\n",
    "class Circle(Shape):\n",
    "    def __init__(self, radius):\n",
    "        self.radius = radius\n",
    "    \n",
    "    def area(self):\n",
    "        return math.pi * self.radius ** 2\n",
    "\n",
    "class Rectangle(Shape):\n",
    "    def __init__(self, width, height):\n",
    "        self.width = width\n",
    "        self.height = height\n",
    "    \n",
    "    def area(self):\n",
    "        return self.width * self.height\n",
    "\n",
    "class Triangle(Shape):\n",
    "    def __init__(self, base, height):\n",
    "        self.base = base\n",
    "        self.height = height\n",
    "    \n",
    "    def area(self):\n",
    "        return 0.5 * self.base * self.height\n",
    "\n",
    "# Demonstrating polymorphic behavior\n",
    "shapes = [Circle(5), Rectangle(4, 6), Triangle(3, 8)]\n",
    "\n",
    "for shape in shapes:\n",
    "    print(f\"Area: {shape.area()}\")\n"
   ]
  },
  {
   "cell_type": "markdown",
   "id": "c9f3c6d3-6c5c-473e-a418-50f031e9108a",
   "metadata": {},
   "source": [
    "q.12"
   ]
  },
  {
   "cell_type": "markdown",
   "id": "8e28d496-91dd-4d97-80ae-73d18377f45b",
   "metadata": {},
   "source": [
    "Polymorphism is a fundamental concept in object-oriented programming (OOP) that provides significant benefits in terms of code reusability and flexibility in Python programs. Here's how polymorphism contributes to these advantages:\n",
    "\n",
    "1. Code Reusability:\n",
    "Interface Standardization: Polymorphism allows objects of different classes to be treated as objects of a common superclass. This means that you can define methods and behaviors in a superclass, and all its subclasses will inherit and use those methods. This standardization ensures consistency across classes and promotes code reuse.\n",
    "Reduced Redundancy: Polymorphism reduces the need to duplicate code. Methods in the superclass can be designed to handle a wide range of cases, and subclasses can provide specific implementations only when necessary. This reduces redundancy and promotes the reuse of existing code.\n",
    "Modular Design: Polymorphism encourages a modular design approach where classes are loosely coupled. Each class can focus on its specific functionality, making the codebase easier to understand, modify, and extend.\n",
    "2. Flexibility:\n",
    "Dynamic Behavior: Polymorphism allows for dynamic method binding, meaning the appropriate method is called at runtime based on the actual type of the object. This dynamic behavior provides flexibility in choosing the behavior of objects during the program's execution, allowing for adaptability to changing requirements.\n",
    "Easy Maintenance: Due to the modular and extensible nature of polymorphic code, it becomes easier to maintain and modify the system. Adding new subclasses or modifying existing ones doesn't affect the code that uses these classes, promoting a high degree of flexibility and ease of maintenance.\n",
    "Code Extensibility: Polymorphism makes it easier to extend existing code without modifying it. New classes can be added without altering the existing codebase, as long as they adhere to the common interface defined by the superclass. This promotes the open/closed principle, a key tenet of object-oriented design.\n",
    "3. Improved Readability and Collaboration:\n",
    "Improved Collaboration: Polymorphism allows different developers to work on different parts of the system independently. As long as they adhere to the interface defined by the superclass, their work can be seamlessly integrated. This promotes collaboration and parallel development efforts.\n",
    "Clearer Code: Polymorphism promotes a clearer and more intuitive code structure. By using common interfaces and abstract classes, developers can quickly understand how different parts of the system interact and collaborate, leading to better readability and maintainability.\n",
    "In summary, polymorphism in Python enhances code reusability by providing a consistent interface for multiple classes, reducing redundancy, and promoting modular design. It also improves flexibility by allowing dynamic behavior, enabling easy maintenance, supporting code extensibility, and enhancing collaboration among developers. These benefits make polymorphism a powerful tool for building flexible, maintainable, and scalable Python programs."
   ]
  },
  {
   "cell_type": "markdown",
   "id": "eb93cf03-f51f-494a-a616-f3141bb3401c",
   "metadata": {},
   "source": [
    "q.13"
   ]
  },
  {
   "cell_type": "markdown",
   "id": "e25944a3-bea5-4a88-8001-0a1133bb344b",
   "metadata": {},
   "source": [
    "In Python, super() is a built-in function that is used to call a method from a parent class in a derived class, enabling you to use inheritance and achieve polymorphism. Polymorphism allows objects of different classes to be treated as objects of a common superclass. By using super(), you can access methods and attributes of the parent class, enabling code reuse and overriding methods in the child class when necessary.\n",
    "\n",
    "Here's how super() works in the context of polymorphism:\n",
    "\n",
    "Example Scenario:\n",
    "Let's say you have a parent class called Shape with a method area():"
   ]
  },
  {
   "cell_type": "code",
   "execution_count": 214,
   "id": "ae762fa4-a7a5-4947-a3b7-2a9274492cfe",
   "metadata": {},
   "outputs": [],
   "source": [
    "class Shape:\n",
    "    def area(self):\n",
    "        return 0\n"
   ]
  },
  {
   "cell_type": "markdown",
   "id": "15faf441-e250-4efe-b77a-dddcb65a99ac",
   "metadata": {},
   "source": [
    "Now, you want to create different classes representing specific shapes like Circle and Rectangle that inherit from the Shape class. Each shape will have its own implementation of the area() method, but you want to reuse the common functionality provided by the Shape class."
   ]
  },
  {
   "cell_type": "code",
   "execution_count": 215,
   "id": "42c55817-d2de-4cec-a1f5-eed7f643da02",
   "metadata": {},
   "outputs": [],
   "source": [
    "class Circle(Shape):\n",
    "    def __init__(self, radius):\n",
    "        self.radius = radius\n",
    "    \n",
    "    def area(self):\n",
    "        return 3.14 * self.radius ** 2\n",
    "\n",
    "class Rectangle(Shape):\n",
    "    def __init__(self, width, height):\n",
    "        self.width = width\n",
    "        self.height = height\n",
    "    \n",
    "    def area(self):\n",
    "        return self.width * self.height\n"
   ]
  },
  {
   "cell_type": "markdown",
   "id": "aef22499-ff59-4546-b6c4-c71a57e26899",
   "metadata": {},
   "source": [
    "In the above code, both Circle and Rectangle are subclasses of Shape. They have their own implementations of the area() method, but they use super() to call the area() method of the parent Shape class. This allows you to achieve polymorphism because you can treat instances of Circle and Rectangle uniformly, as instances of the common Shape class.\n",
    "\n",
    "Calling super() to Access Parent Class Methods:\n",
    "When you call super().method_name(), Python looks for the method method_name() in the parent class of the current class. In this case, it calls the area() method of the Shape class, providing a consistent interface for all shapes regardless of their specific type."
   ]
  },
  {
   "cell_type": "code",
   "execution_count": 216,
   "id": "ec736a01-a6dd-4fe7-bbe1-7077dbeff10d",
   "metadata": {},
   "outputs": [
    {
     "name": "stdout",
     "output_type": "stream",
     "text": [
      "Circle Area: 78.5\n",
      "Rectangle Area: 24\n"
     ]
    }
   ],
   "source": [
    "circle = Circle(5)\n",
    "print(\"Circle Area:\", circle.area())  # Output: Circle Area: 78.5\n",
    "\n",
    "rectangle = Rectangle(4, 6)\n",
    "print(\"Rectangle Area:\", rectangle.area())  # Output: Rectangle Area: 24\n"
   ]
  },
  {
   "cell_type": "markdown",
   "id": "569e8bc7-7438-4b51-b98b-d25f54484ce1",
   "metadata": {},
   "source": [
    "In this way, super() enables polymorphism by allowing you to use a common interface (area() method in this case) across different subclasses, making your code more flexible and maintainable."
   ]
  },
  {
   "cell_type": "markdown",
   "id": "5a612bfc-f620-4f02-9cb5-224268f91806",
   "metadata": {},
   "source": [
    "q.14"
   ]
  },
  {
   "cell_type": "code",
   "execution_count": 217,
   "id": "77b3ab6c-5ec6-4e7b-bc0b-9fe8e4e4453a",
   "metadata": {},
   "outputs": [],
   "source": [
    "#Certainly! Here's an example of a Python class hierarchy for a banking system with different account types (savings, checking, credit card) and a polymorphic withdraw() method that is implemented across these account types:"
   ]
  },
  {
   "cell_type": "code",
   "execution_count": 218,
   "id": "a43761d5-8c24-4e57-a0bb-0e7631321e1d",
   "metadata": {},
   "outputs": [
    {
     "name": "stdout",
     "output_type": "stream",
     "text": [
      "Withdrawn 800 from savings account. Remaining balance: 200\n",
      "Withdrawn 800 from checking account. Remaining balance: 1200\n",
      "Exceeded credit limit\n"
     ]
    }
   ],
   "source": [
    "# Base class Account\n",
    "class Account:\n",
    "    def __init__(self, account_number, balance):\n",
    "        self.account_number = account_number\n",
    "        self.balance = balance\n",
    "    \n",
    "    def withdraw(self, amount):\n",
    "        pass  # Polymorphic method, the implementation will vary based on the account type\n",
    "\n",
    "# SavingsAccount class inheriting from Account\n",
    "class SavingsAccount(Account):\n",
    "    def __init__(self, account_number, balance, interest_rate):\n",
    "        super().__init__(account_number, balance)\n",
    "        self.interest_rate = interest_rate\n",
    "    \n",
    "    def withdraw(self, amount):\n",
    "        if amount <= self.balance:\n",
    "            self.balance -= amount\n",
    "            return f\"Withdrawn {amount} from savings account. Remaining balance: {self.balance}\"\n",
    "        else:\n",
    "            return \"Insufficient funds\"\n",
    "\n",
    "# CheckingAccount class inheriting from Account\n",
    "class CheckingAccount(Account):\n",
    "    def __init__(self, account_number, balance, overdraft_limit):\n",
    "        super().__init__(account_number, balance)\n",
    "        self.overdraft_limit = overdraft_limit\n",
    "    \n",
    "    def withdraw(self, amount):\n",
    "        if amount <= self.balance + self.overdraft_limit:\n",
    "            self.balance -= amount\n",
    "            return f\"Withdrawn {amount} from checking account. Remaining balance: {self.balance}\"\n",
    "        else:\n",
    "            return \"Exceeded overdraft limit\"\n",
    "\n",
    "# CreditCardAccount class inheriting from Account\n",
    "class CreditCardAccount(Account):\n",
    "    def __init__(self, account_number, balance, credit_limit):\n",
    "        super().__init__(account_number, balance)\n",
    "        self.credit_limit = credit_limit\n",
    "    \n",
    "    def withdraw(self, amount):\n",
    "        if amount <= self.balance + self.credit_limit:\n",
    "            self.balance -= amount\n",
    "            return f\"Withdrawn {amount} from credit card account. Remaining balance: {self.balance}\"\n",
    "        else:\n",
    "            return \"Exceeded credit limit\"\n",
    "\n",
    "# Demonstrate polymorphic behavior\n",
    "savings_account = SavingsAccount(\"SA123\", 1000, 0.05)\n",
    "checking_account = CheckingAccount(\"CA456\", 2000, 500)\n",
    "credit_card_account = CreditCardAccount(\"CC789\", -500, 1000)\n",
    "\n",
    "accounts = [savings_account, checking_account, credit_card_account]\n",
    "\n",
    "# Calling the withdraw() method on objects of different account types\n",
    "for account in accounts:\n",
    "    print(account.withdraw(800))\n"
   ]
  },
  {
   "cell_type": "markdown",
   "id": "51c0c798-0a89-454d-9cf4-80529f3f1b17",
   "metadata": {},
   "source": [
    "q.15"
   ]
  },
  {
   "cell_type": "code",
   "execution_count": 219,
   "id": "d0fec91e-2987-474e-bf0e-cf0357b02d7f",
   "metadata": {},
   "outputs": [],
   "source": [
    "#Operator overloading in Python allows you to define custom behavior for operators on user-defined classes. It enables objects of a class to respond to standard Python operators, such as +, *, <, >, etc., by defining special methods in the class. These methods are also known as magic methods or dunder methods (short for \"double underscore methods\"). Operator overloading provides a way to make user-defined objects work with Python operators, allowing you to write more expressive and intuitive code.\n",
    "\n",
    "#Operator overloading is closely related to polymorphism in the sense that it enables objects of different classes to respond to the same operator in a way that makes sense for that particular class. By defining appropriate magic methods, you can achieve polymorphic behavior when using operators on objects of different classes.\n",
    "\n",
    "#Examples of Operator Overloading:\n",
    "#Example 1: Overloading the + operator"
   ]
  },
  {
   "cell_type": "code",
   "execution_count": 220,
   "id": "c007585f-77e4-4032-abe0-806686554628",
   "metadata": {},
   "outputs": [
    {
     "name": "stdout",
     "output_type": "stream",
     "text": [
      "Sum: 3 + 7i\n"
     ]
    }
   ],
   "source": [
    "class ComplexNumber:\n",
    "    def __init__(self, real, imag):\n",
    "        self.real = real\n",
    "        self.imag = imag\n",
    "\n",
    "    def __add__(self, other):\n",
    "        # Overloading the + operator for ComplexNumber objects\n",
    "        return ComplexNumber(self.real + other.real, self.imag + other.imag)\n",
    "\n",
    "    def __str__(self):\n",
    "        return f\"{self.real} + {self.imag}i\"\n",
    "\n",
    "# Usage of operator overloading\n",
    "num1 = ComplexNumber(2, 3)\n",
    "num2 = ComplexNumber(1, 4)\n",
    "result = num1 + num2  # Calls the __add__ method of ComplexNumber class\n",
    "print(\"Sum:\", result)  # Output: Sum: 3 + 7i\n"
   ]
  },
  {
   "cell_type": "code",
   "execution_count": 221,
   "id": "7681fd87-01a4-4b8e-aabf-8f9d4c537aad",
   "metadata": {},
   "outputs": [],
   "source": [
    "#Example 2: Overloading the * operator"
   ]
  },
  {
   "cell_type": "code",
   "execution_count": 222,
   "id": "84829a4f-7887-4388-ae93-162f30e85821",
   "metadata": {},
   "outputs": [
    {
     "name": "stdout",
     "output_type": "stream",
     "text": [
      "Scaled Point: (6, 9)\n"
     ]
    }
   ],
   "source": [
    "class Point:\n",
    "    def __init__(self, x, y):\n",
    "        self.x = x\n",
    "        self.y = y\n",
    "\n",
    "    def __mul__(self, scalar):\n",
    "        # Overloading the * operator for Point objects\n",
    "        return Point(self.x * scalar, self.y * scalar)\n",
    "\n",
    "    def __str__(self):\n",
    "        return f\"({self.x}, {self.y})\"\n",
    "\n",
    "# Usage of operator overloading\n",
    "point = Point(2, 3)\n",
    "scaled_point = point * 3  # Calls the __mul__ method of Point class\n",
    "print(\"Scaled Point:\", scaled_point)  # Output: Scaled Point: (6, 9)\n"
   ]
  },
  {
   "cell_type": "markdown",
   "id": "b3cbbdcd-2808-49d5-8fcc-d7e2f49f2636",
   "metadata": {},
   "source": [
    "q.16"
   ]
  },
  {
   "cell_type": "code",
   "execution_count": 223,
   "id": "297e78b9-def0-4f41-bbb8-acc09cfe455e",
   "metadata": {},
   "outputs": [],
   "source": [
    "#Dynamic polymorphism, also known as runtime polymorphism, is a fundamental concept in object-oriented programming where the method to be executed is determined at runtime. It allows different classes to be treated as instances of the same class through a common interface, enabling objects of different types to be manipulated and processed uniformly.\n",
    "\n",
    "#Dynamic polymorphism is achieved through method overriding. When a subclass provides a specific implementation of a method that is already defined in its superclass, and an object of the subclass is used in a context where the superclass is expected, the overridden method in the subclass is called at runtime. This behavior allows Python to achieve dynamic polymorphism.\n",
    "\n",
    "#In Python, dynamic polymorphism is facilitated by inheritance, method overriding, and the ability to reference objects of derived classes using references of base class types. Here's an example demonstrating dynamic polymorphism in Python:"
   ]
  },
  {
   "cell_type": "code",
   "execution_count": 224,
   "id": "b6aa3c4d-b002-481b-91fb-de9e617264dc",
   "metadata": {},
   "outputs": [
    {
     "name": "stdout",
     "output_type": "stream",
     "text": [
      "Woof!\n",
      "Meow!\n",
      "Woof!\n",
      "Meow!\n"
     ]
    }
   ],
   "source": [
    "class Animal:\n",
    "    def make_sound(self):\n",
    "        return \"Some sound\"\n",
    "\n",
    "class Dog(Animal):\n",
    "    def make_sound(self):\n",
    "        return \"Woof!\"\n",
    "\n",
    "class Cat(Animal):\n",
    "    def make_sound(self):\n",
    "        return \"Meow!\"\n",
    "\n",
    "# Dynamic polymorphism\n",
    "dog = Dog()\n",
    "cat = Cat()\n",
    "\n",
    "# Calling the make_sound() method on objects of different subclasses\n",
    "print(dog.make_sound())  # Output: Woof!\n",
    "print(cat.make_sound())  # Output: Meow!\n",
    "\n",
    "# Using a list to store objects of different subclasses\n",
    "animals = [Dog(), Cat()]\n",
    "\n",
    "# Iterating through the list and calling make_sound() on each object\n",
    "for animal in animals:\n",
    "    print(animal.make_sound())\n",
    "# Output:\n",
    "# Woof!\n",
    "# Meow!\n"
   ]
  },
  {
   "cell_type": "markdown",
   "id": "e8e3c151-7807-4026-a634-6fa8c5d6491f",
   "metadata": {},
   "source": [
    "q.17"
   ]
  },
  {
   "cell_type": "code",
   "execution_count": 225,
   "id": "ea94b0db-662a-4295-bb2b-3a830e667835",
   "metadata": {},
   "outputs": [],
   "source": [
    "#Certainly! Here's an example of a Python class hierarchy for employees in a company (manager, developer, designer) with a common calculate_salary() method demonstrating polymorphism:"
   ]
  },
  {
   "cell_type": "code",
   "execution_count": 226,
   "id": "b85ce974-b001-4978-8241-1c8763d769ef",
   "metadata": {},
   "outputs": [
    {
     "name": "stdout",
     "output_type": "stream",
     "text": [
      "Alice's Salary: $2125\n",
      "Bob's Salary: $1100\n",
      "Eve's Salary: $1220\n"
     ]
    }
   ],
   "source": [
    "class Employee:\n",
    "    def __init__(self, name, role, hourly_rate):\n",
    "        self.name = name\n",
    "        self.role = role\n",
    "        self.hourly_rate = hourly_rate\n",
    "    \n",
    "    def calculate_salary(self, hours_worked):\n",
    "        # Common method to calculate salary (hourly rate * hours worked)\n",
    "        return self.hourly_rate * hours_worked\n",
    "\n",
    "# Manager class inheriting from Employee\n",
    "class Manager(Employee):\n",
    "    def __init__(self, name, hourly_rate, bonus):\n",
    "        super().__init__(name, \"Manager\", hourly_rate)\n",
    "        self.bonus = bonus\n",
    "    \n",
    "    def calculate_salary(self, hours_worked):\n",
    "        base_salary = super().calculate_salary(hours_worked)\n",
    "        # Managers receive a bonus in addition to the base salary\n",
    "        return base_salary + self.bonus\n",
    "\n",
    "# Developer class inheriting from Employee\n",
    "class Developer(Employee):\n",
    "    def __init__(self, name, hourly_rate, overtime_rate):\n",
    "        super().__init__(name, \"Developer\", hourly_rate)\n",
    "        self.overtime_rate = overtime_rate\n",
    "    \n",
    "    def calculate_salary(self, hours_worked):\n",
    "        # Developers receive overtime pay for hours worked beyond 40 hours per week\n",
    "        if hours_worked > 40:\n",
    "            regular_salary = 40 * self.hourly_rate\n",
    "            overtime_salary = (hours_worked - 40) * self.overtime_rate\n",
    "            return regular_salary + overtime_salary\n",
    "        else:\n",
    "            return super().calculate_salary(hours_worked)\n",
    "\n",
    "# Designer class inheriting from Employee\n",
    "class Designer(Employee):\n",
    "    def __init__(self, name, hourly_rate, projects_completed):\n",
    "        super().__init__(name, \"Designer\", hourly_rate)\n",
    "        self.projects_completed = projects_completed\n",
    "    \n",
    "    def calculate_salary(self, hours_worked):\n",
    "        # Designers receive a bonus based on the number of projects completed\n",
    "        bonus = self.projects_completed * 100\n",
    "        return super().calculate_salary(hours_worked) + bonus\n",
    "\n",
    "# Demonstrate polymorphic behavior\n",
    "manager = Manager(\"Alice\", 25, 1000)\n",
    "developer = Developer(\"Bob\", 20, 30)\n",
    "designer = Designer(\"Eve\", 18, 5)\n",
    "\n",
    "# Calculate salary for different employees\n",
    "print(f\"{manager.name}'s Salary: ${manager.calculate_salary(45)}\")  # Output: Alice's Salary: $2125\n",
    "print(f\"{developer.name}'s Salary: ${developer.calculate_salary(50)}\")  # Output: Bob's Salary: $1100\n",
    "print(f\"{designer.name}'s Salary: ${designer.calculate_salary(40)}\")  # Output: Eve's Salary: $770\n"
   ]
  },
  {
   "cell_type": "markdown",
   "id": "938f4fef-cadf-4d27-a212-548de83729a5",
   "metadata": {},
   "source": [
    "q.18"
   ]
  },
  {
   "cell_type": "code",
   "execution_count": 227,
   "id": "74e28ffc-3689-4d7b-a9f7-8c6653154b9a",
   "metadata": {},
   "outputs": [],
   "source": [
    "#In Python, the concept of function pointers isn't directly used as in some other programming languages. However, Python provides a way to achieve polymorphism through functions and callable objects, which can be considered analogous to function pointers in other languages. This is a fundamental aspect of Python's dynamic typing and polymorphism.\n",
    "\n",
    "#In Python, functions are first-class objects, which means they can be:\n",
    "\n",
    "#Assigned to variables: You can assign a function to a variable, effectively creating a reference to the function."
   ]
  },
  {
   "cell_type": "code",
   "execution_count": 228,
   "id": "21332cab-1568-4aa4-bc1e-c2dbe932b90b",
   "metadata": {},
   "outputs": [
    {
     "name": "stdout",
     "output_type": "stream",
     "text": [
      "Hello, Alice!\n"
     ]
    }
   ],
   "source": [
    "def greet(name):\n",
    "    return f\"Hello, {name}!\"\n",
    "\n",
    "function_pointer = greet  # Assigning the function to a variable\n",
    "print(function_pointer(\"Alice\"))  # Output: Hello, Alice!\n"
   ]
  },
  {
   "cell_type": "code",
   "execution_count": 229,
   "id": "6e6f9c74-fff2-41ba-9aa0-d2189ee58a52",
   "metadata": {},
   "outputs": [],
   "source": [
    "#Passed as arguments to other functions: Functions can be passed as arguments to other functions, allowing for higher-order functions and callback mechanisms."
   ]
  },
  {
   "cell_type": "code",
   "execution_count": 230,
   "id": "588e0949-6adc-4a30-86e3-c29d4867ee55",
   "metadata": {},
   "outputs": [
    {
     "name": "stdout",
     "output_type": "stream",
     "text": [
      "16\n"
     ]
    }
   ],
   "source": [
    "def apply_function(func, value):\n",
    "    return func(value)\n",
    "\n",
    "def square(num):\n",
    "    return num ** 2\n",
    "\n",
    "result = apply_function(square, 4)  # Passing the square function as an argument\n",
    "print(result)  # Output: 16\n"
   ]
  },
  {
   "cell_type": "code",
   "execution_count": 231,
   "id": "644e1c50-38f9-4a7d-b362-99c0610767d0",
   "metadata": {},
   "outputs": [],
   "source": [
    "#Returned from other functions: Functions can be returned from other functions, allowing for function factories and closures."
   ]
  },
  {
   "cell_type": "code",
   "execution_count": 232,
   "id": "e062d7b3-8ce5-4bd5-9caa-5b23d99a827a",
   "metadata": {},
   "outputs": [
    {
     "name": "stdout",
     "output_type": "stream",
     "text": [
      "10\n"
     ]
    }
   ],
   "source": [
    "def multiplier(factor):\n",
    "    def multiply(x):\n",
    "        return x * factor\n",
    "    return multiply\n",
    "\n",
    "double = multiplier(2)  # Returns a function that doubles the input\n",
    "print(double(5))  # Output: 10\n"
   ]
  },
  {
   "cell_type": "code",
   "execution_count": 233,
   "id": "e3d65ed2-3697-42b4-97d5-1dc22254fba1",
   "metadata": {},
   "outputs": [],
   "source": [
    "#This flexibility allows Python to achieve polymorphism through functions and callable objects. For example, you can define a common interface using functions, and different implementations of these functions can be provided by various classes. When you call these functions on objects of different classes, polymorphism is achieved as the appropriate function is invoked based on the actual type of the object.\n",
    "\n",
    "#Here's a brief example demonstrating polymorphism using functions in Python:"
   ]
  },
  {
   "cell_type": "code",
   "execution_count": 234,
   "id": "23038d44-b036-475b-ab53-46f7bacf6036",
   "metadata": {},
   "outputs": [
    {
     "name": "stdout",
     "output_type": "stream",
     "text": [
      "Woof!\n",
      "Meow!\n"
     ]
    }
   ],
   "source": [
    "class Dog:\n",
    "    def sound(self):\n",
    "        return \"Woof!\"\n",
    "\n",
    "class Cat:\n",
    "    def sound(self):\n",
    "        return \"Meow!\"\n",
    "\n",
    "# Function taking any object with a 'sound' method\n",
    "def make_sound(animal):\n",
    "    return animal.sound()\n",
    "\n",
    "dog = Dog()\n",
    "cat = Cat()\n",
    "\n",
    "print(make_sound(dog))  # Output: Woof!\n",
    "print(make_sound(cat))  # Output: Meow!\n"
   ]
  },
  {
   "cell_type": "markdown",
   "id": "3fc1989a-75b7-49a3-9211-7046e6c5cdfc",
   "metadata": {},
   "source": [
    "q.19"
   ]
  },
  {
   "cell_type": "markdown",
   "id": "c2f64ed8-b738-445f-b453-ae6eddd29be2",
   "metadata": {},
   "source": [
    "Both interfaces and abstract classes are used in object-oriented programming to achieve polymorphism by providing a common structure that multiple classes must adhere to. However, they serve slightly different purposes, and their implementations can vary across different programming languages. Let's discuss the roles of interfaces and abstract classes in polymorphism and draw comparisons between them.\n",
    "\n",
    "Interfaces:\n",
    "Role in Polymorphism:\n",
    "\n",
    "Defining a Contract: Interfaces define a contract for classes that implement them. They specify a set of methods that any class implementing the interface must provide. In this way, interfaces ensure that classes adhere to a specific API (Application Programming Interface).\n",
    "Polymorphic Behavior: Objects of different classes implementing the same interface can be treated interchangeably. This allows for polymorphic behavior, where different classes provide their own implementations of the interface methods but can be used uniformly through the interface reference.\n",
    "Comparison:\n",
    "\n",
    "Method Signatures Only: Interfaces contain method signatures (method names and parameter lists) but do not provide any implementation. Classes implementing an interface must provide concrete implementations for all methods defined in the interface.\n",
    "Multiple Inheritance: Many programming languages allow a class to implement multiple interfaces. This allows a class to inherit behavior from multiple sources, achieving a form of multiple inheritance without the complexities associated with inheriting implementation details from multiple classes.\n",
    "Abstract Classes:\n",
    "Role in Polymorphism:\n",
    "\n",
    "Defining a Base Template: Abstract classes provide a base template for subclasses. They can contain abstract methods (methods without implementations) that subclasses must override. Abstract classes can also have concrete methods with default implementations.\n",
    "Polymorphic Behavior: Subclasses of an abstract class inherit and override methods from the abstract class. Objects of these subclasses can be used polymorphically through references of the abstract class type.\n",
    "Comparison:\n",
    "\n",
    "Abstract and Concrete Methods: Abstract classes can have both abstract methods (without implementation) and concrete methods (with implementation). Subclasses are required to provide implementations for abstract methods but can choose to override or use the concrete methods.\n",
    "Single Inheritance: In most programming languages, a class can inherit from only one abstract class. This avoids the complexities associated with managing multiple base class implementations.\n",
    "Comparisons and Considerations:\n",
    "Use Interfaces When:\n",
    "\n",
    "You want to define a contract that multiple classes must adhere to without specifying any implementation details.\n",
    "You want to achieve multiple inheritance, allowing a class to implement multiple interfaces from different sources.\n",
    "Use Abstract Classes When:\n",
    "\n",
    "You want to provide a base template with both abstract and concrete methods.\n",
    "You want to define some common behavior and allow subclasses to extend or override specific methods as needed.\n",
    "You want to establish a relationship between a base class and its subclasses, indicating an \"is-a\" relationship.\n",
    "In summary, both interfaces and abstract classes play important roles in achieving polymorphism. The choice between them depends on the specific requirements of the design. Interfaces provide a clear contract for implementing classes, while abstract classes provide a base template with the flexibility of defining both abstract and concrete methods. The decision often revolves around whether you need to define a strict contract (interfaces) or provide a base template with some shared functionality (abstract classes).\n",
    "\n",
    "\n",
    "\n",
    "\n"
   ]
  },
  {
   "cell_type": "markdown",
   "id": "52f915df-e278-4153-8052-09e1e89e3c38",
   "metadata": {},
   "source": [
    "q.20"
   ]
  },
  {
   "cell_type": "code",
   "execution_count": 235,
   "id": "d32b250b-e28e-4bff-8b67-65f368487459",
   "metadata": {},
   "outputs": [],
   "source": [
    "#Certainly! Here's an example of a Python class hierarchy for a zoo simulation demonstrating polymorphism with different animal types and their behaviors:"
   ]
  },
  {
   "cell_type": "code",
   "execution_count": 236,
   "id": "ed1bf4ee-67d2-4852-b831-ce73e10fec79",
   "metadata": {},
   "outputs": [
    {
     "name": "stdout",
     "output_type": "stream",
     "text": [
      "Lion: Mammal sound. Mammal eating. Mammal sleeping\n",
      "Parrot: Bird sound. Bird eating. Bird sleeping\n",
      "Snake: Reptile sound. Reptile eating. Reptile sleeping\n"
     ]
    }
   ],
   "source": [
    "class Animal:\n",
    "    def __init__(self, name):\n",
    "        self.name = name\n",
    "\n",
    "    def make_sound(self):\n",
    "        pass\n",
    "\n",
    "    def eat(self):\n",
    "        pass\n",
    "\n",
    "    def sleep(self):\n",
    "        pass\n",
    "\n",
    "# Mammal class inheriting from Animal\n",
    "class Mammal(Animal):\n",
    "    def __init__(self, name):\n",
    "        super().__init__(name)\n",
    "\n",
    "    def make_sound(self):\n",
    "        return \"Mammal sound\"\n",
    "\n",
    "    def eat(self):\n",
    "        return \"Mammal eating\"\n",
    "\n",
    "    def sleep(self):\n",
    "        return \"Mammal sleeping\"\n",
    "\n",
    "# Bird class inheriting from Animal\n",
    "class Bird(Animal):\n",
    "    def __init__(self, name):\n",
    "        super().__init__(name)\n",
    "\n",
    "    def make_sound(self):\n",
    "        return \"Bird sound\"\n",
    "\n",
    "    def eat(self):\n",
    "        return \"Bird eating\"\n",
    "\n",
    "    def sleep(self):\n",
    "        return \"Bird sleeping\"\n",
    "\n",
    "# Reptile class inheriting from Animal\n",
    "class Reptile(Animal):\n",
    "    def __init__(self, name):\n",
    "        super().__init__(name)\n",
    "\n",
    "    def make_sound(self):\n",
    "        return \"Reptile sound\"\n",
    "\n",
    "    def eat(self):\n",
    "        return \"Reptile eating\"\n",
    "\n",
    "    def sleep(self):\n",
    "        return \"Reptile sleeping\"\n",
    "\n",
    "# Zoo class for managing animals\n",
    "class Zoo:\n",
    "    def __init__(self):\n",
    "        self.animals = []\n",
    "\n",
    "    def add_animal(self, animal):\n",
    "        self.animals.append(animal)\n",
    "\n",
    "    def perform_activities(self):\n",
    "        for animal in self.animals:\n",
    "            print(f\"{animal.name}: {animal.make_sound()}. {animal.eat()}. {animal.sleep()}\")\n",
    "\n",
    "# Creating instances of different animal types\n",
    "lion = Mammal(\"Lion\")\n",
    "parrot = Bird(\"Parrot\")\n",
    "snake = Reptile(\"Snake\")\n",
    "\n",
    "# Adding animals to the zoo\n",
    "zoo = Zoo()\n",
    "zoo.add_animal(lion)\n",
    "zoo.add_animal(parrot)\n",
    "zoo.add_animal(snake)\n",
    "\n",
    "# Performing activities in the zoo, demonstrating polymorphism\n",
    "zoo.perform_activities()\n"
   ]
  },
  {
   "cell_type": "code",
   "execution_count": 237,
   "id": "77e18b90-005c-44fc-adc4-4929f11968ce",
   "metadata": {},
   "outputs": [],
   "source": [
    "#Abstraction:"
   ]
  },
  {
   "cell_type": "markdown",
   "id": "e2b7b224-72a3-4254-a973-ee900b7f17b8",
   "metadata": {},
   "source": [
    "q.1"
   ]
  },
  {
   "cell_type": "markdown",
   "id": "013641ce-c27f-49f3-aac2-c052b5dac4c2",
   "metadata": {},
   "source": [
    "Abstraction in Python refers to the process of hiding complex implementation details and showing only the necessary features of an object. It allows programmers to create a simplified representation of an object or a system, focusing on the essential characteristics while ignoring the unessential details. Abstraction is one of the core principles of object-oriented programming (OOP).\n",
    "\n",
    "How Abstraction Relates to Object-Oriented Programming (OOP):\n",
    "Encapsulation: Abstraction and encapsulation are closely related concepts in OOP. Encapsulation involves bundling the data (attributes) and methods (functions) that operate on the data into a single unit known as a class. Abstraction, on the other hand, involves exposing only the necessary functionality of the object and hiding the internal implementation details. Encapsulation helps achieve abstraction by allowing the programmer to define public interfaces (methods) that abstract away the underlying complexity.\n",
    "\n",
    "Class and Object: Abstraction is achieved through classes and objects. A class is an abstract blueprint that defines the attributes and methods common to all objects of that class. Objects are instances of classes. The class defines what an object will contain (attributes) and what it can do (methods). When you create an object from a class, you are creating an abstraction of a real-world entity, focusing on what the object does rather than how it achieves its functionality.\n",
    "\n",
    "Abstract Classes and Interfaces: In Python, you can create abstract classes using the abc (Abstract Base Classes) module. Abstract classes can have abstract methods (methods without implementation) that must be implemented by concrete subclasses. This enforces abstraction by ensuring that derived classes provide concrete implementations for the abstract methods."
   ]
  },
  {
   "cell_type": "code",
   "execution_count": 238,
   "id": "abb1e910-7d30-43c3-aec2-523659e99505",
   "metadata": {},
   "outputs": [],
   "source": [
    "from abc import ABC, abstractmethod\n",
    "\n",
    "class Shape(ABC):\n",
    "    @abstractmethod\n",
    "    def calculate_area(self):\n",
    "        pass\n",
    "\n",
    "class Circle(Shape):\n",
    "    def __init__(self, radius):\n",
    "        self.radius = radius\n",
    "\n",
    "    def calculate_area(self):\n",
    "        return 3.14 * self.radius * self.radius\n"
   ]
  },
  {
   "cell_type": "markdown",
   "id": "041a48ee-63bb-4d6f-934c-b61ce295dfa2",
   "metadata": {},
   "source": [
    "q.2"
   ]
  },
  {
   "cell_type": "markdown",
   "id": "6a08e631-bbd1-4f13-b912-f0524d20cfb2",
   "metadata": {},
   "source": [
    "Abstraction plays a crucial role in code organization and complexity reduction in software development. Here are the key benefits of abstraction in terms of code organization and reducing complexity:\n",
    "\n",
    "1. Simplifying Complex Systems:\n",
    "Focus on Essential Details: Abstraction allows developers to focus on essential features and behaviors of objects, ignoring the intricate implementation details. This simplification is vital when dealing with complex systems, making it easier to understand and work with the codebase.\n",
    "2. Enhancing Code Readability:\n",
    "Higher-Level View: Abstraction provides a higher-level view of the code. By exposing only the necessary details and hiding the complexities, the code becomes more readable and understandable. Developers can comprehend the code without being overwhelmed by low-level implementation specifics.\n",
    "3. Improving Modularity:\n",
    "Clear Interfaces: Abstraction allows the definition of clear and concise interfaces for objects. These interfaces represent contracts that specify what methods can be called and what they are expected to do. Modifying the internal implementation of an object does not affect other parts of the program as long as the interface remains unchanged, promoting modularity.\n",
    "4. Encouraging Code Reusability:\n",
    "Abstract Classes and Interfaces: Abstract classes and interfaces define a blueprint for objects. By creating concrete classes that adhere to these abstract definitions, developers can reuse the code across multiple parts of the program. This reusability reduces duplication and ensures consistency in behavior.\n",
    "5. Facilitating Maintenance and Updates:\n",
    "Isolating Changes: Abstraction isolates changes within a specific part of the code. When modifications are needed, developers can focus on the abstract interfaces, ensuring that changes in one area do not create a domino effect of modifications throughout the codebase. This isolation simplifies maintenance and updates.\n",
    "6. Promoting Collaboration:\n",
    "Clear Contracts: Abstraction provides clear contracts between different parts of the program. Team members can collaborate effectively by understanding these contracts. When different components adhere to well-defined interfaces, collaboration between teams working on different parts of the system becomes smoother.\n",
    "7. Enabling Polymorphism:\n",
    "Polymorphic Behavior: Abstraction is a fundamental concept behind polymorphism. By defining abstract classes or interfaces, developers can create polymorphic behavior, allowing different classes to be treated as instances of the same abstract type. This flexibility is invaluable for building versatile and extensible systems.\n",
    "In summary, abstraction enhances code organization and reduces complexity by simplifying complex systems, improving code readability, promoting modularity, encouraging code reusability, facilitating maintenance and updates, enabling effective collaboration, and supporting polymorphic behavior. These benefits are essential for developing scalable, maintainable, and understandable software systems.\n",
    "\n",
    "\n",
    "\n",
    "\n"
   ]
  },
  {
   "cell_type": "markdown",
   "id": "d785aaad-9098-489a-91cf-9ee237c0f1f3",
   "metadata": {},
   "source": [
    "q.3"
   ]
  },
  {
   "cell_type": "code",
   "execution_count": 239,
   "id": "d8ad2480-1482-4d40-8410-e0b40f122952",
   "metadata": {},
   "outputs": [],
   "source": [
    "#Certainly! Here's an example of a Python class hierarchy demonstrating abstraction with an abstract class Shape and its child classes Circle and Rectangle. Shape defines an abstract method calculate_area(), and the child classes provide concrete implementations for this method:"
   ]
  },
  {
   "cell_type": "code",
   "execution_count": 240,
   "id": "bba2b5c2-1d85-4b1c-b1dc-b7e8b0218f78",
   "metadata": {},
   "outputs": [
    {
     "name": "stdout",
     "output_type": "stream",
     "text": [
      "Area of the circle: 78.5\n",
      "Area of the rectangle: 24\n"
     ]
    }
   ],
   "source": [
    "from abc import ABC, abstractmethod\n",
    "\n",
    "# Abstract class Shape with an abstract method calculate_area()\n",
    "class Shape(ABC):\n",
    "    @abstractmethod\n",
    "    def calculate_area(self):\n",
    "        pass\n",
    "\n",
    "# Circle class inheriting from Shape\n",
    "class Circle(Shape):\n",
    "    def __init__(self, radius):\n",
    "        self.radius = radius\n",
    "\n",
    "    def calculate_area(self):\n",
    "        return 3.14 * self.radius * self.radius\n",
    "\n",
    "# Rectangle class inheriting from Shape\n",
    "class Rectangle(Shape):\n",
    "    def __init__(self, width, height):\n",
    "        self.width = width\n",
    "        self.height = height\n",
    "\n",
    "    def calculate_area(self):\n",
    "        return self.width * self.height\n",
    "\n",
    "# Example usage of the Shape and its child classes\n",
    "circle = Circle(5)\n",
    "rectangle = Rectangle(4, 6)\n",
    "\n",
    "# Calculating and printing areas\n",
    "print(f\"Area of the circle: {circle.calculate_area()}\")  # Output: Area of the circle: 78.5\n",
    "print(f\"Area of the rectangle: {rectangle.calculate_area()}\")  # Output: Area of the rectangle: 24\n"
   ]
  },
  {
   "cell_type": "markdown",
   "id": "a7a4a2ff-49c0-4906-a69d-53c77e451095",
   "metadata": {},
   "source": [
    "q.4"
   ]
  },
  {
   "cell_type": "code",
   "execution_count": 241,
   "id": "2dcd27f9-7e2c-4f62-b5fc-07544a395efd",
   "metadata": {},
   "outputs": [],
   "source": [
    "#In Python, an abstract class is a class that cannot be instantiated. It serves as a blueprint for other classes, allowing you to define abstract methods (methods without implementation) that must be implemented by any concrete (i.e., non-abstract) subclass. Abstract classes provide a way to enforce certain methods to be implemented by all subclasses, ensuring a consistent interface while allowing individual subclasses to provide specific implementations.\n",
    "\n",
    "#Python's abc (Abstract Base Classes) module provides a way to create abstract classes and abstract methods. Here's how abstract classes are defined using the abc module:\n",
    "\n",
    "#Example of Abstract Classes using the abc Module"
   ]
  },
  {
   "cell_type": "code",
   "execution_count": 242,
   "id": "800d3ad5-4e34-46f6-b059-12209716e9ab",
   "metadata": {},
   "outputs": [
    {
     "name": "stdout",
     "output_type": "stream",
     "text": [
      "Area of the circle: 78.5\n",
      "Area of the rectangle: 24\n"
     ]
    }
   ],
   "source": [
    "from abc import ABC, abstractmethod\n",
    "\n",
    "# Abstract class Shape inheriting from ABC (Abstract Base Class)\n",
    "class Shape(ABC):\n",
    "    @abstractmethod\n",
    "    def calculate_area(self):\n",
    "        pass\n",
    "\n",
    "# Concrete subclass Circle inheriting from Shape\n",
    "class Circle(Shape):\n",
    "    def __init__(self, radius):\n",
    "        self.radius = radius\n",
    "\n",
    "    def calculate_area(self):\n",
    "        return 3.14 * self.radius * self.radius\n",
    "\n",
    "# Concrete subclass Rectangle inheriting from Shape\n",
    "class Rectangle(Shape):\n",
    "    def __init__(self, width, height):\n",
    "        self.width = width\n",
    "        self.height = height\n",
    "\n",
    "    def calculate_area(self):\n",
    "        return self.width * self.height\n",
    "\n",
    "# Attempting to create an instance of an abstract class will raise an error\n",
    "# shape = Shape()  # This will raise a TypeError: Can't instantiate abstract class Shape with abstract methods calculate_area\n",
    "\n",
    "# Creating objects of concrete subclasses and calling the abstract method\n",
    "circle = Circle(5)\n",
    "rectangle = Rectangle(4, 6)\n",
    "\n",
    "print(f\"Area of the circle: {circle.calculate_area()}\")  # Output: Area of the circle: 78.5\n",
    "print(f\"Area of the rectangle: {rectangle.calculate_area()}\")  # Output: Area of the rectangle: 24\n"
   ]
  },
  {
   "cell_type": "markdown",
   "id": "052a449e-1036-479f-a091-d0e352115af2",
   "metadata": {},
   "source": [
    "q.5"
   ]
  },
  {
   "cell_type": "markdown",
   "id": "9170d0ac-30ee-4e9d-a70f-10de55f41012",
   "metadata": {},
   "source": [
    "Abstract classes and regular classes (also known as concrete classes) in Python differ in their purpose and behavior. Here's a comparison of the two and their respective use cases:\n",
    "\n",
    "Abstract Classes:\n",
    "Definition:\n",
    "\n",
    "Abstract classes are classes that cannot be instantiated on their own. They are meant to be subclassed by other classes.\n",
    "Abstract methods: Abstract classes can contain abstract methods (methods without implementation) that must be implemented by any concrete subclass. Abstract methods are defined using the @abstractmethod decorator and are meant to provide a blueprint for subclasses.\n",
    "Purpose:\n",
    "\n",
    "Enforcing Structure: Abstract classes are used when you want to define a common interface for all subclasses. They define a structure that must be followed by all concrete subclasses.\n",
    "Forcing Implementation: Abstract methods ensure that specific methods are implemented by all subclasses. This enforces a consistent behavior across different classes that share a common interface.\n",
    "Use Cases:\n",
    "\n",
    "Abstract classes are suitable when you have a base class that should not be instantiated on its own and you want to enforce that all subclasses implement certain methods.\n",
    "Use abstract classes when you want to provide a common interface for a group of related classes, allowing them to share common methods while forcing each class to provide its own implementation for certain methods.\n",
    "Regular Classes (Concrete Classes):\n",
    "Definition:\n",
    "\n",
    "Regular classes are classes that can be instantiated directly. They can be used to create objects, and they can contain both attributes and methods with implementations.\n",
    "Purpose:\n",
    "\n",
    "Object Instantiation: Regular classes are used when you need to create objects with specific attributes and behaviors.\n",
    "Implementation of Methods: Regular classes provide concrete implementations for all their methods. They do not have abstract methods that need to be implemented by subclasses.\n",
    "Use Cases:\n",
    "\n",
    "Use regular classes when you need to create objects and provide specific implementations for their methods.\n",
    "Regular classes are appropriate when you don't need to enforce a common interface across multiple classes, and each class can have its own set of methods and attributes.\n",
    "Use Cases Comparison:\n",
    "Abstract Classes:\n",
    "\n",
    "Common Interface: Abstract classes are used when you want to define a common interface or behavior for all subclasses.\n",
    "Forcing Implementation: They are used when you want to ensure that certain methods are implemented by all subclasses, providing a way to enforce consistency.\n",
    "Regular Classes:\n",
    "\n",
    "Object Creation: Regular classes are used when you need to create objects with specific attributes and behaviors.\n",
    "Custom Implementations: They are used when each class can have its own set of methods and attributes without the need for a shared interface.\n",
    "In summary, abstract classes are used to define a common structure and enforce implementation details for a group of related classes, whereas regular classes are used for creating objects with specific behaviors and attributes. The choice between abstract and regular classes depends on whether you need to enforce a common interface and provide a blueprint for subclasses (abstract classes) or you simply need to create objects with specific characteristics (regular classes).\n",
    "\n",
    "\n",
    "\n",
    "\n"
   ]
  },
  {
   "cell_type": "markdown",
   "id": "3d94b0e5-8c2c-4355-8238-a230eead40ba",
   "metadata": {},
   "source": [
    "q.6"
   ]
  },
  {
   "cell_type": "code",
   "execution_count": 243,
   "id": "c6a4ec9e-bf70-40f2-96fb-72ac675a23c6",
   "metadata": {},
   "outputs": [],
   "source": [
    "#Certainly! Here's an example of a Python class for a bank account demonstrating abstraction by hiding the account balance and providing methods to deposit and withdraw funds:"
   ]
  },
  {
   "cell_type": "code",
   "execution_count": 244,
   "id": "db7e5ecf-8bd5-4d3c-a2ed-78a5dd879656",
   "metadata": {},
   "outputs": [
    {
     "name": "stdout",
     "output_type": "stream",
     "text": [
      "Deposited $1000. New balance: $1000\n",
      "Withdrew $500. New balance: $500\n",
      "Deposited $1500. New balance: $1500\n",
      "Insufficient funds.\n",
      "Withdrew $1200. New balance: $300\n"
     ]
    }
   ],
   "source": [
    "from abc import ABC, abstractmethod\n",
    "\n",
    "# Abstract class for a bank account\n",
    "class BankAccount(ABC):\n",
    "    def __init__(self, account_holder, account_number):\n",
    "        self.account_holder = account_holder\n",
    "        self.account_number = account_number\n",
    "        self._balance = 0  # _balance is meant to indicate it's a protected attribute\n",
    "\n",
    "    @abstractmethod\n",
    "    def deposit(self, amount):\n",
    "        pass\n",
    "\n",
    "    @abstractmethod\n",
    "    def withdraw(self, amount):\n",
    "        pass\n",
    "\n",
    "    def get_balance(self):\n",
    "        return self._balance\n",
    "\n",
    "# Concrete subclass for a savings account\n",
    "class SavingsAccount(BankAccount):\n",
    "    def __init__(self, account_holder, account_number):\n",
    "        super().__init__(account_holder, account_number)\n",
    "\n",
    "    def deposit(self, amount):\n",
    "        self._balance += amount\n",
    "        print(f\"Deposited ${amount}. New balance: ${self._balance}\")\n",
    "\n",
    "    def withdraw(self, amount):\n",
    "        if amount <= self._balance:\n",
    "            self._balance -= amount\n",
    "            print(f\"Withdrew ${amount}. New balance: ${self._balance}\")\n",
    "        else:\n",
    "            print(\"Insufficient funds.\")\n",
    "\n",
    "# Concrete subclass for a checking account\n",
    "class CheckingAccount(BankAccount):\n",
    "    def __init__(self, account_holder, account_number, overdraft_limit):\n",
    "        super().__init__(account_holder, account_number)\n",
    "        self.overdraft_limit = overdraft_limit\n",
    "\n",
    "    def deposit(self, amount):\n",
    "        self._balance += amount\n",
    "        print(f\"Deposited ${amount}. New balance: ${self._balance}\")\n",
    "\n",
    "    def withdraw(self, amount):\n",
    "        available_funds = self._balance + self.overdraft_limit\n",
    "        if amount <= available_funds:\n",
    "            self._balance -= amount\n",
    "            print(f\"Withdrew ${amount}. New balance: ${self._balance}\")\n",
    "        else:\n",
    "            print(\"Insufficient funds.\")\n",
    "\n",
    "# Example usage of the bank account classes\n",
    "savings_account = SavingsAccount(\"Alice\", \"123456\")\n",
    "checking_account = CheckingAccount(\"Bob\", \"654321\", overdraft_limit=100)\n",
    "\n",
    "savings_account.deposit(1000)  # Output: Deposited $1000. New balance: $1000\n",
    "savings_account.withdraw(500)   # Output: Withdrew $500. New balance: $500\n",
    "\n",
    "checking_account.deposit(1500)   # Output: Deposited $1500. New balance: $1500\n",
    "checking_account.withdraw(2000)  # Output: Insufficient funds.\n",
    "checking_account.withdraw(1200)  # Output: Withdrew $1200. New balance: $300\n"
   ]
  },
  {
   "cell_type": "markdown",
   "id": "87319b62-f071-4c92-a590-4e85612d69a4",
   "metadata": {},
   "source": [
    "q.7"
   ]
  },
  {
   "cell_type": "markdown",
   "id": "8be5bac8-2d16-4aa4-b5e0-3d86878fc6e5",
   "metadata": {},
   "source": [
    "In Python, interface classes are not a built-in language feature like in some other programming languages (such as Java or TypeScript), where interfaces define a contract for methods that implementing classes must adhere to. However, the concept of interfaces can be achieved through abstract base classes (ABCs) using the abc (Abstract Base Classes) module.\n",
    "\n",
    "Achieving Interfaces using Abstract Base Classes (ABCs) in Python:\n",
    "Abstract Base Classes (ABCs):\n",
    "\n",
    "Python's abc module provides a way to create abstract base classes. An abstract base class is a class that cannot be instantiated and is meant to be subclassed by concrete classes.\n",
    "Abstract base classes can define abstract methods, which are methods without implementation, and concrete methods, which have implementations. Abstract methods in ABCs serve as a form of interface, defining a contract that concrete subclasses must fulfill.\n",
    "Role in Achieving Abstraction:\n",
    "\n",
    "Defining a Common Interface: Abstract base classes are used to define a common interface for a group of related classes. By defining abstract methods in the base class, the ABC enforces that all subclasses provide concrete implementations for these methods.\n",
    "Hiding Implementation Details: ABCs allow you to hide the implementation details of the methods while specifying what methods must be implemented by concrete subclasses. This encapsulation ensures that the interface remains consistent, promoting abstraction.\n",
    "Example of Interface using Abstract Base Classes (ABCs):"
   ]
  },
  {
   "cell_type": "code",
   "execution_count": 245,
   "id": "650e3809-de66-4551-af51-fb927ed48f02",
   "metadata": {},
   "outputs": [
    {
     "name": "stdout",
     "output_type": "stream",
     "text": [
      "Area of the circle: 78.5\n",
      "Area of the rectangle: 24\n"
     ]
    }
   ],
   "source": [
    "from abc import ABC, abstractmethod\n",
    "\n",
    "# Abstract Base Class (ABC) defining an interface for a shape\n",
    "class Shape(ABC):\n",
    "    @abstractmethod\n",
    "    def calculate_area(self):\n",
    "        pass\n",
    "\n",
    "# Concrete class Circle implementing the Shape interface\n",
    "class Circle(Shape):\n",
    "    def __init__(self, radius):\n",
    "        self.radius = radius\n",
    "\n",
    "    def calculate_area(self):\n",
    "        return 3.14 * self.radius * self.radius\n",
    "\n",
    "# Concrete class Rectangle implementing the Shape interface\n",
    "class Rectangle(Shape):\n",
    "    def __init__(self, width, height):\n",
    "        self.width = width\n",
    "        self.height = height\n",
    "\n",
    "    def calculate_area(self):\n",
    "        return self.width * self.height\n",
    "\n",
    "# Usage of the Shape interface\n",
    "circle = Circle(5)\n",
    "rectangle = Rectangle(4, 6)\n",
    "\n",
    "print(f\"Area of the circle: {circle.calculate_area()}\")  # Output: Area of the circle: 78.5\n",
    "print(f\"Area of the rectangle: {rectangle.calculate_area()}\")  # Output: Area of the rectangle: 24\n"
   ]
  },
  {
   "cell_type": "markdown",
   "id": "27f45e31-78dd-49e1-b801-4c3da923ed01",
   "metadata": {},
   "source": [
    "q.8"
   ]
  },
  {
   "cell_type": "code",
   "execution_count": 246,
   "id": "d910b28c-56ec-45d5-903f-be2dedbbc34e",
   "metadata": {},
   "outputs": [],
   "source": [
    "#Certainly! Here's an example of a Python class hierarchy for animals implementing abstraction by defining common methods eat() and sleep() in an abstract base class:"
   ]
  },
  {
   "cell_type": "code",
   "execution_count": 247,
   "id": "1b26f74d-2610-49b6-bb6f-fb42026617c4",
   "metadata": {},
   "outputs": [
    {
     "name": "stdout",
     "output_type": "stream",
     "text": [
      "Lion is eating like a mammal.\n",
      "Lion is sleeping like a mammal.\n",
      "Eagle is eating like a bird.\n",
      "Eagle is sleeping like a bird.\n",
      "Snake is eating like a reptile.\n",
      "Snake is sleeping like a reptile.\n"
     ]
    }
   ],
   "source": [
    "from abc import ABC, abstractmethod\n",
    "\n",
    "# Abstract base class for animals\n",
    "class Animal(ABC):\n",
    "    def __init__(self, name):\n",
    "        self.name = name\n",
    "\n",
    "    @abstractmethod\n",
    "    def eat(self):\n",
    "        pass\n",
    "\n",
    "    @abstractmethod\n",
    "    def sleep(self):\n",
    "        pass\n",
    "\n",
    "# Concrete subclass for mammals\n",
    "class Mammal(Animal):\n",
    "    def eat(self):\n",
    "        return f\"{self.name} is eating like a mammal.\"\n",
    "\n",
    "    def sleep(self):\n",
    "        return f\"{self.name} is sleeping like a mammal.\"\n",
    "\n",
    "# Concrete subclass for birds\n",
    "class Bird(Animal):\n",
    "    def eat(self):\n",
    "        return f\"{self.name} is eating like a bird.\"\n",
    "\n",
    "    def sleep(self):\n",
    "        return f\"{self.name} is sleeping like a bird.\"\n",
    "\n",
    "# Concrete subclass for reptiles\n",
    "class Reptile(Animal):\n",
    "    def eat(self):\n",
    "        return f\"{self.name} is eating like a reptile.\"\n",
    "\n",
    "    def sleep(self):\n",
    "        return f\"{self.name} is sleeping like a reptile.\"\n",
    "\n",
    "# Example usage of the animal classes\n",
    "mammal = Mammal(\"Lion\")\n",
    "bird = Bird(\"Eagle\")\n",
    "reptile = Reptile(\"Snake\")\n",
    "\n",
    "print(mammal.eat())  # Output: Lion is eating like a mammal.\n",
    "print(mammal.sleep())  # Output: Lion is sleeping like a mammal.\n",
    "\n",
    "print(bird.eat())  # Output: Eagle is eating like a bird.\n",
    "print(bird.sleep())  # Output: Eagle is sleeping like a bird.\n",
    "\n",
    "print(reptile.eat())  # Output: Snake is eating like a reptile.\n",
    "print(reptile.sleep())  # Output: Snake is sleeping like a reptile.\n"
   ]
  },
  {
   "cell_type": "markdown",
   "id": "e9a3f22f-ab13-4109-b74f-07c968386b5c",
   "metadata": {},
   "source": [
    "q.9"
   ]
  },
  {
   "cell_type": "code",
   "execution_count": 248,
   "id": "d777bad6-02ed-4279-bb5e-a82e8599dc99",
   "metadata": {},
   "outputs": [],
   "source": [
    "#Encapsulation is one of the fundamental principles of object-oriented programming (OOP). It refers to the bundling of data (attributes) and methods (functions) that operate on the data into a single unit known as a class. Encapsulation provides several benefits, one of which is achieving abstraction by hiding the internal implementation details of objects and exposing only the necessary functionalities.\n",
    "\n",
    "#Significance of Encapsulation in Achieving Abstraction:\n",
    "#Data Hiding:\n",
    "\n",
    "#Encapsulation allows you to hide the internal state (attributes) of an object from the outside world. By making attributes private or protected, you prevent direct access to them from external code. This hides the internal representation, achieving data abstraction."
   ]
  },
  {
   "cell_type": "code",
   "execution_count": 249,
   "id": "023894fd-5c62-460b-8b35-0b7a5b10e70c",
   "metadata": {},
   "outputs": [],
   "source": [
    "class BankAccount:\n",
    "    def __init__(self):\n",
    "        self.__balance = 0  # private attribute\n",
    "\n",
    "    def deposit(self, amount):\n",
    "        self.__balance += amount\n",
    "\n",
    "    def get_balance(self):\n",
    "        return self.__balance\n"
   ]
  },
  {
   "cell_type": "code",
   "execution_count": 250,
   "id": "e6ceb846-9e3f-4eca-b13a-85059278f1a4",
   "metadata": {},
   "outputs": [],
   "source": [
    "#Implementation Details:\n",
    "\n",
    "#Encapsulation enables the implementation details of a class to be hidden. Clients using the class only need to know the class's public interface (methods). This separation between interface and implementation promotes abstraction by allowing changes to the internal workings of a class without affecting its users."
   ]
  },
  {
   "cell_type": "code",
   "execution_count": 251,
   "id": "b6092c83-c32b-4865-8c07-9a994fa44e76",
   "metadata": {},
   "outputs": [],
   "source": [
    "class TemperatureConverter:\n",
    "    def __init__(self, temperature):\n",
    "        self.__temperature = temperature  # private attribute\n",
    "\n",
    "    def to_celsius(self):\n",
    "        return (self.__temperature - 32) * 5 / 9\n"
   ]
  },
  {
   "cell_type": "code",
   "execution_count": 252,
   "id": "490c177f-a994-4a80-8786-72384c24ed02",
   "metadata": {},
   "outputs": [],
   "source": [
    "#Access Control:\n",
    "\n",
    "#Encapsulation allows you to control the access level to attributes and methods. You can define attributes as private (with double underscores) or protected (with a single underscore), indicating whether they should not be accessed from outside the class or should be accessed only by subclasses."
   ]
  },
  {
   "cell_type": "code",
   "execution_count": 253,
   "id": "ed49d4ba-eb62-404f-bbbf-2911dbee0098",
   "metadata": {},
   "outputs": [
    {
     "name": "stdout",
     "output_type": "stream",
     "text": [
      "Alice\n",
      "20\n"
     ]
    }
   ],
   "source": [
    "class Student:\n",
    "    def __init__(self, name, age):\n",
    "        self._name = name  # protected attribute\n",
    "        self.__age = age    # private attribute\n",
    "\n",
    "    def get_age(self):\n",
    "        return self.__age\n",
    "\n",
    "student = Student(\"Alice\", 20)\n",
    "print(student._name)   # Accessing protected attribute\n",
    "print(student.get_age())  # Accessing private attribute through a public method\n"
   ]
  },
  {
   "cell_type": "code",
   "execution_count": 254,
   "id": "ee5e4d5d-67fc-4f12-b618-aa0c6821fda0",
   "metadata": {},
   "outputs": [],
   "source": [
    "#Abstraction of Behavior:\n",
    "\n",
    "#Encapsulation not only abstracts data but also abstracts behavior. Methods encapsulated within classes provide a way to interact with the object's data, abstracting the behavior of the object."
   ]
  },
  {
   "cell_type": "code",
   "execution_count": 255,
   "id": "b6bea80f-43aa-433b-b132-cbf2503f8cc3",
   "metadata": {},
   "outputs": [],
   "source": [
    "class Car:\n",
    "    def __init__(self):\n",
    "        self.__speed = 0  # private attribute\n",
    "\n",
    "    def accelerate(self):\n",
    "        self.__speed += 10\n",
    "\n",
    "    def get_speed(self):\n",
    "        return self.__speed\n"
   ]
  },
  {
   "cell_type": "markdown",
   "id": "258d7884-5919-4fe1-a584-c4b4aee890e0",
   "metadata": {},
   "source": [
    "q.10"
   ]
  },
  {
   "cell_type": "markdown",
   "id": "a223bc1c-19ff-44b8-9702-aa4168c91206",
   "metadata": {},
   "source": [
    "Abstract methods in Python are methods declared in an abstract class, but they don't have any implementation in the abstract class itself. Instead, their implementation is provided by concrete (i.e., non-abstract) subclasses. Abstract methods serve the purpose of defining a common interface that concrete subclasses must adhere to, ensuring a consistent behavior across multiple classes.\n",
    "\n",
    "Purpose of Abstract Methods:\n",
    "Defining a Contract:\n",
    "\n",
    "Abstract methods define a contract that concrete subclasses must fulfill. By declaring abstract methods in an abstract class, you're specifying what methods must be implemented by any concrete subclass. This establishes a clear and consistent interface that all subclasses must adhere to.\n",
    "Enforcing Abstraction:\n",
    "\n",
    "Abstract methods enforce abstraction by separating the method declaration (interface) from its implementation. The abstract class defines \"what\" needs to be done (the method signature), leaving the \"how\" to be implemented by the concrete subclasses. This separation ensures that the internal details of the method are hidden, promoting abstraction.\n",
    "How Abstract Methods Enforce Abstraction:\n",
    "Preventing Direct Instantiation:\n",
    "\n",
    "Abstract classes with abstract methods cannot be instantiated on their own. Attempting to create an instance of a class with abstract methods will result in a TypeError. This enforces the concept that abstract classes are meant to be subclassed and their abstract methods must be implemented by subclasses."
   ]
  },
  {
   "cell_type": "code",
   "execution_count": 256,
   "id": "694577fc-da0f-4c30-885e-a7616764ed25",
   "metadata": {},
   "outputs": [],
   "source": [
    "from abc import ABC, abstractmethod\n",
    "\n",
    "class AbstractClass(ABC):\n",
    "    @abstractmethod\n",
    "    def abstract_method(self):\n",
    "        pass\n",
    "\n",
    "# Attempting to create an instance of AbstractClass will raise a TypeError\n",
    "# obj = AbstractClass()  # TypeError: Can't instantiate abstract class AbstractClass with abstract methods abstract_method\n"
   ]
  },
  {
   "cell_type": "code",
   "execution_count": 257,
   "id": "76892f70-6f89-4445-8883-365712086261",
   "metadata": {},
   "outputs": [],
   "source": [
    "#Forcing Implementation:\n",
    "\n",
    "#Concrete subclasses that inherit from an abstract class must provide concrete implementations for all its abstract methods. If a subclass fails to implement any abstract method, it becomes abstract itself and cannot be instantiated."
   ]
  },
  {
   "cell_type": "code",
   "execution_count": 258,
   "id": "8d5d287a-8f55-4212-8b84-767a4ba9cc6a",
   "metadata": {},
   "outputs": [
    {
     "name": "stdout",
     "output_type": "stream",
     "text": [
      "Concrete implementation of abstract_method\n"
     ]
    }
   ],
   "source": [
    "from abc import ABC, abstractmethod\n",
    "\n",
    "class AbstractClass(ABC):\n",
    "    @abstractmethod\n",
    "    def abstract_method(self):\n",
    "        pass\n",
    "\n",
    "class ConcreteClass(AbstractClass):\n",
    "    def abstract_method(self):\n",
    "        print(\"Concrete implementation of abstract_method\")\n",
    "\n",
    "obj = ConcreteClass()\n",
    "obj.abstract_method()  # Output: Concrete implementation of abstract_method\n"
   ]
  },
  {
   "cell_type": "markdown",
   "id": "bbcb014b-f484-49bf-a699-222b2572e0b2",
   "metadata": {},
   "source": [
    "q.11"
   ]
  },
  {
   "cell_type": "code",
   "execution_count": 259,
   "id": "7fce0e5f-39ce-4409-84e4-95e9ef5ed145",
   "metadata": {},
   "outputs": [],
   "source": [
    "#Certainly! Here's an example of a Python class for a vehicle system demonstrating abstraction by defining common methods start(), stop(), and fuel_up() in an abstract base class:"
   ]
  },
  {
   "cell_type": "code",
   "execution_count": 260,
   "id": "7193ed58-e54e-4932-b949-fcdadedca651",
   "metadata": {},
   "outputs": [
    {
     "name": "stdout",
     "output_type": "stream",
     "text": [
      "Starting the Toyota Corolla car.\n",
      "Stopping the Toyota Corolla car.\n",
      "Fueling up the Toyota Corolla car.\n",
      "Starting the Honda CBR500R motorcycle.\n",
      "Stopping the Honda CBR500R motorcycle.\n",
      "Fueling up the Honda CBR500R motorcycle.\n"
     ]
    }
   ],
   "source": [
    "from abc import ABC, abstractmethod\n",
    "\n",
    "# Abstract base class for vehicles\n",
    "class Vehicle(ABC):\n",
    "    def __init__(self, brand, model):\n",
    "        self.brand = brand\n",
    "        self.model = model\n",
    "\n",
    "    @abstractmethod\n",
    "    def start(self):\n",
    "        pass\n",
    "\n",
    "    @abstractmethod\n",
    "    def stop(self):\n",
    "        pass\n",
    "\n",
    "    @abstractmethod\n",
    "    def fuel_up(self):\n",
    "        pass\n",
    "\n",
    "# Concrete subclass for a car\n",
    "class Car(Vehicle):\n",
    "    def start(self):\n",
    "        return f\"Starting the {self.brand} {self.model} car.\"\n",
    "\n",
    "    def stop(self):\n",
    "        return f\"Stopping the {self.brand} {self.model} car.\"\n",
    "\n",
    "    def fuel_up(self):\n",
    "        return f\"Fueling up the {self.brand} {self.model} car.\"\n",
    "\n",
    "# Concrete subclass for a motorcycle\n",
    "class Motorcycle(Vehicle):\n",
    "    def start(self):\n",
    "        return f\"Starting the {self.brand} {self.model} motorcycle.\"\n",
    "\n",
    "    def stop(self):\n",
    "        return f\"Stopping the {self.brand} {self.model} motorcycle.\"\n",
    "\n",
    "    def fuel_up(self):\n",
    "        return f\"Fueling up the {self.brand} {self.model} motorcycle.\"\n",
    "\n",
    "# Example usage of the vehicle classes\n",
    "car = Car(\"Toyota\", \"Corolla\")\n",
    "motorcycle = Motorcycle(\"Honda\", \"CBR500R\")\n",
    "\n",
    "print(car.start())      # Output: Starting the Toyota Corolla car.\n",
    "print(car.stop())       # Output: Stopping the Toyota Corolla car.\n",
    "print(car.fuel_up())    # Output: Fueling up the Toyota Corolla car.\n",
    "\n",
    "print(motorcycle.start())    # Output: Starting the Honda CBR500R motorcycle.\n",
    "print(motorcycle.stop())     # Output: Stopping the Honda CBR500R motorcycle.\n",
    "print(motorcycle.fuel_up())  # Output: Fueling up the Honda CBR500R motorcycle.\n"
   ]
  },
  {
   "cell_type": "markdown",
   "id": "f218fa5a-d759-49be-ad42-a1ab15b50e34",
   "metadata": {},
   "source": [
    "q.12"
   ]
  },
  {
   "cell_type": "code",
   "execution_count": 1,
   "id": "46bb771b-150f-4f79-b9e4-176df0352a69",
   "metadata": {},
   "outputs": [],
   "source": [
    "#In Python, abstract properties are a way to define abstract methods that must be implemented by any concrete subclass. Abstract methods are methods declared in an abstract class, but they do not contain an implementation. Instead, their implementation is left to the subclasses. Abstract properties are a specific type of abstract method that defines a property without providing an implementation for its getter, setter, or deleter methods.\n",
    "\n",
    "#Abstract properties are created using the @property decorator along with the @abstractmethod decorator from the abc module (abstract base classes). Here's how you can use abstract properties in abstract classes:"
   ]
  },
  {
   "cell_type": "code",
   "execution_count": 2,
   "id": "449b2010-d898-4dbd-bf14-89b5eb53eaa4",
   "metadata": {},
   "outputs": [],
   "source": [
    "from abc import ABC, abstractmethod\n",
    "\n",
    "class Shape(ABC):\n",
    "    @property\n",
    "    @abstractmethod\n",
    "    def area(self):\n",
    "        pass\n",
    "\n",
    "    @property\n",
    "    @abstractmethod\n",
    "    def perimeter(self):\n",
    "        pass\n",
    "\n",
    "class Circle(Shape):\n",
    "    def __init__(self, radius):\n",
    "        self.radius = radius\n",
    "\n",
    "    @property\n",
    "    def area(self):\n",
    "        return 3.14 * self.radius * self.radius\n",
    "\n",
    "    @property\n",
    "    def perimeter(self):\n",
    "        return 2 * 3.14 * self.radius\n",
    "\n",
    "class Square(Shape):\n",
    "    def __init__(self, side_length):\n",
    "        self.side_length = side_length\n",
    "\n",
    "    @property\n",
    "    def area(self):\n",
    "        return self.side_length * self.side_length\n",
    "\n",
    "    @property\n",
    "    def perimeter(self):\n",
    "        return 4 * self.side_length\n"
   ]
  },
  {
   "cell_type": "code",
   "execution_count": 3,
   "id": "308d8152-3700-4af8-ac61-31ace8dfc70c",
   "metadata": {},
   "outputs": [],
   "source": [
    "#When you try to create an instance of a class that doesn't implement all the abstract properties defined in its parent abstract class, Python will raise an error:"
   ]
  },
  {
   "cell_type": "code",
   "execution_count": 5,
   "id": "56763087-eddd-4bbe-808f-e760b3bbfae1",
   "metadata": {},
   "outputs": [],
   "source": [
    "# This will raise a TypeError because Circle and Square do not provide implementations for the abstract properties in Shape.\n",
    "#shape = Shape() # TypeError: Can't instantiate abstract class Shape with abstract methods area, perimeter\n"
   ]
  },
  {
   "cell_type": "markdown",
   "id": "1698b8fe-044c-4279-80e7-2591e7c751e4",
   "metadata": {},
   "source": [
    "q.13"
   ]
  },
  {
   "cell_type": "code",
   "execution_count": 5,
   "id": "02cbd8d0-7637-44ab-8c47-a6c0711f8c55",
   "metadata": {},
   "outputs": [],
   "source": [
    "#Sure, here's an example of a Python class hierarchy for employees in a company, including managers, developers, and designers. The abstraction is achieved by defining a common get_salary() method in the base class Employee. Each specific type of employee (Manager, Developer, Designer) can then override this method to provide their own implementation of calculating salary based on their roles."
   ]
  },
  {
   "cell_type": "code",
   "execution_count": 6,
   "id": "66b3d57e-f408-4750-b2bc-d020679546b5",
   "metadata": {},
   "outputs": [
    {
     "name": "stdout",
     "output_type": "stream",
     "text": [
      "Alice's salary: $80000\n",
      "Bob's salary: $4800\n",
      "Charlie's salary: $60000\n"
     ]
    }
   ],
   "source": [
    "from abc import ABC, abstractmethod\n",
    "\n",
    "class Employee(ABC):\n",
    "    def __init__(self, name, employee_id):\n",
    "        self.name = name\n",
    "        self.employee_id = employee_id\n",
    "\n",
    "    @abstractmethod\n",
    "    def get_salary(self):\n",
    "        pass\n",
    "\n",
    "class Manager(Employee):\n",
    "    def __init__(self, name, employee_id, salary):\n",
    "        super().__init__(name, employee_id)\n",
    "        self.salary = salary\n",
    "\n",
    "    def get_salary(self):\n",
    "        return self.salary\n",
    "\n",
    "class Developer(Employee):\n",
    "    def __init__(self, name, employee_id, hourly_rate, hours_worked):\n",
    "        super().__init__(name, employee_id)\n",
    "        self.hourly_rate = hourly_rate\n",
    "        self.hours_worked = hours_worked\n",
    "\n",
    "    def get_salary(self):\n",
    "        return self.hourly_rate * self.hours_worked\n",
    "\n",
    "class Designer(Employee):\n",
    "    def __init__(self, name, employee_id, project_bonus):\n",
    "        super().__init__(name, employee_id)\n",
    "        self.project_bonus = project_bonus\n",
    "\n",
    "    def get_salary(self):\n",
    "        base_salary = 50000  # Assuming a base salary for designers\n",
    "        return base_salary + self.project_bonus\n",
    "\n",
    "# Example usage\n",
    "manager = Manager(\"Alice\", 1, 80000)\n",
    "developer = Developer(\"Bob\", 2, 30, 160)  # Hourly rate: $30, Hours worked: 160\n",
    "designer = Designer(\"Charlie\", 3, 10000)  # Project bonus: $10,000\n",
    "\n",
    "print(f\"{manager.name}'s salary: ${manager.get_salary()}\")\n",
    "print(f\"{developer.name}'s salary: ${developer.get_salary()}\")\n",
    "print(f\"{designer.name}'s salary: ${designer.get_salary()}\")\n"
   ]
  },
  {
   "cell_type": "markdown",
   "id": "99596e2c-cee9-4fa5-aaac-2e016ab805a1",
   "metadata": {},
   "source": [
    "q.14"
   ]
  },
  {
   "cell_type": "markdown",
   "id": "bfe5b62a-eb29-46ef-a8b5-7cf3af0f1a26",
   "metadata": {},
   "source": [
    "In Python, abstract classes and concrete classes serve different purposes in object-oriented programming. Here are the key differences between them, including their instantiation:\n",
    "\n",
    "Abstract Classes:\n",
    "Definition:\n",
    "\n",
    "Abstract classes are classes that cannot be instantiated on their own. They are meant to be subclassed by other classes.\n",
    "Abstract classes can contain abstract methods (methods without implementation) that must be implemented by any concrete subclass.\n",
    "Purpose:\n",
    "\n",
    "Abstract classes provide a blueprint for other classes. They define a common interface for all the classes that inherit from them.\n",
    "Abstract classes allow you to enforce a specific structure for the subclasses, ensuring that certain methods are implemented.\n",
    "Instantiation:\n",
    "\n",
    "Abstract classes cannot be instantiated directly. Trying to create an instance of an abstract class will result in a TypeError.\n",
    "Abstract classes are meant to be subclassed, and objects are created from their concrete subclasses.\n",
    "Example"
   ]
  },
  {
   "cell_type": "code",
   "execution_count": 7,
   "id": "a34753aa-3636-44e5-9953-07588a8895ff",
   "metadata": {},
   "outputs": [],
   "source": [
    "from abc import ABC, abstractmethod\n",
    "\n",
    "class Shape(ABC):\n",
    "    @abstractmethod\n",
    "    def area(self):\n",
    "        pass\n",
    "\n",
    "# Trying to instantiate an abstract class will result in an error\n",
    "# shape = Shape()  # TypeError: Can't instantiate abstract class Shape with abstract methods area\n"
   ]
  },
  {
   "cell_type": "markdown",
   "id": "a9d4f7d9-f5b5-409b-a581-d5b626df2796",
   "metadata": {},
   "source": [
    "Concrete Classes:\n",
    "Definition:\n",
    "\n",
    "Concrete classes are classes that can be instantiated directly. They provide implementations for all the methods defined in their class hierarchy, including any abstract methods inherited from abstract classes.\n",
    "Purpose:\n",
    "\n",
    "Concrete classes are meant to be instantiated and used to create objects.\n",
    "They provide specific implementations for methods and properties defined in their parent classes, including abstract methods.\n",
    "Instantiation:\n",
    "\n",
    "Concrete classes can be instantiated directly using the class name and parentheses.\n",
    "Objects are created from concrete classes, and they can be used to access methods and properties defined in the class.\n",
    "Example:"
   ]
  },
  {
   "cell_type": "code",
   "execution_count": 8,
   "id": "1bd4acaa-c507-4dd6-b967-93924fbf0309",
   "metadata": {},
   "outputs": [
    {
     "name": "stdout",
     "output_type": "stream",
     "text": [
      "78.5\n"
     ]
    }
   ],
   "source": [
    "class Circle(Shape):\n",
    "    def __init__(self, radius):\n",
    "        self.radius = radius\n",
    "\n",
    "    def area(self):\n",
    "        return 3.14 * self.radius * self.radius\n",
    "\n",
    "# Instantiating a concrete class is allowed\n",
    "circle = Circle(5)\n",
    "print(circle.area())  # Output: 78.5\n"
   ]
  },
  {
   "cell_type": "markdown",
   "id": "6ef51a8c-8120-4740-8165-d32fbf9a4ba5",
   "metadata": {},
   "source": [
    "q.15"
   ]
  },
  {
   "cell_type": "markdown",
   "id": "10fadf4e-0ab5-4da9-90d8-923e3c6293c0",
   "metadata": {},
   "source": [
    "Abstract Data Types (ADTs) are a fundamental concept in computer science that define a logical description of data and the operations that can be performed on that data, without specifying how these operations are implemented. ADTs separate the logical properties of a data structure from its implementation details, allowing programmers to work with data structures at a higher level of abstraction.\n",
    "\n",
    "In Python, ADTs are often implemented using classes. Python's support for object-oriented programming allows the creation of custom classes that represent abstract data types. Here's how ADTs help achieve abstraction in Python:\n",
    "\n",
    "1. Encapsulation:\n",
    "ADTs encapsulate the data and the operations that can be performed on that data within a class. This encapsulation hides the internal representation of the data and exposes only the necessary interface to the users of the class. This way, users can work with the data structure without needing to understand its internal workings.\n",
    "2. Abstraction:\n",
    "ADTs provide abstraction by allowing programmers to use complex data structures without having to worry about their implementation details. For example, a programmer can use a Python list without understanding the underlying array-based implementation. This abstraction simplifies the process of writing programs and enhances code readability and maintainability.\n",
    "3. Data Hiding:\n",
    "ADTs can hide the internal details of data representation, allowing the implementation to be changed without affecting the code that uses the data structure. By using private variables and methods (denoted by a single underscore prefix in Python, e.g., _variable), the internal state of the ADT can be hidden from external access, ensuring data integrity and security.\n",
    "4. Polymorphism:\n",
    "ADTs can define a common interface for different data structures. This allows different implementations of the same ADT to be used interchangeably. For example, a stack ADT can be implemented using a list or a linked list, and both implementations can be used polymorphically based on the common stack interface.\n",
    "5. Inheritance and Composition:\n",
    "ADTs can use inheritance and composition to create more complex data structures from simpler ones. Inheritance allows the creation of specialized ADTs (subtypes) based on existing ones (super types), while composition enables combining multiple ADTs to create more sophisticated data structures.\n",
    "In Python, achieving abstraction through ADTs is essential for writing clean, modular, and maintainable code. By creating well-defined classes that represent abstract data types, Python programmers can work with complex data structures in a way that is both intuitive and manageable, leading to more efficient and organized software development.\n",
    "\n",
    "\n",
    "\n",
    "\n"
   ]
  },
  {
   "cell_type": "markdown",
   "id": "6cc9f13a-c8cb-4827-a80b-e463f3b156b0",
   "metadata": {},
   "source": [
    "q.16"
   ]
  },
  {
   "cell_type": "code",
   "execution_count": 9,
   "id": "4e32e0ac-2574-4106-94ed-d19c8f4fda12",
   "metadata": {},
   "outputs": [],
   "source": [
    "#Certainly! Below is an example of a Python class hierarchy for a computer system. Abstraction is demonstrated by defining common methods like power_on() and shutdown() in an abstract base class called ComputerSystem. Subclasses (Desktop and Laptop) inherit from this base class and provide their own implementations for these methods:"
   ]
  },
  {
   "cell_type": "code",
   "execution_count": 10,
   "id": "ea1c5647-728a-4b41-b868-e4145580e952",
   "metadata": {},
   "outputs": [
    {
     "name": "stdout",
     "output_type": "stream",
     "text": [
      "HP Pavilion desktop is now powered on.\n",
      "Dell Inspiron laptop is now powered on.\n",
      "HP Pavilion desktop is shutting down.\n",
      "Dell Inspiron laptop is shutting down.\n"
     ]
    }
   ],
   "source": [
    "from abc import ABC, abstractmethod\n",
    "\n",
    "class ComputerSystem(ABC):\n",
    "    def __init__(self, brand, model):\n",
    "        self.brand = brand\n",
    "        self.model = model\n",
    "        self.powered_on = False\n",
    "\n",
    "    @abstractmethod\n",
    "    def power_on(self):\n",
    "        pass\n",
    "\n",
    "    @abstractmethod\n",
    "    def shutdown(self):\n",
    "        pass\n",
    "\n",
    "class Desktop(ComputerSystem):\n",
    "    def __init__(self, brand, model):\n",
    "        super().__init__(brand, model)\n",
    "\n",
    "    def power_on(self):\n",
    "        if not self.powered_on:\n",
    "            print(f\"{self.brand} {self.model} desktop is now powered on.\")\n",
    "            self.powered_on = True\n",
    "        else:\n",
    "            print(f\"{self.brand} {self.model} desktop is already powered on.\")\n",
    "\n",
    "    def shutdown(self):\n",
    "        if self.powered_on:\n",
    "            print(f\"{self.brand} {self.model} desktop is shutting down.\")\n",
    "            self.powered_on = False\n",
    "        else:\n",
    "            print(f\"{self.brand} {self.model} desktop is already powered off.\")\n",
    "\n",
    "class Laptop(ComputerSystem):\n",
    "    def __init__(self, brand, model):\n",
    "        super().__init__(brand, model)\n",
    "\n",
    "    def power_on(self):\n",
    "        if not self.powered_on:\n",
    "            print(f\"{self.brand} {self.model} laptop is now powered on.\")\n",
    "            self.powered_on = True\n",
    "        else:\n",
    "            print(f\"{self.brand} {self.model} laptop is already powered on.\")\n",
    "\n",
    "    def shutdown(self):\n",
    "        if self.powered_on:\n",
    "            print(f\"{self.brand} {self.model} laptop is shutting down.\")\n",
    "            self.powered_on = False\n",
    "        else:\n",
    "            print(f\"{self.brand} {self.model} laptop is already powered off.\")\n",
    "\n",
    "# Example usage\n",
    "desktop = Desktop(\"HP\", \"Pavilion\")\n",
    "laptop = Laptop(\"Dell\", \"Inspiron\")\n",
    "\n",
    "desktop.power_on()  # Output: HP Pavilion desktop is now powered on.\n",
    "laptop.power_on()   # Output: Dell Inspiron laptop is now powered on.\n",
    "\n",
    "desktop.shutdown()  # Output: HP Pavilion desktop is shutting down.\n",
    "laptop.shutdown()   # Output: Dell Inspiron laptop is shutting down.\n"
   ]
  },
  {
   "cell_type": "markdown",
   "id": "d44902d5-b419-4d56-9739-6f4f99e1b716",
   "metadata": {},
   "source": [
    "q.17"
   ]
  },
  {
   "cell_type": "markdown",
   "id": "016acafe-99f1-45d3-b073-eb845757e8e7",
   "metadata": {},
   "source": [
    "Abstraction is a fundamental concept in software engineering that allows developers to manage complexity, improve maintainability, and enhance collaboration in large-scale software development projects. Here are some benefits of using abstraction in such projects:\n",
    "\n",
    "1. Simplified Complexity:\n",
    "Focus on High-Level Design: Abstraction allows developers to focus on high-level design and concepts without getting bogged down by implementation details. This simplifies the overall understanding of the system's architecture.\n",
    "Modular Development: Abstraction facilitates modular development. Large systems can be broken down into smaller, manageable modules, each responsible for a specific functionality. These modules can be developed and tested independently, simplifying the development process.\n",
    "2. Enhanced Maintainability:\n",
    "Isolation of Changes: Abstraction allows changes in one part of the system to be isolated from the rest. If the implementation of an abstracted component needs to change, the rest of the system does not need to be aware of those changes, as long as the interface (abstraction) remains the same.\n",
    "Easier Debugging and Troubleshooting: Abstraction provides clear boundaries between components, making it easier to identify issues when they arise. Developers can focus on a specific module without needing to understand the entire system at once.\n",
    "3. Code Reusability:\n",
    "Generic Components: Abstraction allows developers to create generic components and libraries that can be reused across multiple projects. For instance, abstract data types and algorithms can be reused in various applications without modification, saving development time and effort.\n",
    "Frameworks and APIs: Abstraction enables the development of frameworks and APIs (Application Programming Interfaces) that provide standardized interfaces for interacting with complex systems. This consistency simplifies integration and reduces the learning curve for developers.\n",
    "4. Collaboration and Teamwork:\n",
    "Clear Interfaces: Abstraction defines clear interfaces between different components of a system. This clarity enables teams to work on different parts of the system simultaneously, as long as they adhere to the defined interfaces.\n",
    "Collaboration Between Teams: In large projects, different teams might be responsible for different modules. Abstraction ensures that teams can collaborate effectively by providing well-defined communication points between modules.\n",
    "5. Adaptability and Scalability:\n",
    "Easier Modifications: Abstraction allows for easier modifications and upgrades. If an abstracted component needs to be replaced or enhanced, as long as the interface remains consistent, the rest of the system can remain unchanged.\n",
    "Scalable Systems: Abstraction allows developers to design scalable systems. By abstracting away specific implementations, the system can be designed in a way that accommodates growth and expansion without major overhauls.\n",
    "6. Enhanced Testing and Quality Assurance:\n",
    "Isolated Testing: Abstraction allows for isolated testing of components. Unit testing, where individual components are tested in isolation, becomes easier and more effective when components are abstracted and have well-defined interfaces.\n",
    "Improved Quality: By ensuring that each component adheres to its abstraction and performs its designated tasks, the overall quality of the system is enhanced.\n",
    "In summary, abstraction plays a crucial role in large-scale software development projects by managing complexity, enhancing maintainability, promoting code reusability, facilitating collaboration, enabling adaptability, and improving testing and quality assurance processes. It allows development teams to create robust, scalable, and maintainable software systems that can evolve over time while ensuring a high level of quality and reliability.\n",
    "\n",
    "\n",
    "\n",
    "\n"
   ]
  },
  {
   "cell_type": "markdown",
   "id": "7b09e28d-f493-4f5f-b561-c3a308304c1e",
   "metadata": {},
   "source": [
    "q.18"
   ]
  },
  {
   "cell_type": "code",
   "execution_count": 11,
   "id": "f6467bea-e594-4d5c-81b7-6abcda2efa69",
   "metadata": {},
   "outputs": [],
   "source": [
    "#Abstraction enhances code reusability and modularity in Python programs by allowing developers to create well-defined interfaces and separating the implementation details from the higher-level logic. Here's how abstraction achieves these goals in Python:\n",
    "\n",
    "#1. Encapsulation of Implementation Details:\n",
    "#Abstraction allows developers to encapsulate the implementation details within classes and functions. By hiding the internal workings of a class, developers can expose only the necessary methods and properties to the external world. This encapsulation protects the implementation and allows for changes without affecting the code that uses the class. In Python, encapsulation is achieved through private and protected members (variables and methods) using naming conventions (e.g., _variable, __method).\n",
    "#2. Creation of Abstract Classes and Interfaces:\n",
    "#Python supports abstract classes and interfaces using the abc module. Abstract classes can define abstract methods, which are methods without implementations. By defining abstract classes or interfaces, developers can specify a contract that concrete subclasses must adhere to. This ensures consistency in the interface and behavior of related classes, promoting modularity."
   ]
  },
  {
   "cell_type": "code",
   "execution_count": 12,
   "id": "4b3ca64a-e9dd-46cb-820d-33f53b842c95",
   "metadata": {},
   "outputs": [],
   "source": [
    "from abc import ABC, abstractmethod\n",
    "\n",
    "class Shape(ABC):\n",
    "    @abstractmethod\n",
    "    def calculate_area(self):\n",
    "        pass\n"
   ]
  },
  {
   "cell_type": "code",
   "execution_count": 13,
   "id": "9fe7e933-93b2-4932-8ac1-d4555a71208f",
   "metadata": {},
   "outputs": [],
   "source": [
    "#3. Code Reusability through Inheritance:\n",
    "#Abstraction allows developers to create generic base classes (abstract or not) that provide common functionality. Subclasses can inherit from these base classes and override or extend methods as needed. This inheritance mechanism promotes code reuse as subclasses inherit the behavior of the base class and can customize it as necessary."
   ]
  },
  {
   "cell_type": "code",
   "execution_count": 14,
   "id": "fcd4d64b-d913-4ffc-9d62-e2f266c247f6",
   "metadata": {},
   "outputs": [],
   "source": [
    "class Animal:\n",
    "    def speak(self):\n",
    "        pass\n",
    "\n",
    "class Dog(Animal):\n",
    "    def speak(self):\n",
    "        return \"Woof!\"\n"
   ]
  },
  {
   "cell_type": "code",
   "execution_count": 15,
   "id": "15b6f49d-02e6-4303-9f75-66bef9d6f251",
   "metadata": {},
   "outputs": [],
   "source": [
    "#4. Modularity through Composition:\n",
    "#Abstraction supports modularity through composition, where classes can contain instances of other classes. By using composition, developers can create modular components that perform specific tasks. These components can then be combined to create more complex objects. This approach promotes modularity and allows developers to reuse existing components in new contexts."
   ]
  },
  {
   "cell_type": "code",
   "execution_count": 16,
   "id": "490a408c-c4d8-4505-9659-d830551bfd16",
   "metadata": {},
   "outputs": [],
   "source": [
    "class Engine:\n",
    "    def start(self):\n",
    "        pass\n",
    "\n",
    "class Car:\n",
    "    def __init__(self, engine):\n",
    "        self.engine = engine\n",
    "\n",
    "    def start(self):\n",
    "        self.engine.start()\n"
   ]
  },
  {
   "cell_type": "code",
   "execution_count": 17,
   "id": "fe7f2828-6926-4a79-8bd9-e4e68e9b4e85",
   "metadata": {},
   "outputs": [],
   "source": [
    "#5. Polymorphism and Duck Typing:\n",
    "#Python's dynamic typing and support for polymorphism enable developers to create abstract, generic functions that work with a wide range of objects. This flexibility, often referred to as \"duck typing,\" allows functions to accept objects based on their behavior (methods they implement) rather than their explicit type. This promotes modularity and code reusability by allowing different objects to be used interchangeably if they adhere to a common interface."
   ]
  },
  {
   "cell_type": "code",
   "execution_count": 18,
   "id": "2c3bc434-cc79-4f6b-b7f4-92ddd5fb5ed3",
   "metadata": {},
   "outputs": [
    {
     "name": "stdout",
     "output_type": "stream",
     "text": [
      "None\n",
      "None\n"
     ]
    }
   ],
   "source": [
    "def area_calculator(shape):\n",
    "    return shape.calculate_area()\n",
    "\n",
    "class Circle:\n",
    "    def calculate_area(self):\n",
    "        # Calculate circle area\n",
    "        pass\n",
    "\n",
    "class Square:\n",
    "    def calculate_area(self):\n",
    "        # Calculate square area\n",
    "        pass\n",
    "\n",
    "circle = Circle()\n",
    "square = Square()\n",
    "\n",
    "print(area_calculator(circle))\n",
    "print(area_calculator(square))\n"
   ]
  },
  {
   "cell_type": "markdown",
   "id": "d11a0ad0-ed46-4cbb-8c8b-4bd97d3ccec3",
   "metadata": {},
   "source": [
    "q.19"
   ]
  },
  {
   "cell_type": "code",
   "execution_count": 19,
   "id": "153136cc-c70f-472d-86bc-67b9b2e751f3",
   "metadata": {},
   "outputs": [],
   "source": [
    "#Certainly! Below is an example of a Python class hierarchy for a library system. Abstraction is demonstrated by defining common methods like add_book() and borrow_book() in an abstract base class called LibrarySystem. Subclasses (PublicLibrary and UniversityLibrary) inherit from this base class and provide their own implementations for these methods:"
   ]
  },
  {
   "cell_type": "code",
   "execution_count": 20,
   "id": "0e76ad45-6bc3-4a76-9ea3-c285216839c6",
   "metadata": {},
   "outputs": [
    {
     "name": "stdout",
     "output_type": "stream",
     "text": [
      "Book 'Introduction to Python' by John Smith added to the public library.\n",
      "Book with ID 1 has been borrowed from the public library.\n",
      "Book with ID 2 does not exist in the public library.\n",
      "Book 'Advanced Algorithms' by Alice Johnson added to the university library.\n",
      "Book with ID 1 has been borrowed from the university library.\n",
      "Book with ID 1 is currently unavailable.\n"
     ]
    }
   ],
   "source": [
    "from abc import ABC, abstractmethod\n",
    "\n",
    "class LibrarySystem(ABC):\n",
    "    def __init__(self):\n",
    "        self.books = {}  # Dictionary to store books: {book_id: availability}\n",
    "\n",
    "    @abstractmethod\n",
    "    def add_book(self, book_id, title, author):\n",
    "        pass\n",
    "\n",
    "    @abstractmethod\n",
    "    def borrow_book(self, book_id):\n",
    "        pass\n",
    "\n",
    "class PublicLibrary(LibrarySystem):\n",
    "    def __init__(self):\n",
    "        super().__init__()\n",
    "\n",
    "    def add_book(self, book_id, title, author):\n",
    "        if book_id not in self.books:\n",
    "            self.books[book_id] = True  # True indicates the book is available\n",
    "            print(f\"Book '{title}' by {author} added to the public library.\")\n",
    "        else:\n",
    "            print(f\"Book with ID {book_id} already exists in the public library.\")\n",
    "\n",
    "    def borrow_book(self, book_id):\n",
    "        if book_id in self.books and self.books[book_id]:\n",
    "            self.books[book_id] = False\n",
    "            print(f\"Book with ID {book_id} has been borrowed from the public library.\")\n",
    "        elif book_id in self.books and not self.books[book_id]:\n",
    "            print(f\"Book with ID {book_id} is currently unavailable.\")\n",
    "        else:\n",
    "            print(f\"Book with ID {book_id} does not exist in the public library.\")\n",
    "\n",
    "class UniversityLibrary(LibrarySystem):\n",
    "    def __init__(self):\n",
    "        super().__init__()\n",
    "\n",
    "    def add_book(self, book_id, title, author):\n",
    "        if book_id not in self.books:\n",
    "            self.books[book_id] = True\n",
    "            print(f\"Book '{title}' by {author} added to the university library.\")\n",
    "        else:\n",
    "            print(f\"Book with ID {book_id} already exists in the university library.\")\n",
    "\n",
    "    def borrow_book(self, book_id):\n",
    "        if book_id in self.books and self.books[book_id]:\n",
    "            self.books[book_id] = False\n",
    "            print(f\"Book with ID {book_id} has been borrowed from the university library.\")\n",
    "        elif book_id in self.books and not self.books[book_id]:\n",
    "            print(f\"Book with ID {book_id} is currently unavailable.\")\n",
    "        else:\n",
    "            print(f\"Book with ID {book_id} does not exist in the university library.\")\n",
    "\n",
    "# Example usage\n",
    "public_library = PublicLibrary()\n",
    "public_library.add_book(1, \"Introduction to Python\", \"John Smith\")\n",
    "public_library.borrow_book(1)  # Output: Book with ID 1 has been borrowed from the public library.\n",
    "public_library.borrow_book(2)  # Output: Book with ID 2 does not exist in the public library.\n",
    "\n",
    "university_library = UniversityLibrary()\n",
    "university_library.add_book(1, \"Advanced Algorithms\", \"Alice Johnson\")\n",
    "university_library.borrow_book(1)  # Output: Book with ID 1 has been borrowed from the university library.\n",
    "university_library.borrow_book(1)  # Output: Book with ID 1 is currently unavailable.\n"
   ]
  },
  {
   "cell_type": "markdown",
   "id": "71fff8ed-109f-4d6a-8dee-3b92300f854b",
   "metadata": {},
   "source": [
    "q.20"
   ]
  },
  {
   "cell_type": "markdown",
   "id": "68cc3a5f-31a4-4e96-8fcc-ba414545e11c",
   "metadata": {},
   "source": [
    "Method abstraction in Python refers to the practice of defining methods in a class without specifying their implementation details. Instead of providing a concrete implementation for a method, you declare the method in the class interface and leave it to the subclasses to provide their own implementations. This technique is particularly useful when you want to define a common interface for a group of related classes but allow each class to implement the methods in its own way.\n",
    "\n",
    "In Python, method abstraction is achieved using abstract methods. Abstract methods are methods declared in an abstract base class (or interface) using the @abstractmethod decorator. These methods do not have an implementation in the abstract class; instead, they are meant to be implemented by concrete subclasses. Abstract methods enforce a contract, ensuring that all subclasses provide their own implementation for the abstract methods defined in the base class.\n",
    "\n",
    "Here's how method abstraction works in Python and how it relates to polymorphism:\n",
    "\n",
    "1. Method Abstraction:"
   ]
  },
  {
   "cell_type": "code",
   "execution_count": 21,
   "id": "b911fd14-de12-4e18-bee9-e54c0edfae38",
   "metadata": {},
   "outputs": [],
   "source": [
    "from abc import ABC, abstractmethod\n",
    "\n",
    "class Shape(ABC):\n",
    "    @abstractmethod\n",
    "    def calculate_area(self):\n",
    "        pass\n",
    "\n",
    "class Circle(Shape):\n",
    "    def __init__(self, radius):\n",
    "        self.radius = radius\n",
    "\n",
    "    def calculate_area(self):\n",
    "        return 3.14 * self.radius * self.radius\n",
    "\n",
    "class Square(Shape):\n",
    "    def __init__(self, side_length):\n",
    "        self.side_length = side_length\n",
    "\n",
    "    def calculate_area(self):\n",
    "        return self.side_length * self.side_length\n"
   ]
  },
  {
   "cell_type": "code",
   "execution_count": 22,
   "id": "2c3b398e-ca8e-4dc9-812f-2a95bcd4c5d0",
   "metadata": {},
   "outputs": [],
   "source": [
    "#2. Polymorphism:\n",
    "#Polymorphism is the ability of different classes to be treated as instances of the same class through a common interface. In the example above, because both Circle and Square implement the calculate_area() method, you can treat instances of these classes polymorphically. For example:"
   ]
  },
  {
   "cell_type": "code",
   "execution_count": 23,
   "id": "ae793ad8-78d4-42f3-8b0b-0c2b187839b3",
   "metadata": {},
   "outputs": [
    {
     "name": "stdout",
     "output_type": "stream",
     "text": [
      "Area: 78.5\n",
      "Area: 16\n"
     ]
    }
   ],
   "source": [
    "shapes = [Circle(5), Square(4)]\n",
    "\n",
    "for shape in shapes:\n",
    "    print(f\"Area: {shape.calculate_area()}\")\n"
   ]
  },
  {
   "cell_type": "code",
   "execution_count": 24,
   "id": "4b59c8ec-dc70-4760-95f1-afae7c884db9",
   "metadata": {},
   "outputs": [],
   "source": [
    "#Composition:"
   ]
  },
  {
   "cell_type": "markdown",
   "id": "a395a098-0ab4-43ca-9aa2-b872ecb1e952",
   "metadata": {},
   "source": [
    "q.1"
   ]
  },
  {
   "cell_type": "markdown",
   "id": "654fd033-7238-434a-956a-d46919da95a9",
   "metadata": {},
   "source": [
    "Composition is a fundamental concept in object-oriented programming where complex objects are created by combining simpler objects. Instead of inheriting properties and behaviors from a single class, a class can contain instances of other classes, allowing it to leverage their functionalities. This promotes code reuse, modularity, and flexibility in design.\n",
    "\n",
    "In Python, composition is achieved by creating objects of one class within another class and using those objects to provide functionality. It allows you to create complex structures by combining simpler, self-contained components.\n",
    "\n",
    "Here's how composition works in Python:\n",
    "\n",
    "1. Creating Classes for Simple Objects:\n",
    "First, you define classes for the simpler objects that you want to compose. For example, let's consider a Engine class and a Wheel class:"
   ]
  },
  {
   "cell_type": "code",
   "execution_count": 25,
   "id": "dcfe622e-ad3f-4112-a36d-7bffe4b08479",
   "metadata": {},
   "outputs": [],
   "source": [
    "class Engine:\n",
    "    def start(self):\n",
    "        print(\"Engine started.\")\n",
    "\n",
    "    def stop(self):\n",
    "        print(\"Engine stopped.\")\n",
    "\n",
    "class Wheel:\n",
    "    def rotate(self):\n",
    "        print(\"Wheel rotating.\")\n"
   ]
  },
  {
   "cell_type": "code",
   "execution_count": 26,
   "id": "61aab44e-6fe2-4feb-a106-6bccc8cafb1a",
   "metadata": {},
   "outputs": [],
   "source": [
    "#2. Using Composition:\n",
    "#Next, you create another class, say Car, which uses instances of Engine and Wheel classes as attributes. This is the composition part. The Car class does not inherit from Engine or Wheel; instead, it contains objects of these classes"
   ]
  },
  {
   "cell_type": "code",
   "execution_count": 27,
   "id": "df42234c-b315-446a-bb6d-9411cc50333e",
   "metadata": {},
   "outputs": [],
   "source": [
    "class Car:\n",
    "    def __init__(self):\n",
    "        self.engine = Engine()  # Composition: Car has an Engine\n",
    "        self.wheels = [Wheel() for _ in range(4)]  # Composition: Car has four Wheels\n",
    "\n",
    "    def start(self):\n",
    "        self.engine.start()\n",
    "        print(\"Car moving.\")\n",
    "\n",
    "    def stop(self):\n",
    "        self.engine.stop()\n",
    "        print(\"Car stopped.\")\n"
   ]
  },
  {
   "cell_type": "code",
   "execution_count": 28,
   "id": "ddef8a6f-4616-4479-bab7-fb66dc62cd9b",
   "metadata": {},
   "outputs": [],
   "source": [
    "#3. Creating Complex Objects:\n",
    "#Now you can create complex objects by instantiating the Car class:"
   ]
  },
  {
   "cell_type": "code",
   "execution_count": 29,
   "id": "35046b0f-51e8-4b20-af74-80fb1bcf1c24",
   "metadata": {},
   "outputs": [
    {
     "name": "stdout",
     "output_type": "stream",
     "text": [
      "Engine started.\n",
      "Car moving.\n",
      "Engine stopped.\n",
      "Car stopped.\n"
     ]
    }
   ],
   "source": [
    "my_car = Car()\n",
    "my_car.start()\n",
    "my_car.stop()\n"
   ]
  },
  {
   "cell_type": "markdown",
   "id": "ef9b0f9a-fc4b-40e7-a8cc-42a79d987615",
   "metadata": {},
   "source": [
    "Benefits of Composition in Python:\n",
    "Code Reusability: You can reuse existing classes without modifying them. For example, you can use the Engine and Wheel classes in multiple compositions without changes.\n",
    "\n",
    "Modularity: Each class represents a specific component, making the code modular and easier to understand, maintain, and extend.\n",
    "\n",
    "Flexibility: You can easily swap components. For instance, you can replace the Engine class with a more efficient one without changing the Car class.\n",
    "\n",
    "Encapsulation: Each class encapsulates its behavior, and changes in one class do not affect other classes as long as the interface (methods and properties) remains the same.\n",
    "\n",
    "By utilizing composition, you can build complex, flexible, and maintainable systems in Python, encouraging a modular and reusable design pattern."
   ]
  },
  {
   "cell_type": "markdown",
   "id": "e7731940-8dce-4083-9b96-d03eb839b0c5",
   "metadata": {},
   "source": [
    "q.2"
   ]
  },
  {
   "cell_type": "markdown",
   "id": "baf84ace-df6b-47f5-9d8f-1acb36dadbd2",
   "metadata": {},
   "source": [
    "In object-oriented programming, both composition and inheritance are mechanisms for building relationships between classes and creating more complex objects. However, they serve different purposes and have different implications. Here are the key differences between composition and inheritance:\n",
    "\n",
    "Composition:\n",
    "Definition:\n",
    "\n",
    "Composition is a design principle where complex objects are created by combining simpler objects. Instead of inheriting properties and behaviors, a class contains instances of other classes, allowing it to use their functionalities. Composition emphasizes building objects through relationships, not through inheritance hierarchies.\n",
    "Flexibility:\n",
    "\n",
    "Composition promotes greater flexibility. Objects can be replaced or modified without affecting the entire system. You can easily change the behavior of a class by changing the objects it contains, providing a high degree of flexibility in the design.\n",
    "Code Reusability:\n",
    "\n",
    "Composition enhances code reusability by allowing the reuse of existing classes as components. It encourages the creation of modular, self-contained classes that can be used in various contexts.\n",
    "Encapsulation:\n",
    "\n",
    "Composition promotes encapsulation because each class is responsible for its own functionality. Changes in one class don't affect other classes as long as the interface remains consistent. Each class maintains its own state and behavior.\n",
    "Example:\n",
    "\n",
    "Using composition, a Car class can contain objects of Engine, Wheel, and Transmission classes. The Car class does not inherit from these classes but uses instances of them to provide its functionality.\n",
    "Inheritance:\n",
    "Definition:\n",
    "\n",
    "Inheritance is a mechanism where a new class (subclass/derived class) is created by inheriting properties and behaviors from an existing class (superclass/base class). Inheritance establishes an \"is-a\" relationship, indicating that a subclass is a specialized version of the superclass.\n",
    "Hierarchy:\n",
    "\n",
    "Inheritance creates a hierarchy of classes, where subclasses inherit attributes and methods from their parent classes. This hierarchy represents an \"is-a\" relationship, signifying that a subclass shares common characteristics with its superclass.\n",
    "Code Reusability:\n",
    "\n",
    "Inheritance promotes code reusability by allowing subclasses to reuse the properties and methods of their parent classes. Common functionality can be centralized in a base class, and subclasses can extend or override these behaviors as needed.\n",
    "Tight Coupling:\n",
    "\n",
    "Inheritance can create tight coupling between classes. Changes in the superclass may affect all its subclasses, potentially leading to a cascading series of changes in the entire inheritance hierarchy.\n",
    "Example:\n",
    "\n",
    "Using inheritance, a Square class can inherit from a Shape class, inheriting properties like color and methods like calculate_area(). The Square class can then provide its own implementation of the calculate_area() method.\n",
    "Choosing Between Composition and Inheritance:\n",
    "Prefer Composition Over Inheritance:\n",
    "The general guideline in modern object-oriented design is to prefer composition over inheritance. Composition provides more flexibility and reduces the coupling between classes, leading to a more maintainable and adaptable codebase.\n",
    "Use Inheritance for \"Is-A\" Relationships:\n",
    "Inheritance is appropriate when there is a clear \"is-a\" relationship between classes, indicating that a subclass is a specialized version of a superclass. However, even in such cases, you should be cautious about the potential pitfalls of tight coupling and consider using interfaces or abstract classes to reduce dependency.\n",
    "In summary, composition and inheritance are two distinct mechanisms used in object-oriented programming, each with its own advantages and use cases. Composition provides flexibility and modularity, while inheritance establishes hierarchical relationships and supports code reuse. The choice between composition and inheritance depends on the specific requirements of the design and the relationships between classes.\n",
    "\n",
    "\n",
    "\n",
    "\n"
   ]
  },
  {
   "cell_type": "markdown",
   "id": "123e16c8-214b-44ac-a8c8-9389a308e5c2",
   "metadata": {},
   "source": [
    "q.3"
   ]
  },
  {
   "cell_type": "code",
   "execution_count": 31,
   "id": "4cc73f2a-7e82-4b3d-b673-c61504b167b1",
   "metadata": {},
   "outputs": [],
   "source": [
    "#Certainly! Here's an example of how you can create a Author class and a Book class in Python, demonstrating composition:"
   ]
  },
  {
   "cell_type": "code",
   "execution_count": 32,
   "id": "4764de14-f69b-4169-a462-7765bac478ff",
   "metadata": {},
   "outputs": [
    {
     "name": "stdout",
     "output_type": "stream",
     "text": [
      "Title: Sample Book\n",
      "Author: Jane Doe\n",
      "Birthdate: January 1, 1980\n",
      "Publish Year: 2022\n"
     ]
    }
   ],
   "source": [
    "class Author:\n",
    "    def __init__(self, name, birthdate):\n",
    "        self.name = name\n",
    "        self.birthdate = birthdate\n",
    "\n",
    "class Book:\n",
    "    def __init__(self, title, author, publish_year):\n",
    "        self.title = title\n",
    "        self.author = author  # Composition: Book has an Author\n",
    "        self.publish_year = publish_year\n",
    "\n",
    "    def display_info(self):\n",
    "        print(f\"Title: {self.title}\")\n",
    "        print(f\"Author: {self.author.name}\")\n",
    "        print(f\"Birthdate: {self.author.birthdate}\")\n",
    "        print(f\"Publish Year: {self.publish_year}\")\n",
    "\n",
    "# Creating an Author object\n",
    "author = Author(\"Jane Doe\", \"January 1, 1980\")\n",
    "\n",
    "# Creating a Book object with the Author object as a composition\n",
    "book = Book(\"Sample Book\", author, 2022)\n",
    "\n",
    "# Displaying book information\n",
    "book.display_info()\n"
   ]
  },
  {
   "cell_type": "code",
   "execution_count": 33,
   "id": "f5ff638d-6c41-442f-83c7-6790a089f111",
   "metadata": {},
   "outputs": [],
   "source": [
    "#When you run this code, it will output:"
   ]
  },
  {
   "cell_type": "markdown",
   "id": "177c30e8-80c2-4604-b866-aa1859da2a3b",
   "metadata": {},
   "source": [
    "q.4"
   ]
  },
  {
   "cell_type": "markdown",
   "id": "732be4c9-edd1-47de-a43f-bd0e639c8127",
   "metadata": {},
   "source": [
    "Using composition over inheritance in Python, especially in terms of code flexibility and reusability, offers several significant benefits:\n",
    "\n",
    "1. Flexibility:\n",
    "Reduced Coupling: Composition allows objects to interact with each other without strong dependencies. Changes in one class do not directly affect other classes, promoting a loosely coupled design. In contrast, with inheritance, changes in the superclass can potentially affect all subclasses, leading to tightly coupled code.\n",
    "Easier Modifications: Objects can be replaced or modified independently. For instance, you can change components within a composite object without altering the entire structure. This flexibility is essential for adapting to changing requirements.\n",
    "2. Modularity:\n",
    "Modular Components: Composition promotes the creation of modular and self-contained components. Each class represents a specific functionality, making it easier to understand, maintain, and extend the codebase. Classes can be developed and tested independently, fostering a more manageable development process.\n",
    "3. Code Reusability:\n",
    "Reusable Components: Objects created through composition are inherently reusable. You can use the same components in various contexts, encouraging the development of libraries and frameworks with reusable modules. This reusability reduces redundancy and promotes efficient code sharing.\n",
    "Mix-and-Match: Objects can be combined and reused in different combinations, allowing for versatile and diverse functionality. This mix-and-match approach enables the creation of complex systems from smaller, reusable components.\n",
    "4. Flexibility in Behavior:\n",
    "Dynamic Behavior: Composition allows objects to change behavior dynamically at runtime. Components can be swapped or modified during the program's execution, enabling dynamic and adaptable systems. This dynamic behavior is challenging to achieve with static inheritance hierarchies.\n",
    "5. Avoiding the Diamond Problem:\n",
    "Multiple Inheritance Complexity: Python supports multiple inheritance, which can lead to the \"diamond problem\" (ambiguity arising when a class inherits from two classes that have a common ancestor). Composition avoids this complexity by focusing on building relationships without the intricacies associated with multiple inheritance.\n",
    "6. Encapsulation:\n",
    "Clear Boundaries: Composition encourages clear boundaries between classes. Each class encapsulates its functionality, making it easier to comprehend and debug. Encapsulation ensures that changes in one class do not inadvertently affect other parts of the system.\n",
    "7. Testing and Debugging:\n",
    "Isolated Testing: Classes created through composition can be tested in isolation, enhancing the effectiveness of unit testing. Isolated testing simplifies debugging and helps identify issues within specific components, leading to more robust and reliable software.\n",
    "8. Evolution and Maintenance:\n",
    "Easier Maintenance: Composition leads to code that is easier to maintain and extend. Changes in one component do not ripple through the entire system, reducing the risk of unintended side effects. This ease of maintenance is crucial for long-term software projects.\n",
    "In summary, composition offers a flexible, modular, and reusable approach to building software systems in Python. By focusing on creating relationships between objects without relying on rigid inheritance hierarchies, developers can achieve code that is adaptable, maintainable, and scalable, making composition a powerful design principle in modern software engineering.\n",
    "\n",
    "\n",
    "\n",
    "\n"
   ]
  },
  {
   "cell_type": "markdown",
   "id": "70a5d9d9-f17f-4d31-9606-5c072faa9eab",
   "metadata": {},
   "source": [
    "q.5"
   ]
  },
  {
   "cell_type": "code",
   "execution_count": 35,
   "id": "c8c2a9ca-a79b-473b-8ffb-fefe29fadadc",
   "metadata": {},
   "outputs": [],
   "source": [
    "#Implementing composition in Python classes involves creating instances of other classes within a class to build complex objects. Here's how you can implement composition in Python, along with examples of using composition to create complex objects:\n",
    "\n",
    "#1. Creating Classes for Simple Objects:\n",
    "#First, define classes for the simpler objects that you want to compose. For instance, consider a Monitor class and a CPU class:"
   ]
  },
  {
   "cell_type": "code",
   "execution_count": 36,
   "id": "cf995f53-183a-4df8-909c-9636a28190bb",
   "metadata": {},
   "outputs": [],
   "source": [
    "class Monitor:\n",
    "    def __init__(self, size):\n",
    "        self.size = size\n",
    "\n",
    "    def display(self):\n",
    "        print(f\"Display size: {self.size} inches\")\n",
    "\n",
    "class CPU:\n",
    "    def __init__(self, speed):\n",
    "        self.speed = speed\n",
    "\n",
    "    def process(self):\n",
    "        print(f\"Processing at {self.speed} GHz\")\n"
   ]
  },
  {
   "cell_type": "code",
   "execution_count": 37,
   "id": "d24b65c3-9a08-4ba0-8044-b6aacd012e1d",
   "metadata": {},
   "outputs": [],
   "source": [
    "#2. Using Composition:\n",
    "#Next, create another class, say Computer, which contains instances of Monitor and CPU classes. This is where composition occurs. The Computer class does not inherit from Monitor or CPU; instead, it contains objects of these classes:"
   ]
  },
  {
   "cell_type": "code",
   "execution_count": 38,
   "id": "b435dd95-6e73-4c32-8cf5-d4252df71489",
   "metadata": {},
   "outputs": [],
   "source": [
    "class Computer:\n",
    "    def __init__(self, monitor, cpu):\n",
    "        self.monitor = monitor  # Composition: Computer has a Monitor\n",
    "        self.cpu = cpu  # Composition: Computer has a CPU\n",
    "\n",
    "    def display_info(self):\n",
    "        self.monitor.display()\n",
    "        self.cpu.process()\n"
   ]
  },
  {
   "cell_type": "code",
   "execution_count": 39,
   "id": "25044058-de11-49e7-8bf2-bcdf86ea0b3e",
   "metadata": {},
   "outputs": [],
   "source": [
    "#3. Creating Complex Objects:\n",
    "#Now you can create complex objects by instantiating the composed class (Computer in this case):"
   ]
  },
  {
   "cell_type": "code",
   "execution_count": 40,
   "id": "f63dee9f-3ca0-4af8-a365-36266b617632",
   "metadata": {},
   "outputs": [
    {
     "name": "stdout",
     "output_type": "stream",
     "text": [
      "Display size: 27 inches\n",
      "Processing at 3.4 GHz\n"
     ]
    }
   ],
   "source": [
    "# Creating Monitor and CPU objects\n",
    "monitor = Monitor(27)  # 27 inches monitor\n",
    "cpu = CPU(3.4)  # 3.4 GHz CPU speed\n",
    "\n",
    "# Creating a Computer object with Monitor and CPU as compositions\n",
    "my_computer = Computer(monitor, cpu)\n",
    "\n",
    "# Displaying computer information\n",
    "my_computer.display_info()\n"
   ]
  },
  {
   "cell_type": "markdown",
   "id": "d84a6cca-d2f3-45b8-ad3d-45690ab52123",
   "metadata": {},
   "source": [
    "q.6"
   ]
  },
  {
   "cell_type": "code",
   "execution_count": 42,
   "id": "8ed2d6a9-4ffd-4351-9a0c-4f61cee4d4a6",
   "metadata": {},
   "outputs": [],
   "source": [
    "#Certainly! Here's an example of a Python class hierarchy for a music player system, utilizing composition to represent playlists and songs:"
   ]
  },
  {
   "cell_type": "code",
   "execution_count": 43,
   "id": "f4037b86-dfdb-4e21-b994-d643afd6c794",
   "metadata": {},
   "outputs": [
    {
     "name": "stdout",
     "output_type": "stream",
     "text": [
      "Playlist: My Playlist\n",
      "Playing: Song 1 by Artist 1 [3.5 minutes]\n",
      "Playing: Song 2 by Artist 2 [4.2 minutes]\n",
      "Playlist: Party Mix\n",
      "Playing: Song 2 by Artist 2 [4.2 minutes]\n",
      "Playing: Song 3 by Artist 3 [2.8 minutes]\n"
     ]
    }
   ],
   "source": [
    "class Song:\n",
    "    def __init__(self, title, artist, duration):\n",
    "        self.title = title\n",
    "        self.artist = artist\n",
    "        self.duration = duration\n",
    "\n",
    "    def play(self):\n",
    "        print(f\"Playing: {self.title} by {self.artist} [{self.duration} minutes]\")\n",
    "\n",
    "class Playlist:\n",
    "    def __init__(self, name):\n",
    "        self.name = name\n",
    "        self.songs = []  # List to store Song objects\n",
    "\n",
    "    def add_song(self, song):\n",
    "        self.songs.append(song)\n",
    "\n",
    "    def play_all(self):\n",
    "        print(f\"Playlist: {self.name}\")\n",
    "        for song in self.songs:\n",
    "            song.play()\n",
    "\n",
    "# Example usage:\n",
    "\n",
    "# Creating songs\n",
    "song1 = Song(\"Song 1\", \"Artist 1\", 3.5)\n",
    "song2 = Song(\"Song 2\", \"Artist 2\", 4.2)\n",
    "song3 = Song(\"Song 3\", \"Artist 3\", 2.8)\n",
    "\n",
    "# Creating a playlist and adding songs to it\n",
    "playlist1 = Playlist(\"My Playlist\")\n",
    "playlist1.add_song(song1)\n",
    "playlist1.add_song(song2)\n",
    "\n",
    "playlist2 = Playlist(\"Party Mix\")\n",
    "playlist2.add_song(song2)\n",
    "playlist2.add_song(song3)\n",
    "\n",
    "# Playing songs from playlists\n",
    "playlist1.play_all()\n",
    "playlist2.play_all()\n"
   ]
  },
  {
   "cell_type": "markdown",
   "id": "d89174f9-bda3-4ed6-9ab8-0559eb25d7e8",
   "metadata": {},
   "source": [
    "q.7"
   ]
  },
  {
   "cell_type": "markdown",
   "id": "5c62d090-a410-4ab7-b80a-e5f9bb95b5df",
   "metadata": {},
   "source": [
    "The concept of \"has-a\" relationships in composition refers to the relationship between classes where one class contains an instance of another class as one of its members. In other words, one class \"has\" another class as a component or a part. This type of relationship allows complex objects to be built by combining simpler objects, promoting modularity, flexibility, and code reuse.\n",
    "\n",
    "Key Points about \"Has-A\" Relationships and Composition:\n",
    "Modularity:\n",
    "\n",
    "\"Has-a\" relationships promote modularity by allowing you to break down complex systems into smaller, manageable components. Each class represents a specific functionality or component of the system, making it easier to understand, develop, and maintain.\n",
    "Flexibility:\n",
    "\n",
    "Composing objects through \"has-a\" relationships provides flexibility. Components can be added, replaced, or modified independently without affecting the entire system. This adaptability is essential for accommodating changing requirements or integrating new features.\n",
    "Code Reusability:\n",
    "\n",
    "Composition encourages code reusability by allowing the reuse of existing classes as components. These reusable components can be used in various contexts and combined to create different functionalities, reducing redundancy and promoting efficient code sharing.\n",
    "Encapsulation:\n",
    "\n",
    "\"Has-a\" relationships help in encapsulating the behavior and data of a component within its class. The internal details of each class are hidden, allowing changes within one class without affecting other classes as long as the interface (methods and properties) remains consistent.\n",
    "Clear Design:\n",
    "\n",
    "\"Has-a\" relationships lead to a clear and intuitive design. When classes are designed based on the real-world \"has-a\" relationships, the resulting code mirrors the natural structure of the problem domain, making it easier to understand and reason about.\n",
    "Promoting Code Maintenance:\n",
    "\n",
    "When classes are composed of smaller, self-contained components, maintenance becomes more straightforward. Changes and bug fixes can often be localized to specific components, minimizing the risk of unintended side effects in other parts of the system.\n",
    "Example of \"Has-A\" Relationship:\n",
    "Consider a Car class that \"has\" an Engine and \"has\" Wheels. In this relationship, the Car class is composed of an Engine object and a list of Wheel objects:"
   ]
  },
  {
   "cell_type": "code",
   "execution_count": 44,
   "id": "b4399b6c-a6d2-483c-a8d4-59c9691c7dca",
   "metadata": {},
   "outputs": [
    {
     "name": "stdout",
     "output_type": "stream",
     "text": [
      "Engine started.\n",
      "Wheel rotating.\n",
      "Wheel rotating.\n",
      "Wheel rotating.\n",
      "Wheel rotating.\n"
     ]
    }
   ],
   "source": [
    "class Engine:\n",
    "    def start(self):\n",
    "        print(\"Engine started.\")\n",
    "\n",
    "class Wheel:\n",
    "    def rotate(self):\n",
    "        print(\"Wheel rotating.\")\n",
    "\n",
    "class Car:\n",
    "    def __init__(self):\n",
    "        self.engine = Engine()  # Composition: Car has an Engine\n",
    "        self.wheels = [Wheel() for _ in range(4)]  # Composition: Car has four Wheels\n",
    "\n",
    "    def drive(self):\n",
    "        self.engine.start()\n",
    "        for wheel in self.wheels:\n",
    "            wheel.rotate()\n",
    "\n",
    "# Example usage\n",
    "my_car = Car()\n",
    "my_car.drive()\n"
   ]
  },
  {
   "cell_type": "markdown",
   "id": "c0996232-81be-413b-ad8e-ead8099a9194",
   "metadata": {},
   "source": [
    "q.8"
   ]
  },
  {
   "cell_type": "code",
   "execution_count": 45,
   "id": "ba580734-4d10-4136-a0d9-93bca0be9918",
   "metadata": {},
   "outputs": [],
   "source": [
    "\n",
    "#Certainly! Here's an example of a Python class for a computer system, utilizing composition to represent components like CPU, RAM, and storage devices"
   ]
  },
  {
   "cell_type": "code",
   "execution_count": 46,
   "id": "0ee98a83-c88d-495a-b28f-5a7157caa705",
   "metadata": {},
   "outputs": [
    {
     "name": "stdout",
     "output_type": "stream",
     "text": [
      "Computer System Information:\n",
      "Intel CPU running at 3.5 GHz\n",
      "RAM Capacity: 16 GB\n",
      "Storage Capacity: 1 TB\n",
      "Storage Type: SSD\n"
     ]
    }
   ],
   "source": [
    "class CPU:\n",
    "    def __init__(self, brand, speed):\n",
    "        self.brand = brand\n",
    "        self.speed = speed\n",
    "\n",
    "    def process(self):\n",
    "        print(f\"{self.brand} CPU running at {self.speed} GHz\")\n",
    "\n",
    "class RAM:\n",
    "    def __init__(self, capacity):\n",
    "        self.capacity = capacity\n",
    "\n",
    "    def info(self):\n",
    "        print(f\"RAM Capacity: {self.capacity} GB\")\n",
    "\n",
    "class Storage:\n",
    "    def __init__(self, capacity, storage_type):\n",
    "        self.capacity = capacity\n",
    "        self.storage_type = storage_type\n",
    "\n",
    "    def info(self):\n",
    "        print(f\"Storage Capacity: {self.capacity} TB\")\n",
    "        print(f\"Storage Type: {self.storage_type}\")\n",
    "\n",
    "class ComputerSystem:\n",
    "    def __init__(self, cpu, ram, storage):\n",
    "        self.cpu = cpu  # Composition: ComputerSystem has a CPU\n",
    "        self.ram = ram  # Composition: ComputerSystem has RAM\n",
    "        self.storage = storage  # Composition: ComputerSystem has Storage\n",
    "\n",
    "    def system_info(self):\n",
    "        print(\"Computer System Information:\")\n",
    "        self.cpu.process()\n",
    "        self.ram.info()\n",
    "        self.storage.info()\n",
    "\n",
    "# Example usage:\n",
    "\n",
    "# Creating components\n",
    "cpu = CPU(\"Intel\", 3.5)\n",
    "ram = RAM(16)  # 16 GB RAM\n",
    "storage = Storage(1, \"SSD\")  # 1 TB SSD storage\n",
    "\n",
    "# Creating a ComputerSystem object with CPU, RAM, and Storage as compositions\n",
    "my_computer = ComputerSystem(cpu, ram, storage)\n",
    "\n",
    "# Displaying computer system information\n",
    "my_computer.system_info()\n"
   ]
  },
  {
   "cell_type": "markdown",
   "id": "459a9141-ae92-4a78-afca-dd4516d55d77",
   "metadata": {},
   "source": [
    "q.9"
   ]
  },
  {
   "cell_type": "markdown",
   "id": "7a4c5124-59df-4464-89eb-d9fa68773683",
   "metadata": {},
   "source": [
    "Delegation in Composition:\n",
    "\n",
    "Delegation in composition refers to the practice of passing the responsibility of handling a certain task from one object to another. In object-oriented programming, this means that an object delegates some of its responsibilities to another object. This is achieved by composing objects and then allowing one object to call methods or access properties of another object to perform a specific task. Delegation is a fundamental concept in composition, allowing for the creation of modular, reusable, and maintainable code.\n",
    "\n",
    "How Delegation Simplifies the Design of Complex Systems:\n",
    "\n",
    "Modularity:\n",
    "\n",
    "Delegation encourages modularity by breaking down complex tasks into smaller, manageable components. Each object is responsible for a specific aspect of the system's behavior. By delegating tasks, the design becomes more modular and each class becomes a self-contained, cohesive unit.\n",
    "Flexibility:\n",
    "\n",
    "Delegation promotes flexibility by allowing objects to be replaced or modified independently. If a component needs to change its behavior, you can replace it with a different object that implements the same interface. This flexibility is vital for adapting to changing requirements and integrating new features.\n",
    "Code Reusability:\n",
    "\n",
    "Delegation leads to code reusability as objects can be reused in various contexts. By composing objects and delegating tasks, you create components that can be easily reused in different parts of the system or even in different projects. This reuse reduces redundancy and promotes efficient code sharing.\n",
    "Encapsulation:\n",
    "\n",
    "Delegation encourages encapsulation because objects can hide their internal implementation details. By delegating specific tasks, objects can maintain their state and behavior, allowing for changes in one object without affecting other objects as long as the interface remains consistent.\n",
    "Easier Maintenance:\n",
    "\n",
    "Delegation simplifies maintenance because each object focuses on a specific task. Changes and bug fixes can often be localized to specific components, making the code easier to understand, modify, and debug. This ease of maintenance is crucial for long-term software projects.\n",
    "Clear Responsibilities:\n",
    "\n",
    "Delegation helps in defining clear responsibilities for each object. Each object knows its role and performs a specific set of tasks. This clear division of labor enhances the readability and comprehensibility of the codebase.\n",
    "Promoting Collaboration:\n",
    "\n",
    "Delegation allows different objects to collaborate seamlessly. Each object can interact with other objects by delegating tasks, leading to a more collaborative and cooperative system design.\n",
    "In summary, delegation in composition simplifies the design of complex systems by promoting modularity, flexibility, code reusability, encapsulation, easier maintenance, clear responsibilities, and collaborative interactions. It enables the creation of robust, maintainable, and extensible software systems by breaking down tasks into smaller, manageable components.\n",
    "\n",
    "\n",
    "\n",
    "\n"
   ]
  },
  {
   "cell_type": "markdown",
   "id": "2c636f31-e315-4848-ae74-bd1c3a6ea206",
   "metadata": {},
   "source": [
    "q.10"
   ]
  },
  {
   "cell_type": "code",
   "execution_count": 48,
   "id": "85bb5fd5-5dd7-49cb-9ebe-97743f4f3dcc",
   "metadata": {},
   "outputs": [],
   "source": [
    "#Certainly! Here's an example of a Python class for a car, utilizing composition to represent components like the engine, wheels, and transmission:"
   ]
  },
  {
   "cell_type": "code",
   "execution_count": 49,
   "id": "e1b664a9-181e-47de-b17d-6b0db06bbe03",
   "metadata": {},
   "outputs": [
    {
     "name": "stdout",
     "output_type": "stream",
     "text": [
      "Starting the car:\n",
      "Engine started.\n",
      "Wheel rotating.\n",
      "Wheel rotating.\n",
      "Wheel rotating.\n",
      "Wheel rotating.\n",
      "Car started.\n",
      "Changing gear:\n",
      "Changed to gear 2.\n",
      "Gear changed.\n",
      "Stopping the car:\n",
      "Engine stopped.\n",
      "Car stopped.\n"
     ]
    }
   ],
   "source": [
    "class Engine:\n",
    "    def start(self):\n",
    "        print(\"Engine started.\")\n",
    "\n",
    "    def stop(self):\n",
    "        print(\"Engine stopped.\")\n",
    "\n",
    "class Wheel:\n",
    "    def rotate(self):\n",
    "        print(\"Wheel rotating.\")\n",
    "\n",
    "class Transmission:\n",
    "    def change_gear(self, gear):\n",
    "        print(f\"Changed to gear {gear}.\")\n",
    "\n",
    "class Car:\n",
    "    def __init__(self):\n",
    "        self.engine = Engine()  # Composition: Car has an Engine\n",
    "        self.wheels = [Wheel() for _ in range(4)]  # Composition: Car has four Wheels\n",
    "        self.transmission = Transmission()  # Composition: Car has a Transmission\n",
    "\n",
    "    def start(self):\n",
    "        print(\"Starting the car:\")\n",
    "        self.engine.start()\n",
    "        for wheel in self.wheels:\n",
    "            wheel.rotate()\n",
    "        print(\"Car started.\")\n",
    "\n",
    "    def stop(self):\n",
    "        print(\"Stopping the car:\")\n",
    "        self.engine.stop()\n",
    "        print(\"Car stopped.\")\n",
    "\n",
    "    def change_gear(self, gear):\n",
    "        print(\"Changing gear:\")\n",
    "        self.transmission.change_gear(gear)\n",
    "        print(\"Gear changed.\")\n",
    "\n",
    "# Example usage:\n",
    "\n",
    "# Creating a Car object with Engine, Wheels, and Transmission as compositions\n",
    "my_car = Car()\n",
    "\n",
    "# Operating the car\n",
    "my_car.start()\n",
    "my_car.change_gear(2)\n",
    "my_car.stop()\n"
   ]
  },
  {
   "cell_type": "markdown",
   "id": "bfc26a6c-3d79-401d-aec4-ed776175caff",
   "metadata": {},
   "source": [
    "q.11"
   ]
  },
  {
   "cell_type": "markdown",
   "id": "1e24c292-48ce-4e6a-a0a2-100d9ced926a",
   "metadata": {},
   "source": [
    "Encapsulation in object-oriented programming refers to the bundling of data (attributes) and methods (functions) that operate on the data into a single unit known as a class. Encapsulation helps in hiding the internal details of an object and exposing only what is necessary. When it comes to composition and maintaining abstraction, encapsulation plays a crucial role in ensuring that the details of composed objects are hidden and accessed through well-defined interfaces.\n",
    "\n",
    "Here are some techniques to encapsulate and hide the details of composed objects in Python classes:\n",
    "\n",
    "1. Private Attributes and Methods:\n",
    "Use private attributes and methods by prefixing their names with a double underscore (__). This makes them inaccessible from outside the class. Methods that manipulate the composed objects can be private, ensuring that their details are hidden from external code.\n",
    "Example:"
   ]
  },
  {
   "cell_type": "code",
   "execution_count": 51,
   "id": "8d8dbd3b-9e1f-4628-adf3-fbdd4fdf4da9",
   "metadata": {},
   "outputs": [],
   "source": [
    "class Car:\n",
    "    def __init__(self):\n",
    "        self.__engine = Engine()  # Private attribute\n",
    "    \n",
    "    def __start_engine(self):  # Private method\n",
    "        self.__engine.start()\n"
   ]
  },
  {
   "cell_type": "code",
   "execution_count": 52,
   "id": "e4737080-a389-463d-8311-6505c005d350",
   "metadata": {},
   "outputs": [],
   "source": [
    "#2. Property Decorators:\n",
    "#Use property decorators to create getter and setter methods for accessing private attributes. This allows you to control how attributes are accessed and modified, enabling validation and encapsulation"
   ]
  },
  {
   "cell_type": "code",
   "execution_count": 53,
   "id": "1000c98d-8911-445c-af90-2854741adfca",
   "metadata": {},
   "outputs": [],
   "source": [
    "class Car:\n",
    "    def __init__(self):\n",
    "        self.__engine = Engine()  # Private attribute\n",
    "    \n",
    "    @property\n",
    "    def engine(self):\n",
    "        return self.__engine\n",
    "    \n",
    "    @engine.setter\n",
    "    def engine(self, new_engine):\n",
    "        # Additional validation logic if needed\n",
    "        self.__engine = new_engine\n"
   ]
  },
  {
   "cell_type": "code",
   "execution_count": 54,
   "id": "5825c19e-8d0f-443b-81a6-3c77555cf462",
   "metadata": {},
   "outputs": [],
   "source": [
    "#3. Getter and Setter Methods:\n",
    "#Provide public getter and setter methods to access and modify the private attributes. This approach allows you to encapsulate the internal representation of the composed object and maintain abstraction."
   ]
  },
  {
   "cell_type": "code",
   "execution_count": 55,
   "id": "19995c9b-1099-4513-8eaf-0562f6901a2e",
   "metadata": {},
   "outputs": [],
   "source": [
    "class Car:\n",
    "    def __init__(self):\n",
    "        self.__engine = Engine()  # Private attribute\n",
    "    \n",
    "    def get_engine(self):\n",
    "        return self.__engine\n",
    "    \n",
    "    def set_engine(self, new_engine):\n",
    "        # Additional validation logic if needed\n",
    "        self.__engine = new_engine\n"
   ]
  },
  {
   "cell_type": "code",
   "execution_count": 56,
   "id": "a1f7e49b-31dc-4bdd-8454-4c1adaf8fede",
   "metadata": {},
   "outputs": [],
   "source": [
    "#4. Interface Design:\n",
    "#Define clear and well-documented interfaces for the composed objects. By exposing only essential methods and attributes through the interface, you can ensure that users of the class interact with the composed objects in a way that maintains abstraction and encapsulation."
   ]
  },
  {
   "cell_type": "code",
   "execution_count": 57,
   "id": "ecf8d55d-7637-4d81-aca0-5ccb380e4d65",
   "metadata": {},
   "outputs": [],
   "source": [
    "class Engine:\n",
    "    def start(self):\n",
    "        pass  # Implementation details hidden\n",
    "\n",
    "    def stop(self):\n",
    "        pass  # Implementation details hidden\n"
   ]
  },
  {
   "cell_type": "markdown",
   "id": "f963d5d8-8afe-4bde-96ee-4e70ebef4ead",
   "metadata": {},
   "source": [
    "q.12"
   ]
  },
  {
   "cell_type": "code",
   "execution_count": 58,
   "id": "672867da-b74a-4279-85ed-b015230b7dc3",
   "metadata": {},
   "outputs": [],
   "source": [
    "#Certainly! Here's an example of a Python class for a university course, utilizing composition to represent students, instructors, and course materials:"
   ]
  },
  {
   "cell_type": "code",
   "execution_count": 59,
   "id": "f6810314-ad54-4886-adcc-233c81de314e",
   "metadata": {},
   "outputs": [
    {
     "name": "stdout",
     "output_type": "stream",
     "text": [
      "Course Code: CS101\n",
      "Course Name: Python Programming\n",
      "Instructor: Dr. Smith\n",
      "Students:\n",
      "- Alice\n",
      "- Bob\n",
      "Course Material: Introduction to Python\n",
      "Content: Basic Python programming concepts.\n"
     ]
    }
   ],
   "source": [
    "class Student:\n",
    "    def __init__(self, student_id, name):\n",
    "        self.student_id = student_id\n",
    "        self.name = name\n",
    "\n",
    "class Instructor:\n",
    "    def __init__(self, instructor_id, name):\n",
    "        self.instructor_id = instructor_id\n",
    "        self.name = name\n",
    "\n",
    "class CourseMaterial:\n",
    "    def __init__(self, title, content):\n",
    "        self.title = title\n",
    "        self.content = content\n",
    "\n",
    "class UniversityCourse:\n",
    "    def __init__(self, course_code, course_name, instructor, students, course_material):\n",
    "        self.course_code = course_code\n",
    "        self.course_name = course_name\n",
    "        self.instructor = instructor  # Composition: UniversityCourse has an Instructor\n",
    "        self.students = students  # Composition: UniversityCourse has a list of Students\n",
    "        self.course_material = course_material  # Composition: UniversityCourse has CourseMaterial\n",
    "\n",
    "    def display_course_info(self):\n",
    "        print(f\"Course Code: {self.course_code}\")\n",
    "        print(f\"Course Name: {self.course_name}\")\n",
    "        print(f\"Instructor: {self.instructor.name}\")\n",
    "        print(\"Students:\")\n",
    "        for student in self.students:\n",
    "            print(f\"- {student.name}\")\n",
    "        print(f\"Course Material: {self.course_material.title}\")\n",
    "        print(f\"Content: {self.course_material.content}\")\n",
    "\n",
    "# Example usage:\n",
    "\n",
    "# Creating students\n",
    "student1 = Student(1, \"Alice\")\n",
    "student2 = Student(2, \"Bob\")\n",
    "\n",
    "# Creating an instructor\n",
    "instructor = Instructor(101, \"Dr. Smith\")\n",
    "\n",
    "# Creating course material\n",
    "material = CourseMaterial(\"Introduction to Python\", \"Basic Python programming concepts.\")\n",
    "\n",
    "# Creating a UniversityCourse object with Instructor, Students, and CourseMaterial as compositions\n",
    "course = UniversityCourse(\"CS101\", \"Python Programming\", instructor, [student1, student2], material)\n",
    "\n",
    "# Displaying course information\n",
    "course.display_course_info()\n"
   ]
  },
  {
   "cell_type": "markdown",
   "id": "b8bc578e-bbd4-428b-a7a6-47be94d2584c",
   "metadata": {},
   "source": [
    "q.13"
   ]
  },
  {
   "cell_type": "markdown",
   "id": "a0982a48-b626-4ad1-864f-b2a1500fb6d8",
   "metadata": {},
   "source": [
    "While composition is a powerful design principle, it does come with its own challenges and drawbacks that need to be considered when implementing complex systems. Here are some of the challenges and drawbacks associated with composition:\n",
    "\n",
    "1. Increased Complexity:\n",
    "As systems grow, the number of composed objects and their relationships can become complex and harder to manage. Understanding how all the components interact and ensuring proper coordination between them can be challenging.\n",
    "2. Tight Coupling Between Objects:\n",
    "In some cases, objects can become tightly coupled due to composition. Tight coupling occurs when the components of an object are highly dependent on one another. If changes are made in one component, it might necessitate changes in multiple other components, leading to a cascade of modifications. This violates the principle of loose coupling, making the system less flexible and more difficult to maintain.\n",
    "3. Difficulties in Debugging and Testing:\n",
    "With composition, the behavior of an object often depends on the interactions between its components. Debugging issues and testing the system can become complicated due to the intricate relationships between objects. Identifying the source of problems can be challenging when it involves multiple interconnected components.\n",
    "4. Increased Initialization Complexity:\n",
    "Objects and their components need to be properly initialized. As the number of components increases, managing the initialization process can become complex. Ensuring that components are created and configured correctly, and in the right order, can lead to initialization challenges.\n",
    "5. Inconsistency in Interface:\n",
    "When multiple components are used in composition, ensuring consistency in their interfaces can be difficult. Different components might have different methods and properties, leading to inconsistencies in how they are used. This lack of uniformity can complicate the overall design and usage of the composed objects.\n",
    "6. Performance Overhead:\n",
    "Depending on the implementation, there can be a performance overhead associated with composition. Accessing methods and properties through multiple layers of composed objects might introduce additional function call overhead. While this overhead is usually negligible in most applications, it can be a concern in performance-critical systems.\n",
    "7. Maintenance Challenges:\n",
    "Maintenance becomes challenging as the system evolves. Modifying the behavior of one component might have unintended consequences on other components. As a result, making changes to the system can be risky and might require extensive testing to ensure that existing functionality is not compromised.\n",
    "8. Complex Dependency Management:\n",
    "Managing dependencies between objects and ensuring that the correct versions of components are used can be challenging. Changes in one component might require updates in other components that depend on it, leading to complex dependency management issues.\n",
    "9. Difficulty in Understanding Relationships:\n",
    "Understanding the relationships and dependencies between objects can be complex, especially for new developers joining a project. Proper documentation and well-defined interfaces are crucial to mitigate this challenge.\n",
    "While composition is a valuable tool for creating flexible and maintainable software systems, it should be used judiciously. Careful planning, clear interfaces, and proper documentation can help mitigate these challenges and allow developers to harness the benefits of composition while minimizing its drawbacks."
   ]
  },
  {
   "cell_type": "markdown",
   "id": "c5e449e4-9a8a-4022-a87e-f0d124477fb7",
   "metadata": {},
   "source": [
    "q.14"
   ]
  },
  {
   "cell_type": "code",
   "execution_count": 61,
   "id": "efba6b34-f6ee-4b37-a3d0-a35c613961ed",
   "metadata": {},
   "outputs": [],
   "source": [
    "#Certainly! Here's an example of a Python class hierarchy for a restaurant system, utilizing composition to represent menus, dishes, and ingredients:"
   ]
  },
  {
   "cell_type": "code",
   "execution_count": 62,
   "id": "92c5128f-113b-418c-9aa7-7d0358396de3",
   "metadata": {},
   "outputs": [
    {
     "name": "stdout",
     "output_type": "stream",
     "text": [
      "Menu: Italian Menu\n",
      "Dishes:\n",
      "Dish: Pizza\n",
      "Ingredients:\n",
      "- Tomato\n",
      "- Cheese\n",
      "- Dough\n",
      "Dish: Pasta\n",
      "Ingredients:\n",
      "- Tomato\n",
      "- Cheese\n"
     ]
    }
   ],
   "source": [
    "class Ingredient:\n",
    "    def __init__(self, name):\n",
    "        self.name = name\n",
    "\n",
    "class Dish:\n",
    "    def __init__(self, name, ingredients):\n",
    "        self.name = name\n",
    "        self.ingredients = ingredients  # Composition: Dish has a list of Ingredients\n",
    "\n",
    "    def display_dish(self):\n",
    "        print(f\"Dish: {self.name}\")\n",
    "        print(\"Ingredients:\")\n",
    "        for ingredient in self.ingredients:\n",
    "            print(f\"- {ingredient.name}\")\n",
    "\n",
    "class Menu:\n",
    "    def __init__(self, name, dishes):\n",
    "        self.name = name\n",
    "        self.dishes = dishes  # Composition: Menu has a list of Dishes\n",
    "\n",
    "    def display_menu(self):\n",
    "        print(f\"Menu: {self.name}\")\n",
    "        print(\"Dishes:\")\n",
    "        for dish in self.dishes:\n",
    "            dish.display_dish()\n",
    "\n",
    "# Example usage:\n",
    "\n",
    "# Creating ingredients\n",
    "ingredient1 = Ingredient(\"Tomato\")\n",
    "ingredient2 = Ingredient(\"Cheese\")\n",
    "ingredient3 = Ingredient(\"Dough\")\n",
    "ingredient4 = Ingredient(\"Mushrooms\")\n",
    "\n",
    "# Creating dishes\n",
    "pizza = Dish(\"Pizza\", [ingredient1, ingredient2, ingredient3])\n",
    "pasta = Dish(\"Pasta\", [ingredient1, ingredient2])\n",
    "\n",
    "# Creating a menu with dishes as compositions\n",
    "italian_menu = Menu(\"Italian Menu\", [pizza, pasta])\n",
    "\n",
    "# Displaying menu information\n",
    "italian_menu.display_menu()\n"
   ]
  },
  {
   "cell_type": "markdown",
   "id": "c878fb0d-24ff-4145-aa08-0bb7b670fa0c",
   "metadata": {},
   "source": [
    "q.15"
   ]
  },
  {
   "cell_type": "markdown",
   "id": "176fa1a7-9942-424f-86cb-6e9353c54698",
   "metadata": {},
   "source": [
    "Composition is a programming technique where complex objects or behaviors are built by combining simpler objects. In Python, this is typically achieved through the use of classes and objects. Here's how composition enhances code maintainability and modularity in Python programs:\n",
    "\n",
    "1. Code Reusability:\n",
    "Composition allows you to create small, focused classes that do one thing well. These classes can be reused in different parts of your program or even in other projects. For instance, you can create a generic DatabaseConnection class that handles database interactions, and use it in various parts of your application.\n",
    "\n",
    "2. Modularity:\n",
    "By breaking down the functionality of a program into smaller, self-contained modules, you make the codebase easier to understand and manage. Each class represents a module with a specific purpose. Modularity encourages a clear separation of concerns, where each class handles a specific aspect of the application.\n",
    "\n",
    "3. Maintainability:\n",
    "With composition, if you need to change the behavior of a specific component, you can focus on that class without having to modify the entire codebase. This localizes changes, making it easier to maintain and debug the code. Changes in one module don’t directly impact others as long as the interface between them remains consistent.\n",
    "\n",
    "4. Flexibility and Extensibility:\n",
    "Composition allows you to add new features or modify existing ones without altering existing code. You can create new classes and integrate them into your program without affecting the existing components. This flexibility is essential for accommodating changing requirements.\n",
    "\n",
    "5. Encapsulation:\n",
    "Each class encapsulates its own behavior. This means that the internal workings of a class are hidden from the outside world. External code interacts with the class through a well-defined interface. This encapsulation protects the integrity of the data and behavior of the class, making it easier to reason about.\n",
    "\n",
    "6. Readability and Understandability:\n",
    "Code composed of small, focused classes tends to be more readable. When each class has a specific purpose, it's easier for developers to understand the codebase. Understanding smaller, self-contained modules is generally simpler than understanding a monolithic, tightly coupled codebase.\n",
    "\n",
    "7. Testing:\n",
    "Classes created through composition are easier to test. You can create unit tests for individual classes, mocking the behavior of other classes they depend on. This isolated testing ensures that each component works as intended, making it easier to identify and fix issues.\n",
    "\n",
    "8. Collaborative Development:\n",
    "In collaborative environments, different team members can work on different classes or modules independently. As long as they adhere to the defined interfaces, integration becomes relatively seamless. This parallel development is facilitated by the modularity inherent in composed code.\n",
    "\n",
    "In summary, composition in Python promotes clean, maintainable, and modular code by encouraging the division of functionality into smaller, reusable components. This approach simplifies development, debugging, and testing processes, making it easier to build and maintain complex software systems."
   ]
  },
  {
   "cell_type": "markdown",
   "id": "cefbded9-e7db-43d3-bcb9-3c37bab87db6",
   "metadata": {},
   "source": [
    "q.16"
   ]
  },
  {
   "cell_type": "code",
   "execution_count": 63,
   "id": "8000c05c-1bbc-4bf7-b8ad-f08cdb96b6cd",
   "metadata": {},
   "outputs": [],
   "source": [
    "#Certainly! Below is an example of a Python class for a game character that utilizes composition to represent attributes such as weapons, armor, and inventory:"
   ]
  },
  {
   "cell_type": "code",
   "execution_count": 64,
   "id": "0da1cbd8-43bf-461f-8424-0dc78cc2a8a7",
   "metadata": {},
   "outputs": [
    {
     "name": "stdout",
     "output_type": "stream",
     "text": [
      "Hero - Health: 100\n",
      "Weapon: Sword - Damage: 10\n",
      "Armor: Shield - Defense: 5\n",
      "Inventory of Hero:\n",
      "Health Potion - Quantity: 3\n"
     ]
    }
   ],
   "source": [
    "class Weapon:\n",
    "    def __init__(self, name, damage):\n",
    "        self.name = name\n",
    "        self.damage = damage\n",
    "\n",
    "class Armor:\n",
    "    def __init__(self, name, defense):\n",
    "        self.name = name\n",
    "        self.defense = defense\n",
    "\n",
    "class InventoryItem:\n",
    "    def __init__(self, name, quantity):\n",
    "        self.name = name\n",
    "        self.quantity = quantity\n",
    "\n",
    "class Character:\n",
    "    def __init__(self, name, health):\n",
    "        self.name = name\n",
    "        self.health = health\n",
    "        self.weapon = None\n",
    "        self.armor = None\n",
    "        self.inventory = []\n",
    "\n",
    "    def equip_weapon(self, weapon):\n",
    "        self.weapon = weapon\n",
    "\n",
    "    def equip_armor(self, armor):\n",
    "        self.armor = armor\n",
    "\n",
    "    def add_item_to_inventory(self, item):\n",
    "        self.inventory.append(item)\n",
    "\n",
    "    def display_inventory(self):\n",
    "        print(f\"Inventory of {self.name}:\")\n",
    "        for item in self.inventory:\n",
    "            print(f\"{item.name} - Quantity: {item.quantity}\")\n",
    "\n",
    "# Example Usage:\n",
    "# Creating weapons, armor, and inventory items\n",
    "sword = Weapon(\"Sword\", 10)\n",
    "shield = Armor(\"Shield\", 5)\n",
    "health_potion = InventoryItem(\"Health Potion\", 3)\n",
    "\n",
    "# Creating a character and equipping items\n",
    "hero = Character(\"Hero\", 100)\n",
    "hero.equip_weapon(sword)\n",
    "hero.equip_armor(shield)\n",
    "hero.add_item_to_inventory(health_potion)\n",
    "\n",
    "# Displaying character information and inventory\n",
    "print(f\"{hero.name} - Health: {hero.health}\")\n",
    "print(f\"Weapon: {hero.weapon.name} - Damage: {hero.weapon.damage}\")\n",
    "print(f\"Armor: {hero.armor.name} - Defense: {hero.armor.defense}\")\n",
    "\n",
    "hero.display_inventory()\n"
   ]
  },
  {
   "cell_type": "markdown",
   "id": "a343fb6a-4635-4f09-be7d-d962a0c70c68",
   "metadata": {},
   "source": [
    "q.17"
   ]
  },
  {
   "cell_type": "markdown",
   "id": "4550ec4b-cc5c-4717-9ca1-b5bac28bf464",
   "metadata": {},
   "source": [
    "Aggregation is a specific type of composition in object-oriented programming where one class contains objects of another class as its members. It represents a whole/part or a \"has-a\" relationship. Unlike simple composition, aggregation implies a relationship where the contained objects can exist independently of the container. This means that if the container is destroyed, the contained objects can still exist.\n",
    "\n",
    "Here's how aggregation differs from simple composition:\n",
    "\n",
    "1. Independence of Objects:\n",
    "Composition:\n",
    "In simple composition, the lifetime of the contained objects is tightly bound to the container. If the container is destroyed, all its contained objects are also destroyed. They cannot exist independently.\n",
    "\n",
    "Aggregation:\n",
    "In aggregation, the contained objects can exist independently of the container. If the container is destroyed, the contained objects can continue to exist. For example, consider a university (container) having students (contained objects). Even if the university ceases to exist, the students can still exist as separate entities.\n",
    "\n",
    "2. Cardinality:\n",
    "Composition:\n",
    "In simple composition, there is usually a one-to-one or a one-to-many relationship between the container and the contained objects. One container object holds one or more contained objects.\n",
    "\n",
    "Aggregation:\n",
    "Aggregation often implies a one-to-many relationship. One container object can hold multiple contained objects. These contained objects can be shared among multiple containers, emphasizing their independence.\n",
    "\n",
    "3. Ownership:\n",
    "Composition:\n",
    "The container in simple composition typically owns the contained objects. It is responsible for their creation, initialization, and destruction.\n",
    "\n",
    "Aggregation:\n",
    "In aggregation, the contained objects are not owned by the container. They are created and managed independently. The container might have references to these objects, but it doesn't control their lifecycle entirely.\n",
    "\n",
    "4. Flexibility:\n",
    "Composition:\n",
    "Simple composition provides less flexibility because the contained objects are tightly coupled with the container. Changes in the structure of the container can have a significant impact on the contained objects.\n",
    "\n",
    "Aggregation:\n",
    "Aggregation provides more flexibility because the contained objects can be shared among multiple containers. This makes it easier to modify the relationships between objects without affecting their individual existence.\n",
    "\n",
    "In summary, aggregation in composition represents a looser relationship between objects compared to simple composition. Aggregation allows for greater flexibility, independence of objects, and a more natural representation of real-world relationships where objects can exist independently of the container that holds them.\n",
    "\n",
    "\n",
    "\n",
    "\n"
   ]
  },
  {
   "cell_type": "markdown",
   "id": "da6e46c3-1ed4-47c8-a308-06b7430c6760",
   "metadata": {},
   "source": [
    "q.18"
   ]
  },
  {
   "cell_type": "code",
   "execution_count": 65,
   "id": "b15c27e4-0924-47b5-aec6-410437f4f971",
   "metadata": {},
   "outputs": [],
   "source": [
    "\n",
    "#Certainly! Here's an example of a Python class for a house that uses composition to represent rooms, furniture, and appliances:"
   ]
  },
  {
   "cell_type": "code",
   "execution_count": 66,
   "id": "32944ca6-df91-42b2-902f-d98135532cd2",
   "metadata": {},
   "outputs": [
    {
     "name": "stdout",
     "output_type": "stream",
     "text": [
      "House at 123 Main St\n",
      "Room: Living Room\n",
      "  Furniture: Sofa, Coffee Table\n",
      "  Appliances: Television\n",
      "Room: Kitchen\n",
      "  Furniture: Dining Table\n",
      "  Appliances: Refrigerator, Microwave\n"
     ]
    }
   ],
   "source": [
    "class Furniture:\n",
    "    def __init__(self, name):\n",
    "        self.name = name\n",
    "\n",
    "    def __str__(self):\n",
    "        return f\"{self.name}\"\n",
    "\n",
    "class Appliance:\n",
    "    def __init__(self, name):\n",
    "        self.name = name\n",
    "\n",
    "    def __str__(self):\n",
    "        return f\"{self.name}\"\n",
    "\n",
    "class Room:\n",
    "    def __init__(self, name):\n",
    "        self.name = name\n",
    "        self.furniture = []\n",
    "        self.appliances = []\n",
    "\n",
    "    def add_furniture(self, furniture):\n",
    "        self.furniture.append(furniture)\n",
    "\n",
    "    def add_appliance(self, appliance):\n",
    "        self.appliances.append(appliance)\n",
    "\n",
    "    def __str__(self):\n",
    "        furniture_str = ', '.join(str(f) for f in self.furniture)\n",
    "        appliances_str = ', '.join(str(a) for a in self.appliances)\n",
    "        return f\"Room: {self.name}\\n  Furniture: {furniture_str}\\n  Appliances: {appliances_str}\"\n",
    "\n",
    "class House:\n",
    "    def __init__(self, address):\n",
    "        self.address = address\n",
    "        self.rooms = []\n",
    "\n",
    "    def add_room(self, room):\n",
    "        self.rooms.append(room)\n",
    "\n",
    "    def __str__(self):\n",
    "        rooms_str = '\\n'.join(str(r) for r in self.rooms)\n",
    "        return f\"House at {self.address}\\n{rooms_str}\"\n",
    "\n",
    "# Example Usage:\n",
    "living_room = Room(\"Living Room\")\n",
    "living_room.add_furniture(Furniture(\"Sofa\"))\n",
    "living_room.add_furniture(Furniture(\"Coffee Table\"))\n",
    "living_room.add_appliance(Appliance(\"Television\"))\n",
    "\n",
    "kitchen = Room(\"Kitchen\")\n",
    "kitchen.add_furniture(Furniture(\"Dining Table\"))\n",
    "kitchen.add_appliance(Appliance(\"Refrigerator\"))\n",
    "kitchen.add_appliance(Appliance(\"Microwave\"))\n",
    "\n",
    "my_house = House(\"123 Main St\")\n",
    "my_house.add_room(living_room)\n",
    "my_house.add_room(kitchen)\n",
    "\n",
    "print(my_house)\n"
   ]
  },
  {
   "cell_type": "markdown",
   "id": "7a47f3f4-187c-470e-af3a-8642e04180e4",
   "metadata": {},
   "source": [
    "q.19"
   ]
  },
  {
   "cell_type": "markdown",
   "id": "fd7986eb-ad55-4810-8348-e46fe43dca45",
   "metadata": {},
   "source": [
    "Achieving flexibility in composed objects, allowing them to be replaced or modified dynamically at runtime, is a key advantage of composition in object-oriented programming. Here are several techniques and design patterns that can be employed to achieve this flexibility:\n",
    "\n",
    "1. Interfaces and Polymorphism:\n",
    "Define interfaces for the components that can be replaced. Objects should be accessed through their interfaces, not concrete implementations. This allows different implementations of the same interface to be swapped at runtime.\n",
    "2. Dependency Injection:\n",
    "Instead of creating dependencies inside a class, pass them as parameters during object creation. This way, you can inject different implementations of dependencies at runtime, making it easy to replace components.\n",
    "3. Factory Pattern:\n",
    "Use a factory to create objects. Factories encapsulate the instantiation logic and allow you to create different implementations of objects based on certain conditions or configurations.\n",
    "4. Strategy Pattern:\n",
    "Define a family of algorithms, encapsulate each one, and make them interchangeable. This pattern allows a client to choose an appropriate algorithm from a set of algorithms at runtime. Strategies can be composed within other objects.\n",
    "5. Dependency Injection Containers (IoC Containers):\n",
    "Use IoC containers that manage the creation and resolution of object dependencies. These containers can inject the appropriate implementations of components based on configurations or runtime conditions.\n",
    "6. Decorator Pattern:\n",
    "Allows behavior to be added to individual objects, either statically or dynamically, without affecting the behavior of other objects from the same class. This is achieved by designing new decorator classes that wrap existing components and add new functionality.\n",
    "7. Event-Driven Programming:\n",
    "Implement an event-driven architecture where components can subscribe to events and react to them. This decouples components and allows for dynamic changes in behavior based on the events triggered at runtime.\n",
    "8. Configuration Files:\n",
    "Store configuration settings externally in files or databases. Components can be initialized based on these configurations, allowing for changes in behavior without modifying the code.\n",
    "9. Reflection and Metadata:\n",
    "Use reflection and metadata to inspect and manipulate classes, methods, properties, and other components of a program at runtime. This can enable dynamic composition and modification of objects based on runtime conditions.\n",
    "10. Service Locator Pattern:\n",
    "Use a central registry known as the \"service locator\" which contains the references to the services or components. Components can request their dependencies from the service locator, allowing for easy replacement or modification of components.\n",
    "By applying these techniques and design patterns, composed objects can be made highly flexible, allowing them to be replaced or modified dynamically at runtime without altering the core logic of the application. These approaches promote modularity, maintainability, and adaptability in object-oriented systems.\n",
    "\n",
    "\n",
    "\n",
    "\n"
   ]
  },
  {
   "cell_type": "markdown",
   "id": "cdd0f623-cf92-472c-9cf0-51bbaf09c6bc",
   "metadata": {},
   "source": [
    "q.20"
   ]
  },
  {
   "cell_type": "code",
   "execution_count": 67,
   "id": "e8103052-3244-4f73-afe4-91f4a66a0771",
   "metadata": {},
   "outputs": [],
   "source": [
    "#Certainly! Here's an example of a Python class for a social media application that uses composition to represent users, posts, and comments:"
   ]
  },
  {
   "cell_type": "code",
   "execution_count": 68,
   "id": "d42c3905-b020-4b8d-93f7-8cbb45ebc438",
   "metadata": {},
   "outputs": [
    {
     "name": "stdout",
     "output_type": "stream",
     "text": [
      "User: Alice, Email: alice@email.com\n",
      "User: Bob, Email: bob@email.com\n",
      "Post: Hello, this is my first post!\n",
      "Post: Nice weather today!\n",
      "Comment: I agree, the weather is amazing!\n",
      "Comment: Welcome to the social media platform!\n"
     ]
    }
   ],
   "source": [
    "class User:\n",
    "    def __init__(self, username, email):\n",
    "        self.username = username\n",
    "        self.email = email\n",
    "        self.posts = []\n",
    "    \n",
    "    def create_post(self, content):\n",
    "        post = Post(content)\n",
    "        self.posts.append(post)\n",
    "        return post\n",
    "\n",
    "    def add_comment(self, post, text):\n",
    "        comment = Comment(text)\n",
    "        post.add_comment(comment)\n",
    "        return comment\n",
    "\n",
    "    def __str__(self):\n",
    "        return f\"User: {self.username}, Email: {self.email}\"\n",
    "\n",
    "class Post:\n",
    "    def __init__(self, content):\n",
    "        self.content = content\n",
    "        self.comments = []\n",
    "\n",
    "    def add_comment(self, comment):\n",
    "        self.comments.append(comment)\n",
    "\n",
    "    def __str__(self):\n",
    "        return f\"Post: {self.content}\"\n",
    "\n",
    "class Comment:\n",
    "    def __init__(self, text):\n",
    "        self.text = text\n",
    "\n",
    "    def __str__(self):\n",
    "        return f\"Comment: {self.text}\"\n",
    "\n",
    "# Example Usage:\n",
    "user1 = User(\"Alice\", \"alice@email.com\")\n",
    "user2 = User(\"Bob\", \"bob@email.com\")\n",
    "\n",
    "post1 = user1.create_post(\"Hello, this is my first post!\")\n",
    "post2 = user2.create_post(\"Nice weather today!\")\n",
    "\n",
    "user1.add_comment(post2, \"I agree, the weather is amazing!\")\n",
    "user2.add_comment(post1, \"Welcome to the social media platform!\")\n",
    "\n",
    "# Printing users, posts, and comments\n",
    "print(user1)\n",
    "print(user2)\n",
    "print(post1)\n",
    "print(post2)\n",
    "print(post2.comments[0])\n",
    "print(post1.comments[0])\n"
   ]
  },
  {
   "cell_type": "code",
   "execution_count": null,
   "id": "f7b8560f-2791-4f64-bdea-7a468683b4ff",
   "metadata": {},
   "outputs": [],
   "source": []
  }
 ],
 "metadata": {
  "kernelspec": {
   "display_name": "Python 3 (ipykernel)",
   "language": "python",
   "name": "python3"
  },
  "language_info": {
   "codemirror_mode": {
    "name": "ipython",
    "version": 3
   },
   "file_extension": ".py",
   "mimetype": "text/x-python",
   "name": "python",
   "nbconvert_exporter": "python",
   "pygments_lexer": "ipython3",
   "version": "3.10.8"
  }
 },
 "nbformat": 4,
 "nbformat_minor": 5
}
